{
  "metadata": {
    "kernelspec": {
      "name": "python3",
      "display_name": "Python 3",
      "language": "python"
    },
    "language_info": {
      "name": "python",
      "version": "3.10.14",
      "mimetype": "text/x-python",
      "codemirror_mode": {
        "name": "ipython",
        "version": 3
      },
      "pygments_lexer": "ipython3",
      "nbconvert_exporter": "python",
      "file_extension": ".py"
    },
    "colab": {
      "provenance": [],
      "collapsed_sections": [
        "AUr-bB4tcGEE",
        "vCaTt4w6r7eB"
      ],
      "toc_visible": true
    },
    "kaggle": {
      "accelerator": "nvidiaTeslaT4",
      "dataSources": [
        {
          "sourceId": 9866394,
          "sourceType": "datasetVersion",
          "datasetId": 6056077
        },
        {
          "sourceId": 9883920,
          "sourceType": "datasetVersion",
          "datasetId": 6069306
        }
      ],
      "dockerImageVersionId": 30787,
      "isInternetEnabled": true,
      "language": "python",
      "sourceType": "notebook",
      "isGpuEnabled": true
    }
  },
  "nbformat_minor": 0,
  "nbformat": 4,
  "cells": [
    {
      "cell_type": "markdown",
      "source": [
        "# **Judgements of SCP - RAG - Main Notebook**\n",
        "\n",
        "### Submitted by: Abdul Haseeb (17132), Annayah Usman (18673), Dr. Sawera Hanif (29413)"
      ],
      "metadata": {
        "id": "VunIdA44r7Ey"
      }
    },
    {
      "cell_type": "markdown",
      "source": [
        "## **Downloading Dependencies**"
      ],
      "metadata": {
        "id": "AUr-bB4tcGEE"
      }
    },
    {
      "cell_type": "code",
      "source": [
        "pip install --upgrade pip # For Annayah"
      ],
      "metadata": {
        "trusted": true,
        "execution": {
          "iopub.status.busy": "2024-11-16T20:15:15.139119Z",
          "iopub.execute_input": "2024-11-16T20:15:15.139537Z",
          "iopub.status.idle": "2024-11-16T20:15:44.888909Z",
          "shell.execute_reply.started": "2024-11-16T20:15:15.139487Z",
          "shell.execute_reply": "2024-11-16T20:15:44.887839Z"
        },
        "id": "5WRmEP3CcGEF",
        "outputId": "fa1797b8-e4ad-4879-fa1c-1738b42641e1"
      },
      "outputs": [
        {
          "name": "stdout",
          "text": "Requirement already satisfied: pip in /opt/conda/lib/python3.10/site-packages (24.0)\nCollecting pip\n  Downloading pip-24.3.1-py3-none-any.whl.metadata (3.7 kB)\nDownloading pip-24.3.1-py3-none-any.whl (1.8 MB)\n\u001b[2K   \u001b[90m━━━━━━━━━━━━━━━━━━━━━━━━━━━━━━━━━━━━━━━━\u001b[0m \u001b[32m1.8/1.8 MB\u001b[0m \u001b[31m18.6 MB/s\u001b[0m eta \u001b[36m0:00:00\u001b[0ma \u001b[36m0:00:01\u001b[0m\n\u001b[?25hInstalling collected packages: pip\n  Attempting uninstall: pip\n    Found existing installation: pip 24.0\n    Uninstalling pip-24.0:\n      Successfully uninstalled pip-24.0\nSuccessfully installed pip-24.3.1\nNote: you may need to restart the kernel to use updated packages.\n",
          "output_type": "stream"
        }
      ],
      "execution_count": null
    },
    {
      "cell_type": "code",
      "source": [
        "!pip install -q langchain_community langchain_pinecone accelerate tiktoken transformers_stream_generator einops optimum auto-gptq bitsandbytes sentence-transformers"
      ],
      "metadata": {
        "id": "u0E82IAINnXd",
        "trusted": true,
        "execution": {
          "iopub.status.busy": "2024-11-16T20:15:59.828185Z",
          "iopub.execute_input": "2024-11-16T20:15:59.828899Z",
          "iopub.status.idle": "2024-11-16T20:16:05.365242Z",
          "shell.execute_reply.started": "2024-11-16T20:15:59.828857Z",
          "shell.execute_reply": "2024-11-16T20:16:05.363992Z"
        }
      },
      "outputs": [],
      "execution_count": null
    },
    {
      "cell_type": "code",
      "source": [
        "!pip install -U bitsandbytes rank_bm25 ipython-autotime"
      ],
      "metadata": {
        "id": "nk2_uBT4lpo_",
        "outputId": "4e3c8fe7-44f1-4512-cc89-8bf12e0dc054",
        "trusted": true,
        "execution": {
          "iopub.status.busy": "2024-11-16T20:16:12.400677Z",
          "iopub.execute_input": "2024-11-16T20:16:12.401589Z",
          "iopub.status.idle": "2024-11-16T20:16:18.088620Z",
          "shell.execute_reply.started": "2024-11-16T20:16:12.401533Z",
          "shell.execute_reply": "2024-11-16T20:16:18.087461Z"
        }
      },
      "outputs": [
        {
          "name": "stdout",
          "text": "Requirement already satisfied: bitsandbytes in /opt/conda/lib/python3.10/site-packages (0.44.1)\nCollecting rank_bm25\n  Downloading rank_bm25-0.2.2-py3-none-any.whl.metadata (3.2 kB)\nCollecting ipython-autotime\n  Downloading ipython_autotime-0.3.2-py2.py3-none-any.whl.metadata (1.4 kB)\nRequirement already satisfied: torch in /opt/conda/lib/python3.10/site-packages (from bitsandbytes) (2.4.0)\nRequirement already satisfied: numpy in /opt/conda/lib/python3.10/site-packages (from bitsandbytes) (1.26.4)\nRequirement already satisfied: ipython in /opt/conda/lib/python3.10/site-packages (from ipython-autotime) (8.21.0)\nRequirement already satisfied: decorator in /opt/conda/lib/python3.10/site-packages (from ipython->ipython-autotime) (5.1.1)\nRequirement already satisfied: jedi>=0.16 in /opt/conda/lib/python3.10/site-packages (from ipython->ipython-autotime) (0.19.1)\nRequirement already satisfied: matplotlib-inline in /opt/conda/lib/python3.10/site-packages (from ipython->ipython-autotime) (0.1.7)\nRequirement already satisfied: prompt-toolkit<3.1.0,>=3.0.41 in /opt/conda/lib/python3.10/site-packages (from ipython->ipython-autotime) (3.0.47)\nRequirement already satisfied: pygments>=2.4.0 in /opt/conda/lib/python3.10/site-packages (from ipython->ipython-autotime) (2.18.0)\nRequirement already satisfied: stack-data in /opt/conda/lib/python3.10/site-packages (from ipython->ipython-autotime) (0.6.2)\nRequirement already satisfied: traitlets>=5 in /opt/conda/lib/python3.10/site-packages (from ipython->ipython-autotime) (5.14.3)\nRequirement already satisfied: exceptiongroup in /opt/conda/lib/python3.10/site-packages (from ipython->ipython-autotime) (1.2.0)\nRequirement already satisfied: pexpect>4.3 in /opt/conda/lib/python3.10/site-packages (from ipython->ipython-autotime) (4.9.0)\nRequirement already satisfied: filelock in /opt/conda/lib/python3.10/site-packages (from torch->bitsandbytes) (3.15.1)\nRequirement already satisfied: typing-extensions>=4.8.0 in /opt/conda/lib/python3.10/site-packages (from torch->bitsandbytes) (4.12.2)\nRequirement already satisfied: sympy in /opt/conda/lib/python3.10/site-packages (from torch->bitsandbytes) (1.13.3)\nRequirement already satisfied: networkx in /opt/conda/lib/python3.10/site-packages (from torch->bitsandbytes) (3.3)\nRequirement already satisfied: jinja2 in /opt/conda/lib/python3.10/site-packages (from torch->bitsandbytes) (3.1.4)\nRequirement already satisfied: fsspec in /opt/conda/lib/python3.10/site-packages (from torch->bitsandbytes) (2024.6.1)\nRequirement already satisfied: parso<0.9.0,>=0.8.3 in /opt/conda/lib/python3.10/site-packages (from jedi>=0.16->ipython->ipython-autotime) (0.8.4)\nRequirement already satisfied: ptyprocess>=0.5 in /opt/conda/lib/python3.10/site-packages (from pexpect>4.3->ipython->ipython-autotime) (0.7.0)\nRequirement already satisfied: wcwidth in /opt/conda/lib/python3.10/site-packages (from prompt-toolkit<3.1.0,>=3.0.41->ipython->ipython-autotime) (0.2.13)\nRequirement already satisfied: MarkupSafe>=2.0 in /opt/conda/lib/python3.10/site-packages (from jinja2->torch->bitsandbytes) (2.1.5)\nRequirement already satisfied: executing>=1.2.0 in /opt/conda/lib/python3.10/site-packages (from stack-data->ipython->ipython-autotime) (2.0.1)\nRequirement already satisfied: asttokens>=2.1.0 in /opt/conda/lib/python3.10/site-packages (from stack-data->ipython->ipython-autotime) (2.4.1)\nRequirement already satisfied: pure-eval in /opt/conda/lib/python3.10/site-packages (from stack-data->ipython->ipython-autotime) (0.2.2)\nRequirement already satisfied: mpmath<1.4,>=1.1.0 in /opt/conda/lib/python3.10/site-packages (from sympy->torch->bitsandbytes) (1.3.0)\nRequirement already satisfied: six>=1.12.0 in /opt/conda/lib/python3.10/site-packages (from asttokens>=2.1.0->stack-data->ipython->ipython-autotime) (1.16.0)\nDownloading rank_bm25-0.2.2-py3-none-any.whl (8.6 kB)\nDownloading ipython_autotime-0.3.2-py2.py3-none-any.whl (7.0 kB)\nInstalling collected packages: rank_bm25, ipython-autotime\nSuccessfully installed ipython-autotime-0.3.2 rank_bm25-0.2.2\n",
          "output_type": "stream"
        }
      ],
      "execution_count": null
    },
    {
      "cell_type": "code",
      "source": [
        "# !pip install -q langchain_community langchain_pinecone accelerate tiktoken transformers_stream_generator einops optimum auto-gptq bitsandbytes sentence-transformers --no-deps"
      ],
      "metadata": {
        "trusted": true,
        "execution": {
          "iopub.status.busy": "2024-11-14T06:49:20.520111Z",
          "iopub.execute_input": "2024-11-14T06:49:20.520997Z",
          "iopub.status.idle": "2024-11-14T06:49:33.806302Z",
          "shell.execute_reply.started": "2024-11-14T06:49:20.520950Z",
          "shell.execute_reply": "2024-11-14T06:49:33.805257Z"
        },
        "id": "BfqANkLPcGEH"
      },
      "outputs": [],
      "execution_count": null
    },
    {
      "cell_type": "code",
      "source": [
        "# !pip install -q langchain"
      ],
      "metadata": {
        "trusted": true,
        "execution": {
          "iopub.status.busy": "2024-11-14T10:14:42.140547Z",
          "iopub.execute_input": "2024-11-14T10:14:42.141209Z",
          "iopub.status.idle": "2024-11-14T10:14:42.148193Z",
          "shell.execute_reply.started": "2024-11-14T10:14:42.141171Z",
          "shell.execute_reply": "2024-11-14T10:14:42.147210Z"
        },
        "_kg_hide-output": false,
        "id": "Tbx1Y1odcGEH",
        "outputId": "f2f84ca8-493e-438f-cd68-71e540b3773c"
      },
      "outputs": [
        {
          "name": "stdout",
          "text": "time: 279 µs (started: 2024-11-14 10:14:42 +00:00)\n",
          "output_type": "stream"
        }
      ],
      "execution_count": null
    },
    {
      "cell_type": "markdown",
      "source": [
        "## **Importing Dependencies**"
      ],
      "metadata": {
        "id": "vCaTt4w6r7eB"
      }
    },
    {
      "cell_type": "code",
      "source": [
        "%load_ext autotime\n",
        "\n",
        "import csv\n",
        "\n",
        "import sys\n",
        "\n",
        "import numpy as np\n",
        "\n",
        "import pandas as pd\n",
        "\n",
        "from langchain.schema import Document\n",
        "\n",
        "from langchain.text_splitter import RecursiveCharacterTextSplitter\n",
        "\n",
        "from transformers import AutoModel, AutoModelForCausalLM, AutoTokenizer, pipeline, BitsAndBytesConfig\n",
        "\n",
        "from transformers.generation import GenerationConfig\n",
        "\n",
        "from langchain.embeddings import HuggingFaceEmbeddings\n",
        "\n",
        "import os\n",
        "\n",
        "import getpass\n",
        "\n",
        "import time\n",
        "\n",
        "from pinecone import Pinecone\n",
        "\n",
        "from langchain_pinecone import PineconeVectorStore\n",
        "\n",
        "import torch\n",
        "\n",
        "import optimum\n",
        "\n",
        "from huggingface_hub import login\n",
        "\n",
        "from langchain.retrievers import BM25Retriever, EnsembleRetriever\n",
        "\n",
        "from langchain.prompts import PromptTemplate\n",
        "\n",
        "from langchain_community.document_transformers import (\n",
        "    LongContextReorder,\n",
        ")\n",
        "\n",
        "import warnings\n",
        "\n",
        "warnings.filterwarnings(\"ignore\")\n",
        "\n",
        "import textwrap"
      ],
      "metadata": {
        "id": "ttFzm0AiOZui",
        "trusted": true,
        "execution": {
          "iopub.status.busy": "2024-11-16T20:16:21.124751Z",
          "iopub.execute_input": "2024-11-16T20:16:21.125689Z",
          "iopub.status.idle": "2024-11-16T20:16:40.806459Z",
          "shell.execute_reply.started": "2024-11-16T20:16:21.125646Z",
          "shell.execute_reply": "2024-11-16T20:16:40.805579Z"
        },
        "outputId": "192c547e-5454-4946-8f96-17e42423d73c"
      },
      "outputs": [
        {
          "name": "stdout",
          "text": "time: 19.7 s (started: 2024-11-16 20:16:21 +00:00)\n",
          "output_type": "stream"
        }
      ],
      "execution_count": null
    },
    {
      "cell_type": "markdown",
      "source": [
        "## **1. Loading Corpus**"
      ],
      "metadata": {
        "id": "_pvQkMDjsBoc"
      }
    },
    {
      "cell_type": "code",
      "source": [
        "df=pd.read_csv(\"/kaggle/input/scp-judgements-cleaned-with-metadata-csv/SCP_Judgements_Cleaned_with_Metadata.csv\")\n",
        "\n",
        "df.head()"
      ],
      "metadata": {
        "id": "8iS7KF78sJ98",
        "trusted": true,
        "execution": {
          "iopub.status.busy": "2024-11-16T20:16:50.147814Z",
          "iopub.execute_input": "2024-11-16T20:16:50.149388Z",
          "iopub.status.idle": "2024-11-16T20:16:50.290805Z",
          "shell.execute_reply.started": "2024-11-16T20:16:50.149344Z",
          "shell.execute_reply": "2024-11-16T20:16:50.289833Z"
        },
        "outputId": "e3a26be2-8ac5-4375-9cf1-1d3ca3fde30b"
      },
      "outputs": [
        {
          "execution_count": 7,
          "output_type": "execute_result",
          "data": {
            "text/plain": "                                    case subject        case no  \\\n0                     cases relating to pemra /.    c.a.11/2022   \n1                suit for declaration/possession  c.a.17-q/2023   \n2      service/against reinstatment into service    c.a.19/2022   \n3  suit for declaration/cancellation of document  c.a.2015/2022   \n4                customs/confiscation of vehicle  c.a.2016/2022   \n\n                                          case title  \\\n0  pakistan electronic media regulatory authority...   \n1      noorullah & others v. ghulam murtaza & others   \n2  government of khyber pakhtunkhwa through chief...   \n3   syed zahid hussain shah v. mumtaz ali and others   \n4  m/s middle east construction company, karachi ...   \n\n                         author judge judgment date  \\\n0            mr. justice munib akhtar    10-11-2022   \n1  mr. justice syed hasan azhar rizvi    10-11-2023   \n2     mr. justice muhammad ali mazhar    06-10-2022   \n3           mr. justice qazi faez isa    09-05-2023   \n4           mr. justice qazi faez isa    16-02-2023   \n\n                                             content  \n0  (appellate jurisdiction)\\n\\n\\npresent:\\nmr. ju...  \n1  c;\\nit\\ncases\\n\\n(appellate jurisdiction)\\npre...  \n2  (appellate jurisdiction)\\n\\n\\npresent:\\nmr. ju...  \n3  (appellate jurisdiction)\\n\\n\\npresent:\\nmr. ju...  \n4  (appellate jurisdiction)\\n\\npresent:\\n\\nmr. ju...  ",
            "text/html": "<div>\n<style scoped>\n    .dataframe tbody tr th:only-of-type {\n        vertical-align: middle;\n    }\n\n    .dataframe tbody tr th {\n        vertical-align: top;\n    }\n\n    .dataframe thead th {\n        text-align: right;\n    }\n</style>\n<table border=\"1\" class=\"dataframe\">\n  <thead>\n    <tr style=\"text-align: right;\">\n      <th></th>\n      <th>case subject</th>\n      <th>case no</th>\n      <th>case title</th>\n      <th>author judge</th>\n      <th>judgment date</th>\n      <th>content</th>\n    </tr>\n  </thead>\n  <tbody>\n    <tr>\n      <th>0</th>\n      <td>cases relating to pemra /.</td>\n      <td>c.a.11/2022</td>\n      <td>pakistan electronic media regulatory authority...</td>\n      <td>mr. justice munib akhtar</td>\n      <td>10-11-2022</td>\n      <td>(appellate jurisdiction)\\n\\n\\npresent:\\nmr. ju...</td>\n    </tr>\n    <tr>\n      <th>1</th>\n      <td>suit for declaration/possession</td>\n      <td>c.a.17-q/2023</td>\n      <td>noorullah &amp; others v. ghulam murtaza &amp; others</td>\n      <td>mr. justice syed hasan azhar rizvi</td>\n      <td>10-11-2023</td>\n      <td>c;\\nit\\ncases\\n\\n(appellate jurisdiction)\\npre...</td>\n    </tr>\n    <tr>\n      <th>2</th>\n      <td>service/against reinstatment into service</td>\n      <td>c.a.19/2022</td>\n      <td>government of khyber pakhtunkhwa through chief...</td>\n      <td>mr. justice muhammad ali mazhar</td>\n      <td>06-10-2022</td>\n      <td>(appellate jurisdiction)\\n\\n\\npresent:\\nmr. ju...</td>\n    </tr>\n    <tr>\n      <th>3</th>\n      <td>suit for declaration/cancellation of document</td>\n      <td>c.a.2015/2022</td>\n      <td>syed zahid hussain shah v. mumtaz ali and others</td>\n      <td>mr. justice qazi faez isa</td>\n      <td>09-05-2023</td>\n      <td>(appellate jurisdiction)\\n\\n\\npresent:\\nmr. ju...</td>\n    </tr>\n    <tr>\n      <th>4</th>\n      <td>customs/confiscation of vehicle</td>\n      <td>c.a.2016/2022</td>\n      <td>m/s middle east construction company, karachi ...</td>\n      <td>mr. justice qazi faez isa</td>\n      <td>16-02-2023</td>\n      <td>(appellate jurisdiction)\\n\\npresent:\\n\\nmr. ju...</td>\n    </tr>\n  </tbody>\n</table>\n</div>"
          },
          "metadata": {}
        },
        {
          "name": "stdout",
          "text": "time: 138 ms (started: 2024-11-16 20:16:50 +00:00)\n",
          "output_type": "stream"
        }
      ],
      "execution_count": null
    },
    {
      "cell_type": "markdown",
      "source": [
        "## **2. Splitting Text**"
      ],
      "metadata": {
        "id": "_ut9r-LZsFmQ"
      }
    },
    {
      "cell_type": "code",
      "source": [
        "# Content Length\n",
        "\n",
        "content_length=[]\n",
        "\n",
        "for i in df['content']:\n",
        "\n",
        "  content_length.append(len(i))\n",
        "\n",
        "\n",
        "\n",
        "# Metadata Length\n",
        "\n",
        "metadata_length=[]\n",
        "\n",
        "for i in range(len(df)):\n",
        "\n",
        "  metadata_length.append(len(df['case subject'][i]+df['case no'][i]+df['case title'][i]+df['author judge'][i]+df['judgment date'][i]))\n",
        "\n",
        "\n",
        "\n",
        "# Filter content length list less than 100000\n",
        "\n",
        "content_length=[i for i in content_length if i<100000]\n",
        "\n",
        "\n",
        "\n",
        "# Proportion of lengths in content_length list which is below average character length\n",
        "\n",
        "b_avg=len([i for i in content_length if i<np.mean(content_length)])/len(content_length)*100\n",
        "\n",
        "\n",
        "\n",
        "# Proportion of lengths in content_length list which is above 2500 and below 5000 character length\n",
        "\n",
        "b_5k=len([i for i in content_length if i<5000])/len(content_length)*100\n",
        "\n",
        "\n",
        "\n",
        "output=f'''\n",
        "\n",
        "Chunking Strategy:\n",
        "\n",
        "- Average Number of Content Characters (Excluding 4 Outliers): {round(np.mean(content_length))}\n",
        "\n",
        "- Majority of The Documents are Below Average Character Length: {round(b_avg)}%\n",
        "\n",
        "- Splitting Average Character Length in 5 Chunks Gives a Split of: {round(np.mean(content_length)/5)}\n",
        "\n",
        "- Therefore, chunk size of 2500 characters with 10% overlap seems a good balance for retrieval.\n",
        "\n",
        "- Smaller documents would be retrieved completely in 1-2 chunks and rest would be irrelevant that we can tell the LLM to ignore.\n",
        "\n",
        "- Very few small documents would be covered in 1-2 chunks as proportion of documents with below 5000 characters is: {round(b_5k)}%\n",
        "\n",
        "- Key areas of large documents would be covered in 3-5 chunks, otherwise we can always increase retrieval space for very large documents.\n",
        "\n",
        "- A bigger chunk size than a very small one like 1000 characters also has the advantage of generic querying!\n",
        "\n",
        "- We often wanna summarize what happened in a particular case rather than knowing just one statement from the judgement. But even some aspects of the judgement would be covered in this chunk size as well.\n",
        "\n",
        "- A 1,000-character chunk could make retrieval too fragmented, as legal orders and judgments are often longer passages that may not fit well within 1,000 characters.\n",
        "\n",
        "\n",
        "\n",
        "Conclusion:\n",
        "\n",
        "- So 2500 characters offers a good balance between Granularity and Contextual Coherence!\n",
        "\n",
        "\n",
        "\n",
        "Embedding Model Considerations:\n",
        "\n",
        "- While our embedding model dimension of 1024 would work well for capturing the nuanced information in legal text.\n",
        "\n",
        "- The max token limit of 512 tokens could be a limitation. Going with the rule of thumb of 1 token ~ 4 chars then a chunk should have 2048 characters.\n",
        "\n",
        "- However, our strategy here is to first split the documents and then add metadata of document to each of its chunks.\n",
        "\n",
        "- The average metadata string size (rounded up to nearest hundred) is: {round(round(np.mean(metadata_length),-2))}\n",
        "\n",
        "\n",
        "\n",
        "Thus, for splitting we'll keep chunk size to 1800 with 200 characters overlap such that after including metadata chunk size is 2000\n",
        "\n",
        "Keeping this in view the retrieval should be with top_k=[5,10] as (Average Number of Content Characters)/1800 = {round(np.mean(content_length)/1800)}\n",
        "\n",
        "\n",
        "\n",
        "Type of Splitter:\n",
        "\n",
        "- Our documents lack subsections and follow a consistent structure: Bench Member Names > Petition No > Petitioner/Appellate versus. Respondent Names > Representative Names > Judgement/Order.\n",
        "\n",
        "- The Judgment/Order section is fairly uniform and continuous.\n",
        "\n",
        "- Therefore a character/token based splitter would be a simpler and effective approach than a semantic based splitter.\n",
        "\n",
        "- As our documents have a consistent structure and lack subsections, semantic chunking offers limited additional value.\n",
        "\n",
        "- Besides, character based splitting with overlapping would allow context continuity along with meeting embedding model’s token limit.\n",
        "\n",
        "\n",
        "\n",
        "Note: Split is done row-wise, preserving individual judgments as separate documents.\n",
        "\n",
        "'''\n",
        "\n",
        "\n",
        "\n",
        "print(output)"
      ],
      "metadata": {
        "id": "rZqOB73nnWtx",
        "outputId": "5124cce1-c50f-4501-a550-46efb1a04e40",
        "trusted": true,
        "execution": {
          "iopub.status.busy": "2024-11-16T20:16:51.973608Z",
          "iopub.execute_input": "2024-11-16T20:16:51.973972Z",
          "iopub.status.idle": "2024-11-16T20:16:52.011370Z",
          "shell.execute_reply.started": "2024-11-16T20:16:51.973937Z",
          "shell.execute_reply": "2024-11-16T20:16:52.010307Z"
        }
      },
      "outputs": [
        {
          "name": "stdout",
          "text": "\n\nChunking Strategy:\n\n- Average Number of Content Characters (Excluding 4 Outliers): 13874\n\n- Majority of The Documents are Below Average Character Length: 67%\n\n- Splitting Average Character Length in 5 Chunks Gives a Split of: 2775\n\n- Therefore, chunk size of 2500 characters with 10% overlap seems a good balance for retrieval.\n\n- Smaller documents would be retrieved completely in 1-2 chunks and rest would be irrelevant that we can tell the LLM to ignore.\n\n- Very few small documents would be covered in 1-2 chunks as proportion of documents with below 5000 characters is: 14%\n\n- Key areas of large documents would be covered in 3-5 chunks, otherwise we can always increase retrieval space for very large documents.\n\n- A bigger chunk size than a very small one like 1000 characters also has the advantage of generic querying!\n\n- We often wanna summarize what happened in a particular case rather than knowing just one statement from the judgement. But even some aspects of the judgement would be covered in this chunk size as well.\n\n- A 1,000-character chunk could make retrieval too fragmented, as legal orders and judgments are often longer passages that may not fit well within 1,000 characters.\n\n\n\nConclusion:\n\n- So 2500 characters offers a good balance between Granularity and Contextual Coherence!\n\n\n\nEmbedding Model Considerations:\n\n- While our embedding model dimension of 1024 would work well for capturing the nuanced information in legal text.\n\n- The max token limit of 512 tokens could be a limitation. Going with the rule of thumb of 1 token ~ 4 chars then a chunk should have 2048 characters.\n\n- However, our strategy here is to first split the documents and then add metadata of document to each of its chunks.\n\n- The average metadata string size (rounded up to nearest hundred) is: 200\n\n\n\nThus, for splitting we'll keep chunk size to 1800 with 200 characters overlap such that after including metadata chunk size is 2000\n\nKeeping this in view the retrieval should be with top_k=[5,10] as (Average Number of Content Characters)/1800 = 8\n\n\n\nType of Splitter:\n\n- Our documents lack subsections and follow a consistent structure: Bench Member Names > Petition No > Petitioner/Appellate versus. Respondent Names > Representative Names > Judgement/Order.\n\n- The Judgment/Order section is fairly uniform and continuous.\n\n- Therefore a character/token based splitter would be a simpler and effective approach than a semantic based splitter.\n\n- As our documents have a consistent structure and lack subsections, semantic chunking offers limited additional value.\n\n- Besides, character based splitting with overlapping would allow context continuity along with meeting embedding model’s token limit.\n\n\n\nNote: Split is done row-wise, preserving individual judgments as separate documents.\n\n\ntime: 28.5 ms (started: 2024-11-16 20:16:51 +00:00)\n",
          "output_type": "stream"
        }
      ],
      "execution_count": null
    },
    {
      "cell_type": "code",
      "source": [
        "# Initialize the text splitter\n",
        "\n",
        "text_splitter = RecursiveCharacterTextSplitter(chunk_size=1800, chunk_overlap=200)\n",
        "\n",
        "\n",
        "\n",
        "# Create a list to hold all document chunks\n",
        "\n",
        "documents = []\n",
        "\n",
        "\n",
        "\n",
        "# Process each row to split content and add metadata inside page_content\n",
        "\n",
        "for _, row in df.iterrows():\n",
        "\n",
        "    content = row['content']\n",
        "\n",
        "    metadata = {\n",
        "\n",
        "        \"case_subject\": row['case subject'],\n",
        "\n",
        "        \"case_no\": row['case no'],\n",
        "\n",
        "        \"case_title\": row['case title'],\n",
        "\n",
        "        \"author_judge\": row['author judge'],\n",
        "\n",
        "        \"judgment_date\": row['judgment date']\n",
        "\n",
        "    }\n",
        "\n",
        "\n",
        "\n",
        "    # Prepare a metadata string to insert into page_content\n",
        "\n",
        "    metadata_str = (\n",
        "\n",
        "        f\"Case Subject: {metadata['case_subject']}\\n\"\n",
        "\n",
        "        f\"Case No: {metadata['case_no']}\\n\"\n",
        "\n",
        "        f\"Case Title: {metadata['case_title']}\\n\"\n",
        "\n",
        "        f\"Author Judge: {metadata['author_judge']}\\n\"\n",
        "\n",
        "        f\"Judgment Date: {metadata['judgment_date']}\\n\\n\"\n",
        "\n",
        "    )\n",
        "\n",
        "\n",
        "\n",
        "    # Split content into chunks\n",
        "\n",
        "    chunks = text_splitter.split_text(content)\n",
        "\n",
        "\n",
        "\n",
        "    # Create a Document instance for each chunk with metadata embedded in the page_content\n",
        "\n",
        "    for chunk in chunks:\n",
        "\n",
        "        # Combine metadata string and chunk content\n",
        "\n",
        "        chunk_with_metadata = metadata_str + chunk\n",
        "\n",
        "        documents.append(Document(page_content=chunk_with_metadata))"
      ],
      "metadata": {
        "id": "Nu7l8tXiuEtA",
        "trusted": true,
        "execution": {
          "iopub.status.busy": "2024-11-16T20:16:53.496941Z",
          "iopub.execute_input": "2024-11-16T20:16:53.497318Z",
          "iopub.status.idle": "2024-11-16T20:16:53.668033Z",
          "shell.execute_reply.started": "2024-11-16T20:16:53.497281Z",
          "shell.execute_reply": "2024-11-16T20:16:53.667119Z"
        },
        "outputId": "2baff3ed-f6d3-4e50-e98d-1941e9e1bd74"
      },
      "outputs": [
        {
          "name": "stdout",
          "text": "time: 165 ms (started: 2024-11-16 20:16:53 +00:00)\n",
          "output_type": "stream"
        }
      ],
      "execution_count": null
    },
    {
      "cell_type": "code",
      "source": [
        "# Manually checked that chunks with less than 370 characters have no meaningful content and character length of this chunk is inflated with the inclusion of metadata in the chunk string!\n",
        "\n",
        "# Therefore filtering out chunks with character size less than 370 characters.\n",
        "\n",
        "documents=[i for i in documents if len(i.page_content)>370]"
      ],
      "metadata": {
        "id": "sweGF7a0Pcuz",
        "trusted": true,
        "execution": {
          "iopub.status.busy": "2024-11-16T20:16:54.905015Z",
          "iopub.execute_input": "2024-11-16T20:16:54.905412Z",
          "iopub.status.idle": "2024-11-16T20:16:54.912216Z",
          "shell.execute_reply.started": "2024-11-16T20:16:54.905370Z",
          "shell.execute_reply": "2024-11-16T20:16:54.911312Z"
        },
        "outputId": "8e7174d9-2526-4525-b575-b23b39c784f3"
      },
      "outputs": [
        {
          "name": "stdout",
          "text": "time: 2.03 ms (started: 2024-11-16 20:16:54 +00:00)\n",
          "output_type": "stream"
        }
      ],
      "execution_count": null
    },
    {
      "cell_type": "code",
      "source": [
        "print(f'Total Chunks: {len(documents)}')"
      ],
      "metadata": {
        "id": "K649KmFxQgh1",
        "outputId": "4e8ebc2b-afea-4d2c-dfa4-62a206515e9e",
        "trusted": true,
        "execution": {
          "iopub.status.busy": "2024-11-16T20:16:56.014259Z",
          "iopub.execute_input": "2024-11-16T20:16:56.015111Z",
          "iopub.status.idle": "2024-11-16T20:16:56.019926Z",
          "shell.execute_reply.started": "2024-11-16T20:16:56.015070Z",
          "shell.execute_reply": "2024-11-16T20:16:56.018966Z"
        }
      },
      "outputs": [
        {
          "name": "stdout",
          "text": "Total Chunks: 3541\ntime: 478 µs (started: 2024-11-16 20:16:56 +00:00)\n",
          "output_type": "stream"
        }
      ],
      "execution_count": null
    },
    {
      "cell_type": "markdown",
      "source": [
        "**Metadata Handling**\n",
        "\n",
        "* Each judgement content is split into smaller, manageable chunks, with a specified chunk size of 1800 characters and an overlap of 200 characters between consecutive chunks through RecursiveCharacterTextSplitter.\n",
        "\n",
        "* For each judgement its relevant metadata such as the case subject, case number, case title, author judge, and judgment date, is formatted into a metadata string.\n",
        "\n",
        "* For each chunk its respective metadata string is embedded in it.\n",
        "\n",
        "\n",
        "\n",
        "<br/>\n",
        "\n",
        "\n",
        "\n",
        "* The above strategy to handle metadata is devised rather than keyword or fuzzy filtering because:\n",
        "\n",
        "  * The key advantage is that when referring to a specific case in the query, it is assumed that the user will naturally include a reference to the case. This approach avoids the limitations of filter-based queries, where metadata filters are rigid and may miss subtle case variations.\n",
        "\n",
        "    * Filter-based Query: (\"What was supreme court's judgement regarding section 63 of constitution?\", metadata filters: {title:\"A versus B\"})\n",
        "\n",
        "    * Metadata Embedded Query: \"In A versus B what was supreme court's judgement regarding section 63 of constitution?\"\n",
        "\n",
        "  * While fuzzy filtering can handle spelling mistakes and approximate matches, semantic search offers a deeper understanding of the context and meaning behind the query. By embedding metadata in the chunks, semantic search can retrieve more accurate and relevant results, even if the query contains errors, as it focuses on the overall meaning rather than just the specific spelling or keywords.\n",
        "\n",
        "  * In filter-based methods, the user must be aware of the metadata tags available in the database and construct queries accordingly. In contrast, with semantic search, there's no need for the user to know or specify metadata tags. The system can automatically interpret and match the query with relevant information, making the search process more intuitive and user-friendly."
      ],
      "metadata": {
        "id": "xzk_KlzjQ7J6"
      }
    },
    {
      "cell_type": "markdown",
      "source": [
        "## **3. Loading Embedding Model**"
      ],
      "metadata": {
        "id": "nO4192LYsOCt"
      }
    },
    {
      "cell_type": "code",
      "source": [
        "model_name = \"dunzhang/stella_en_1.5B_v5\"\n",
        "\n",
        "embeddings = HuggingFaceEmbeddings(model_name=model_name)"
      ],
      "metadata": {
        "id": "21vCRgO60cXD",
        "outputId": "1974112d-38e9-4be3-947c-936fbcb5cc33",
        "trusted": true,
        "execution": {
          "iopub.status.busy": "2024-11-16T20:16:58.720777Z",
          "iopub.execute_input": "2024-11-16T20:16:58.721598Z",
          "iopub.status.idle": "2024-11-16T20:19:36.344458Z",
          "shell.execute_reply.started": "2024-11-16T20:16:58.721559Z",
          "shell.execute_reply": "2024-11-16T20:19:36.343502Z"
        },
        "colab": {
          "referenced_widgets": [
            "f204c6b2ee5b4175bf9f2db9bb985a49",
            "b016975d81594631ba2bcd1afa33b8a1",
            "f86d8d6995624e34a1bd729690d8d9df",
            "7e94542219c24efc9a87b995ec6ecb21",
            "bbb235f956a54d5180b1ae890f68ae02",
            "38c2a47c285b4d0894e973f3f7f27adc",
            "c941e6ffa9fc49088c67e41d18d0b226",
            "8fed4ff070bb479e95a691f2bb58e278",
            "0190d6dc0648457c948edf1eb75117ed",
            "22d7eb4d315745c6bddcea5090a05084",
            "ec321b0be0414fa99add3a4d2a35ad27",
            "6f85130b8de3431e90ec2770c42cb5d7",
            "0eb78ba4060c48cb840dfeb7dd25f749",
            "387e697ae2414618929220bea4b9891c",
            "bda38355aa7f4d439422c457f690ef37",
            "0fbcfcbae54b4d98a85f559f76fa0367",
            "a70e4067481042ae9c7ced57e54195f5",
            "a4e06ee13e0341139b374db01ea9de67",
            "581601e8f929447e924e5b991d9786e8",
            "165b32e2708c4a18a37bf92a162bbef5",
            "2a278af5cc304b38bb5ebaa1b28b9479",
            "ddeb958590004a4eba83d4d052653c41",
            "d486a4a4d30947d4b79fe93c1dffc7d8",
            "f412bbbd90b040348bf58dc6671af851",
            "cbb400cb4b444360b4ad5b5551462f05",
            "51b96fbebfa745f582c31730a81e2a98",
            "91a707899ba5466ba5fcba9eb548fb2a",
            "9ec38bb8b2a743f1b7123b12e9542ff9",
            "e6da58d945d2417eb6d5602ae8fe2077",
            "95679b29a39348d7ae52ebcc3586cd6b",
            "8f7b691fa15b47bc96660016d6c59626",
            "5812f839210d44ff9ab13af3209f5e83"
          ]
        }
      },
      "outputs": [
        {
          "output_type": "display_data",
          "data": {
            "text/plain": "modules.json:   0%|          | 0.00/316 [00:00<?, ?B/s]",
            "application/vnd.jupyter.widget-view+json": {
              "version_major": 2,
              "version_minor": 0,
              "model_id": "a70e4067481042ae9c7ced57e54195f5"
            }
          },
          "metadata": {}
        },
        {
          "output_type": "display_data",
          "data": {
            "text/plain": "config_sentence_transformers.json:   0%|          | 0.00/397 [00:00<?, ?B/s]",
            "application/vnd.jupyter.widget-view+json": {
              "version_major": 2,
              "version_minor": 0,
              "model_id": "a4e06ee13e0341139b374db01ea9de67"
            }
          },
          "metadata": {}
        },
        {
          "output_type": "display_data",
          "data": {
            "text/plain": "README.md:   0%|          | 0.00/174k [00:00<?, ?B/s]",
            "application/vnd.jupyter.widget-view+json": {
              "version_major": 2,
              "version_minor": 0,
              "model_id": "581601e8f929447e924e5b991d9786e8"
            }
          },
          "metadata": {}
        },
        {
          "output_type": "display_data",
          "data": {
            "text/plain": "sentence_bert_config.json:   0%|          | 0.00/51.0 [00:00<?, ?B/s]",
            "application/vnd.jupyter.widget-view+json": {
              "version_major": 2,
              "version_minor": 0,
              "model_id": "165b32e2708c4a18a37bf92a162bbef5"
            }
          },
          "metadata": {}
        },
        {
          "output_type": "display_data",
          "data": {
            "text/plain": "config.json:   0%|          | 0.00/844 [00:00<?, ?B/s]",
            "application/vnd.jupyter.widget-view+json": {
              "version_major": 2,
              "version_minor": 0,
              "model_id": "2a278af5cc304b38bb5ebaa1b28b9479"
            }
          },
          "metadata": {}
        },
        {
          "output_type": "display_data",
          "data": {
            "text/plain": "model.safetensors:   0%|          | 0.00/6.17G [00:00<?, ?B/s]",
            "application/vnd.jupyter.widget-view+json": {
              "version_major": 2,
              "version_minor": 0,
              "model_id": "ddeb958590004a4eba83d4d052653c41"
            }
          },
          "metadata": {}
        },
        {
          "output_type": "display_data",
          "data": {
            "text/plain": "tokenizer_config.json:   0%|          | 0.00/1.31k [00:00<?, ?B/s]",
            "application/vnd.jupyter.widget-view+json": {
              "version_major": 2,
              "version_minor": 0,
              "model_id": "d486a4a4d30947d4b79fe93c1dffc7d8"
            }
          },
          "metadata": {}
        },
        {
          "output_type": "display_data",
          "data": {
            "text/plain": "vocab.json:   0%|          | 0.00/2.78M [00:00<?, ?B/s]",
            "application/vnd.jupyter.widget-view+json": {
              "version_major": 2,
              "version_minor": 0,
              "model_id": "f412bbbd90b040348bf58dc6671af851"
            }
          },
          "metadata": {}
        },
        {
          "output_type": "display_data",
          "data": {
            "text/plain": "merges.txt:   0%|          | 0.00/1.67M [00:00<?, ?B/s]",
            "application/vnd.jupyter.widget-view+json": {
              "version_major": 2,
              "version_minor": 0,
              "model_id": "cbb400cb4b444360b4ad5b5551462f05"
            }
          },
          "metadata": {}
        },
        {
          "output_type": "display_data",
          "data": {
            "text/plain": "tokenizer.json:   0%|          | 0.00/7.03M [00:00<?, ?B/s]",
            "application/vnd.jupyter.widget-view+json": {
              "version_major": 2,
              "version_minor": 0,
              "model_id": "51b96fbebfa745f582c31730a81e2a98"
            }
          },
          "metadata": {}
        },
        {
          "output_type": "display_data",
          "data": {
            "text/plain": "added_tokens.json:   0%|          | 0.00/80.0 [00:00<?, ?B/s]",
            "application/vnd.jupyter.widget-view+json": {
              "version_major": 2,
              "version_minor": 0,
              "model_id": "91a707899ba5466ba5fcba9eb548fb2a"
            }
          },
          "metadata": {}
        },
        {
          "output_type": "display_data",
          "data": {
            "text/plain": "special_tokens_map.json:   0%|          | 0.00/370 [00:00<?, ?B/s]",
            "application/vnd.jupyter.widget-view+json": {
              "version_major": 2,
              "version_minor": 0,
              "model_id": "9ec38bb8b2a743f1b7123b12e9542ff9"
            }
          },
          "metadata": {}
        },
        {
          "output_type": "display_data",
          "data": {
            "text/plain": "1_Pooling/config.json:   0%|          | 0.00/289 [00:00<?, ?B/s]",
            "application/vnd.jupyter.widget-view+json": {
              "version_major": 2,
              "version_minor": 0,
              "model_id": "e6da58d945d2417eb6d5602ae8fe2077"
            }
          },
          "metadata": {}
        },
        {
          "output_type": "display_data",
          "data": {
            "text/plain": "2_Dense_1024/config.json:   0%|          | 0.00/122 [00:00<?, ?B/s]",
            "application/vnd.jupyter.widget-view+json": {
              "version_major": 2,
              "version_minor": 0,
              "model_id": "95679b29a39348d7ae52ebcc3586cd6b"
            }
          },
          "metadata": {}
        },
        {
          "output_type": "display_data",
          "data": {
            "text/plain": "model.safetensors:   0%|          | 0.00/6.30M [00:00<?, ?B/s]",
            "application/vnd.jupyter.widget-view+json": {
              "version_major": 2,
              "version_minor": 0,
              "model_id": "8f7b691fa15b47bc96660016d6c59626"
            }
          },
          "metadata": {}
        },
        {
          "output_type": "display_data",
          "data": {
            "text/plain": "pytorch_model.bin:   0%|          | 0.00/6.30M [00:00<?, ?B/s]",
            "application/vnd.jupyter.widget-view+json": {
              "version_major": 2,
              "version_minor": 0,
              "model_id": "5812f839210d44ff9ab13af3209f5e83"
            }
          },
          "metadata": {}
        },
        {
          "name": "stdout",
          "text": "time: 2min 37s (started: 2024-11-16 20:16:58 +00:00)\n",
          "output_type": "stream"
        }
      ],
      "execution_count": null
    },
    {
      "cell_type": "markdown",
      "source": [
        "The above embedding model is selected because:\n",
        "\n",
        "\n",
        "\n",
        "* 1024-dimensional embeddings: This high-dimensional embedding captures nuanced information well, especially useful for legal text.\n",
        "\n",
        "\n",
        "\n",
        "* Proven Performance: Ranked third on the METB leaderboard, ensuring strong performance on English documents.\n",
        "\n",
        "\n",
        "\n",
        "* Efficient for RAG Setup: Provides high-quality embeddings with minimal latency due to its smaller size compared to other top models. Only 1.5 billion parameters."
      ],
      "metadata": {
        "id": "JxKSWvDPQtk3"
      }
    },
    {
      "cell_type": "markdown",
      "source": [
        "## **4. Initializing VectorDb and Ingesting**"
      ],
      "metadata": {
        "id": "rulD0VJUsRND"
      }
    },
    {
      "cell_type": "code",
      "source": [
        "# pinecone.api: pinecone.api\n",
        "\n",
        "\n",
        "\n",
        "if not os.getenv(\"PINECONE_API_KEY\"):\n",
        "\n",
        "    os.environ[\"PINECONE_API_KEY\"] = getpass.getpass(\"Enter your Pinecone API key: \")\n",
        "\n",
        "\n",
        "\n",
        "pinecone_api_key = os.environ.get(\"PINECONE_API_KEY\")\n",
        "\n",
        "pc = Pinecone(api_key=pinecone_api_key)\n",
        "\n",
        "index_name = \"scp-vdb\"\n",
        "\n",
        "existing_indexes = [index_info[\"name\"] for index_info in pc.list_indexes()]\n",
        "\n",
        "\n",
        "\n",
        "if index_name not in existing_indexes:\n",
        "\n",
        "    pc.create_index(\n",
        "\n",
        "        name=index_name,\n",
        "\n",
        "        dimension=1024,\n",
        "\n",
        "        metric=\"cosine\",\n",
        "\n",
        "        spec=ServerlessSpec(cloud=\"aws\", region=\"us-east-1\"),\n",
        "\n",
        "    )\n",
        "\n",
        "    while not pc.describe_index(index_name).status[\"ready\"]:\n",
        "\n",
        "        time.sleep(1)\n",
        "\n",
        "index = pc.Index(index_name)"
      ],
      "metadata": {
        "id": "vEWH1y2tFERF",
        "outputId": "2e951b2b-444c-4d9f-ee80-14556685995c",
        "trusted": true,
        "execution": {
          "iopub.status.busy": "2024-11-16T20:19:48.540384Z",
          "iopub.execute_input": "2024-11-16T20:19:48.540810Z",
          "iopub.status.idle": "2024-11-16T20:19:57.417804Z",
          "shell.execute_reply.started": "2024-11-16T20:19:48.540771Z",
          "shell.execute_reply": "2024-11-16T20:19:57.416831Z"
        }
      },
      "outputs": [
        {
          "output_type": "stream",
          "name": "stdin",
          "text": "Enter your Pinecone API key:  ········\n"
        },
        {
          "name": "stdout",
          "text": "time: 8.87 s (started: 2024-11-16 20:19:48 +00:00)\n",
          "output_type": "stream"
        }
      ],
      "execution_count": null
    },
    {
      "cell_type": "code",
      "source": [
        "vector_store = PineconeVectorStore(index=index, embedding=embeddings)"
      ],
      "metadata": {
        "id": "fBIoNpl0ZkrM",
        "trusted": true,
        "execution": {
          "iopub.status.busy": "2024-11-16T20:20:00.532823Z",
          "iopub.execute_input": "2024-11-16T20:20:00.533695Z",
          "iopub.status.idle": "2024-11-16T20:20:00.538770Z",
          "shell.execute_reply.started": "2024-11-16T20:20:00.533653Z",
          "shell.execute_reply": "2024-11-16T20:20:00.537732Z"
        },
        "outputId": "b5abd5ca-df42-4db1-9147-329b0cff41b2"
      },
      "outputs": [
        {
          "name": "stdout",
          "text": "time: 403 µs (started: 2024-11-16 20:20:00 +00:00)\n",
          "output_type": "stream"
        }
      ],
      "execution_count": null
    },
    {
      "cell_type": "code",
      "source": [
        "# NOTE: Use GPU to do this otherwise it'll take forever! (Currently taking 22 mins)\n",
        "\n",
        "# NOTE: RUN THIS CELL ONCE ONLY OTHERWISE IT'LL CREATE DUPLICATE VECTOR EMBEDDINGS!\n",
        "\n",
        "# Once stored, we only have to load embedding model to embed query and connect to VectorDb from above!\n",
        "\n",
        "\n",
        "\n",
        "####vector_store.add_documents(documents=documents)"
      ],
      "metadata": {
        "id": "aONRBVv4kUP1",
        "trusted": true,
        "execution": {
          "iopub.status.busy": "2024-11-11T01:06:11.781930Z",
          "iopub.execute_input": "2024-11-11T01:06:11.782208Z",
          "iopub.status.idle": "2024-11-11T01:06:13.827761Z",
          "shell.execute_reply.started": "2024-11-11T01:06:11.782176Z",
          "shell.execute_reply": "2024-11-11T01:06:13.826698Z"
        }
      },
      "outputs": [],
      "execution_count": null
    },
    {
      "cell_type": "markdown",
      "source": [
        "## **RAG - Experimentation (Keeping LLM Fixed - Llama 3.1 8B Instruct)**"
      ],
      "metadata": {
        "id": "McINJHl1kKEz"
      }
    },
    {
      "cell_type": "code",
      "source": [
        "login(token='HF_api')"
      ],
      "metadata": {
        "id": "aUmEzLoKkKeG",
        "outputId": "6d083da0-1d4a-42da-ccf3-191a2e66e844",
        "trusted": true,
        "execution": {
          "iopub.status.busy": "2024-11-16T20:20:03.556999Z",
          "iopub.execute_input": "2024-11-16T20:20:03.557359Z",
          "iopub.status.idle": "2024-11-16T20:20:03.604796Z",
          "shell.execute_reply.started": "2024-11-16T20:20:03.557326Z",
          "shell.execute_reply": "2024-11-16T20:20:03.603873Z"
        }
      },
      "outputs": [
        {
          "name": "stdout",
          "text": "The token has not been saved to the git credentials helper. Pass `add_to_git_credential=True` in this function directly or `--add-to-git-credential` if using via `huggingface-cli` if you want to set the git credential as well.\nToken is valid (permission: write).\nYour token has been saved to /root/.cache/huggingface/token\nLogin successful\ntime: 43.9 ms (started: 2024-11-16 20:20:03 +00:00)\n",
          "output_type": "stream"
        }
      ],
      "execution_count": null
    },
    {
      "cell_type": "code",
      "source": [
        "# Note: The default behavior now has injection attack prevention off.\n",
        "\n",
        "tokenizer = AutoTokenizer.from_pretrained(\"meta-llama/Meta-Llama-3.1-8B-Instruct\", trust_remote_code=True)\n",
        "\n",
        "\n",
        "model = AutoModelForCausalLM.from_pretrained(\n",
        "\n",
        "    \"meta-llama/Meta-Llama-3.1-8B-Instruct\",\n",
        "\n",
        "    device_map=\"auto\",\n",
        "\n",
        "    trust_remote_code=True,\n",
        "\n",
        "    torch_dtype=torch.bfloat16,\n",
        "\n",
        "    quantization_config=BitsAndBytesConfig(load_in_8bit=True)\n",
        "\n",
        ").eval()"
      ],
      "metadata": {
        "id": "0Lpr8EqfkPan",
        "outputId": "df5070a8-2f27-4d07-bf27-c59147af9366",
        "trusted": true,
        "execution": {
          "iopub.status.busy": "2024-11-16T20:20:06.072284Z",
          "iopub.execute_input": "2024-11-16T20:20:06.072794Z",
          "iopub.status.idle": "2024-11-16T20:27:49.715068Z",
          "shell.execute_reply.started": "2024-11-16T20:20:06.072747Z",
          "shell.execute_reply": "2024-11-16T20:27:49.713924Z"
        },
        "colab": {
          "referenced_widgets": [
            "5074ed89399740cb988d4ff0499c6edd",
            "bd97c5e882704aee93294ecb5d3cb721",
            "dbc5c44b16824ec59da62637133cb241",
            "ac71f64acba04d23b9e18b0af2f37be7",
            "2e84a530998947a7a6b712f600b03d90",
            "d356f698e69b4279ae5ab1abfd300835",
            "fec9e64bef5e454c85e4308ef777b38f",
            "6c30cc07e3da42fda303b56bfbaaa36c",
            "26640fed19d4499dad439129415719b5",
            "c9a300a347fe411794bf785b74cec3ff",
            "286d986a3fd640b58385f9dbf52ff2bc",
            "137aac6d50224ce9965f78ec056c201a",
            "885235f45d184c1eabe717aaff60e5ab",
            "7eb275ae2e0a48238ca311a78135e77a",
            "6181e6a2c64042f6a38710844ef70f13",
            "3caef5e5ebd046ddb08355ad889cde55",
            "d1fe400afa6d4b669129088a90f24e7e",
            "0520986029ab4ef783c7d0ec67af6db1",
            "721a48ab0d244e6b93a723b57df1e108",
            "4556f3d6215f4e2f998c24c2ce51dbbe",
            "8491b740531f4438a3806e05f0a042ee",
            "16850c9181b743249b99bd5138bf5871",
            "305f73f43daf42bea2de33d8162e98ed",
            "6fcf7d5fa6a7438cbf0b2355ac7b3646"
          ]
        }
      },
      "outputs": [
        {
          "output_type": "display_data",
          "data": {
            "text/plain": "tokenizer_config.json:   0%|          | 0.00/55.4k [00:00<?, ?B/s]",
            "application/vnd.jupyter.widget-view+json": {
              "version_major": 2,
              "version_minor": 0,
              "model_id": "885235f45d184c1eabe717aaff60e5ab"
            }
          },
          "metadata": {}
        },
        {
          "output_type": "display_data",
          "data": {
            "text/plain": "tokenizer.json:   0%|          | 0.00/9.09M [00:00<?, ?B/s]",
            "application/vnd.jupyter.widget-view+json": {
              "version_major": 2,
              "version_minor": 0,
              "model_id": "7eb275ae2e0a48238ca311a78135e77a"
            }
          },
          "metadata": {}
        },
        {
          "output_type": "display_data",
          "data": {
            "text/plain": "special_tokens_map.json:   0%|          | 0.00/296 [00:00<?, ?B/s]",
            "application/vnd.jupyter.widget-view+json": {
              "version_major": 2,
              "version_minor": 0,
              "model_id": "6181e6a2c64042f6a38710844ef70f13"
            }
          },
          "metadata": {}
        },
        {
          "output_type": "display_data",
          "data": {
            "text/plain": "config.json:   0%|          | 0.00/855 [00:00<?, ?B/s]",
            "application/vnd.jupyter.widget-view+json": {
              "version_major": 2,
              "version_minor": 0,
              "model_id": "3caef5e5ebd046ddb08355ad889cde55"
            }
          },
          "metadata": {}
        },
        {
          "output_type": "display_data",
          "data": {
            "text/plain": "model.safetensors.index.json:   0%|          | 0.00/23.9k [00:00<?, ?B/s]",
            "application/vnd.jupyter.widget-view+json": {
              "version_major": 2,
              "version_minor": 0,
              "model_id": "d1fe400afa6d4b669129088a90f24e7e"
            }
          },
          "metadata": {}
        },
        {
          "output_type": "display_data",
          "data": {
            "text/plain": "Downloading shards:   0%|          | 0/4 [00:00<?, ?it/s]",
            "application/vnd.jupyter.widget-view+json": {
              "version_major": 2,
              "version_minor": 0,
              "model_id": "0520986029ab4ef783c7d0ec67af6db1"
            }
          },
          "metadata": {}
        },
        {
          "output_type": "display_data",
          "data": {
            "text/plain": "model-00001-of-00004.safetensors:   0%|          | 0.00/4.98G [00:00<?, ?B/s]",
            "application/vnd.jupyter.widget-view+json": {
              "version_major": 2,
              "version_minor": 0,
              "model_id": "721a48ab0d244e6b93a723b57df1e108"
            }
          },
          "metadata": {}
        },
        {
          "output_type": "display_data",
          "data": {
            "text/plain": "model-00002-of-00004.safetensors:   0%|          | 0.00/5.00G [00:00<?, ?B/s]",
            "application/vnd.jupyter.widget-view+json": {
              "version_major": 2,
              "version_minor": 0,
              "model_id": "4556f3d6215f4e2f998c24c2ce51dbbe"
            }
          },
          "metadata": {}
        },
        {
          "output_type": "display_data",
          "data": {
            "text/plain": "model-00003-of-00004.safetensors:   0%|          | 0.00/4.92G [00:00<?, ?B/s]",
            "application/vnd.jupyter.widget-view+json": {
              "version_major": 2,
              "version_minor": 0,
              "model_id": "8491b740531f4438a3806e05f0a042ee"
            }
          },
          "metadata": {}
        },
        {
          "output_type": "display_data",
          "data": {
            "text/plain": "model-00004-of-00004.safetensors:   0%|          | 0.00/1.17G [00:00<?, ?B/s]",
            "application/vnd.jupyter.widget-view+json": {
              "version_major": 2,
              "version_minor": 0,
              "model_id": "16850c9181b743249b99bd5138bf5871"
            }
          },
          "metadata": {}
        },
        {
          "output_type": "display_data",
          "data": {
            "text/plain": "Loading checkpoint shards:   0%|          | 0/4 [00:00<?, ?it/s]",
            "application/vnd.jupyter.widget-view+json": {
              "version_major": 2,
              "version_minor": 0,
              "model_id": "305f73f43daf42bea2de33d8162e98ed"
            }
          },
          "metadata": {}
        },
        {
          "output_type": "display_data",
          "data": {
            "text/plain": "generation_config.json:   0%|          | 0.00/184 [00:00<?, ?B/s]",
            "application/vnd.jupyter.widget-view+json": {
              "version_major": 2,
              "version_minor": 0,
              "model_id": "6fcf7d5fa6a7438cbf0b2355ac7b3646"
            }
          },
          "metadata": {}
        },
        {
          "name": "stdout",
          "text": "time: 7min 43s (started: 2024-11-16 20:20:06 +00:00)\n",
          "output_type": "stream"
        }
      ],
      "execution_count": null
    },
    {
      "cell_type": "markdown",
      "source": [
        "### **4. Retrievers**"
      ],
      "metadata": {
        "id": "gLLRkamLcGEN"
      }
    },
    {
      "cell_type": "markdown",
      "source": [
        "### **4.1. Similarity Retriever**"
      ],
      "metadata": {
        "id": "fik0eUBocGEN"
      }
    },
    {
      "cell_type": "markdown",
      "source": [
        "#### **4.1.1. Generic Query using Similarity Retriever**"
      ],
      "metadata": {
        "id": "IQ8dGxrigUrR"
      }
    },
    {
      "cell_type": "code",
      "source": [
        "generic_query='''\n",
        "\n",
        "What was court's judgement on the following income tax case:\n",
        "\n",
        "Case Title: M/s Islamabad Electric Supply Company Limited (IESCO) through its Finance Director Islamabad v. The Appellate Tribunal Inland Revenue (Headquarter), Islamabad through its Chairman Islamabad and others\n",
        "\n",
        "Case No: C.P.L.A.1920/2022\n",
        "\n",
        "'''\n",
        "\n",
        "generic_query=generic_query.lower()\n",
        "\n",
        "\n",
        "\n",
        "context = vector_store.similarity_search_with_score(generic_query,k=10)\n",
        "\n",
        "\n",
        "\n",
        "prompt=f'''\n",
        "\n",
        "context:\n",
        "\n",
        "{context[0][0].page_content}\\n\\n\n",
        "\n",
        "{context[1][0].page_content}\\n\\n\n",
        "\n",
        "{context[2][0].page_content}\\n\\n\n",
        "\n",
        "{context[3][0].page_content}\\n\\n\n",
        "\n",
        "{context[4][0].page_content}\\n\\n\n",
        "\n",
        "{context[5][0].page_content}\\n\\n\n",
        "\n",
        "{context[6][0].page_content}\\n\\n\n",
        "\n",
        "{context[7][0].page_content}\\n\\n\n",
        "\n",
        "{context[8][0].page_content}\\n\\n\n",
        "\n",
        "{context[9][0].page_content}\n",
        "\n",
        "\n",
        "\n",
        "Suppose that you're a legal expert and then based on the above context answer the following query:\n",
        "\n",
        "\n",
        "\n",
        "{generic_query}\n",
        "\n",
        "\n",
        "\n",
        "Note: Only use the context that is given above to answer the query. Not all of the context might be important so only use what you find related to the query.\n",
        "\n",
        "If the context has nothing that is directly related to the query or not sufficient, say that \"I don't know as I don't have sufficient context! and mention your\n",
        "\n",
        "reasons for saying this.\n",
        "\n",
        "'''\n",
        "\n",
        "\n",
        "\n",
        "messages = [{\"role\": \"user\", \"content\": f'{prompt}'}]\n",
        "\n",
        "pipe = pipeline(\"text-generation\",model=model,tokenizer=tokenizer)\n",
        "\n",
        "generation_args = {\"max_new_tokens\": 2000,\n",
        "\n",
        "                   \"return_full_text\": False,\n",
        "\n",
        "                   \"temperature\": 0.0,\n",
        "\n",
        "                   \"do_sample\": False}\n",
        "\n",
        "output = pipe(messages, **generation_args)\n",
        "\n",
        "print(textwrap.fill(output[0]['generated_text'], width=80))"
      ],
      "metadata": {
        "id": "y_jjESR7ehGb",
        "trusted": true,
        "execution": {
          "iopub.status.busy": "2024-11-14T10:48:02.145391Z",
          "iopub.execute_input": "2024-11-14T10:48:02.146350Z",
          "iopub.status.idle": "2024-11-14T10:48:55.424692Z",
          "shell.execute_reply.started": "2024-11-14T10:48:02.146307Z",
          "shell.execute_reply": "2024-11-14T10:48:55.423721Z"
        },
        "outputId": "33f2641f-8472-4e51-d40c-d5d5f8f24d59"
      },
      "outputs": [
        {
          "name": "stderr",
          "text": "Setting `pad_token_id` to `eos_token_id`:None for open-end generation.\n",
          "output_type": "stream"
        },
        {
          "name": "stdout",
          "text": "Based on the given context, the court's judgment in the case of M/s Islamabad\nElectric Supply Company Limited (IESCO) through its Finance Director Islamabad\nv. The Appellate Tribunal Inland Revenue (Headquarter), Islamabad through its\nChairman Islamabad and others (Case No: C.P.L.A.1920/2022) was that the civil\npetitions were dismissed and leave was refused.  The court did not find any\nillegality or perversity in the impugned judgment of the learned high court. The\njudgment was delivered by Mr. Justice Muhammad Ali Mazhar on 10-08-2022.  The\ncourt's decision was based on the fact that the tax authority had afforded ample\nopportunities of hearing to the petitioner and had complied with the\nrequirements of due process of law before passing the orders under section 161\nof the ordinance.\ntime: 53.3 s (started: 2024-11-14 10:48:02 +00:00)\n",
          "output_type": "stream"
        }
      ],
      "execution_count": null
    },
    {
      "cell_type": "markdown",
      "source": [
        "#### **4.1.2. Specific Query using Similarity Retriever**"
      ],
      "metadata": {
        "id": "RBnf4l1UgXwq"
      }
    },
    {
      "cell_type": "code",
      "source": [
        "specific_query='''\n",
        "\n",
        "What are the implications of Section 177 of the Income Tax Ordinance regarding the audit exercise and its relation to Sections 161 and 205? Use the following case for reference:\n",
        "\n",
        "Case Title: M/s Islamabad Electric Supply Company Limited (IESCO) through its Finance Director Islamabad v. The Appellate Tribunal Inland Revenue (Headquarter), Islamabad through its Chairman Islamabad and others\n",
        "\n",
        "Case No: C.P.L.A.1920/2022\n",
        "\n",
        "'''\n",
        "\n",
        "specific_query=specific_query.lower()\n",
        "\n",
        "\n",
        "\n",
        "context = vector_store.similarity_search_with_score(specific_query,k=10)\n",
        "\n",
        "\n",
        "\n",
        "prompt=f'''\n",
        "\n",
        "context:\n",
        "\n",
        "{context[0][0].page_content}\\n\\n\n",
        "\n",
        "{context[1][0].page_content}\\n\\n\n",
        "\n",
        "{context[2][0].page_content}\\n\\n\n",
        "\n",
        "{context[3][0].page_content}\\n\\n\n",
        "\n",
        "{context[4][0].page_content}\\n\\n\n",
        "\n",
        "{context[5][0].page_content}\\n\\n\n",
        "\n",
        "{context[6][0].page_content}\\n\\n\n",
        "\n",
        "{context[7][0].page_content}\\n\\n\n",
        "\n",
        "{context[8][0].page_content}\\n\\n\n",
        "\n",
        "{context[9][0].page_content}\n",
        "\n",
        "\n",
        "\n",
        "Suppose that you're a legal expert and then based on the above context answer the following query:\n",
        "\n",
        "\n",
        "\n",
        "{specific_query}\n",
        "\n",
        "\n",
        "\n",
        "Note: Only use the context that is given above to answer the query. Not all of the context might be important so only use what you find related to the query.\n",
        "\n",
        "If the context has nothing that is directly related to the query or not sufficient, say that \"I don't know as I don't have sufficient context! and mention your\n",
        "\n",
        "reasons for saying this.\"\n",
        "\n",
        "'''\n",
        "\n",
        "\n",
        "\n",
        "messages = [{\"role\": \"user\", \"content\": f'{prompt}'}]\n",
        "\n",
        "pipe = pipeline(\"text-generation\",model=model,tokenizer=tokenizer)\n",
        "\n",
        "generation_args = {\"max_new_tokens\": 2000,\n",
        "\n",
        "                   \"return_full_text\": False,\n",
        "\n",
        "                   \"temperature\": 0.0,\n",
        "\n",
        "                   \"do_sample\": False}\n",
        "\n",
        "output = pipe(messages, **generation_args)\n",
        "\n",
        "print(textwrap.fill(output[0]['generated_text'], width=80))"
      ],
      "metadata": {
        "id": "riK2uKSgejmv",
        "trusted": true,
        "execution": {
          "iopub.status.busy": "2024-11-14T10:48:55.426446Z",
          "iopub.execute_input": "2024-11-14T10:48:55.426762Z",
          "iopub.status.idle": "2024-11-14T10:50:53.528634Z",
          "shell.execute_reply.started": "2024-11-14T10:48:55.426728Z",
          "shell.execute_reply": "2024-11-14T10:50:53.527718Z"
        },
        "outputId": "591d1189-bcb0-43da-c1ff-0a9244eee8b1"
      },
      "outputs": [
        {
          "name": "stderr",
          "text": "Setting `pad_token_id` to `eos_token_id`:None for open-end generation.\n",
          "output_type": "stream"
        },
        {
          "name": "stdout",
          "text": "Based on the provided context, section 177 of the income tax ordinance is\nrelated to the audit exercise. According to the context, section 177 of the\nordinance provides that the commissioner may call for any record or documents,\nincluding books of account maintained under this ordinance, for conducting audit\nof the income tax affairs of a person. However, the commissioner must record\nreasons in writing and communicate these reasons to the taxpayer while calling\nfor the record or documents.  The context also mentions that section 177 of the\nordinance is a precondition for taking any adverse action under sections 161 and\n205. However, it is stated that the provisions of section 177 and section 161\nare independent and self-governing, and the commissioner may amend or further\namend an order of recovery under section 161 without initiating proceedings\nunder section 177.  In the context of the case, m/s Islamabad Electric Supply\nCompany Limited (IESCO) through its Finance Director Islamabad v. The Appellate\nTribunal Inland Revenue (Headquarter), Islamabad through its Chairman Islamabad\nand others (Case No: C.P.L.A.1920/2022), the learned counsel for the petitioner\nargued that the orders under sections 161 and 205 of the ordinance cannot be\npassed without initiating proceedings under section 177 of the ordinance.\nHowever, the court held that the provisions of section 177 and section 161 are\nindependent and self-governing, and the commissioner may amend or further amend\nan order of recovery under section 161 without initiating proceedings under\nsection 177.  Therefore, the implications of section 177 of the income tax\nordinance regarding the audit exercise and its relation to sections 161 and 205\nare that section 177 is a precondition for taking any adverse action under\nsections 161 and 205, but the provisions of section 177 and section 161 are\nindependent and self-governing, and the commissioner may amend or further amend\nan order of recovery under section 161 without initiating proceedings under\nsection 177.\ntime: 1min 58s (started: 2024-11-14 10:48:55 +00:00)\n",
          "output_type": "stream"
        }
      ],
      "execution_count": null
    },
    {
      "cell_type": "markdown",
      "source": [
        "#### **4.1.3. Completely Generic Query using Similarity Retriever**"
      ],
      "metadata": {
        "id": "Jahy7QK1gaig"
      }
    },
    {
      "cell_type": "markdown",
      "source": [
        "**Limitation: RAG with similarity search doesn't do well without metadata inclusion (Poor Retrieval)**"
      ],
      "metadata": {
        "id": "F0dDQScLIbyB"
      }
    },
    {
      "cell_type": "code",
      "source": [
        "completely_generic_query='''\n",
        "\n",
        "What are the implications of Section 177 of the Income Tax Ordinance regarding the audit exercise and its relation to Sections 161 and 205?\n",
        "\n",
        "Which cases can you reference for this?\n",
        "\n",
        "'''\n",
        "\n",
        "completely_generic_query=completely_generic_query.lower()\n",
        "\n",
        "\n",
        "\n",
        "context = vector_store.similarity_search_with_score(completely_generic_query,k=10)\n",
        "\n",
        "\n",
        "\n",
        "prompt=f'''\n",
        "\n",
        "context:\n",
        "\n",
        "{context[0][0].page_content}\\n\\n\n",
        "\n",
        "{context[1][0].page_content}\\n\\n\n",
        "\n",
        "{context[2][0].page_content}\\n\\n\n",
        "\n",
        "{context[3][0].page_content}\\n\\n\n",
        "\n",
        "{context[4][0].page_content}\\n\\n\n",
        "\n",
        "{context[5][0].page_content}\\n\\n\n",
        "\n",
        "{context[6][0].page_content}\\n\\n\n",
        "\n",
        "{context[7][0].page_content}\\n\\n\n",
        "\n",
        "{context[8][0].page_content}\\n\\n\n",
        "\n",
        "{context[9][0].page_content}\n",
        "\n",
        "\n",
        "\n",
        "Suppose that you're a legal expert and then based on the above context answer the following query:\n",
        "\n",
        "\n",
        "\n",
        "{completely_generic_query}\n",
        "\n",
        "\n",
        "\n",
        "Note: Only use the context that is given above to answer the query. Not all of the context might be important so only use what you find related to the query.\n",
        "\n",
        "If the context has nothing that is directly related to the query or not sufficient, say that \"I don't know as I don't have sufficient context! and mention your\n",
        "\n",
        "reasons for saying this.\"\n",
        "\n",
        "'''\n",
        "\n",
        "\n",
        "\n",
        "messages = [{\"role\": \"user\", \"content\": f'{prompt}'}]\n",
        "\n",
        "pipe = pipeline(\"text-generation\",model=model,tokenizer=tokenizer)\n",
        "\n",
        "generation_args = {\"max_new_tokens\": 2000,\n",
        "\n",
        "                   \"return_full_text\": False,\n",
        "\n",
        "                   \"temperature\": 0.0,\n",
        "\n",
        "                   \"do_sample\": False}\n",
        "\n",
        "output = pipe(messages, **generation_args)\n",
        "\n",
        "print(textwrap.fill(output[0]['generated_text'], width=80))"
      ],
      "metadata": {
        "id": "HAZzCHNef5bp",
        "trusted": true,
        "execution": {
          "iopub.status.busy": "2024-11-14T10:50:53.529983Z",
          "iopub.execute_input": "2024-11-14T10:50:53.530309Z",
          "iopub.status.idle": "2024-11-14T10:51:28.784318Z",
          "shell.execute_reply.started": "2024-11-14T10:50:53.530276Z",
          "shell.execute_reply": "2024-11-14T10:51:28.783335Z"
        },
        "outputId": "dd47c97f-b9e2-49ef-a4fa-b3098b9ad54f"
      },
      "outputs": [
        {
          "name": "stderr",
          "text": "Setting `pad_token_id` to `eos_token_id`:None for open-end generation.\n",
          "output_type": "stream"
        },
        {
          "name": "stdout",
          "text": "I don't know as I don't have sufficient context!  The query is about the\nimplications of section 177 of the income tax ordinance regarding the audit\nexercise and its relation to sections 161 and 205. However, the provided context\ndoes not mention section 177, 161, or 205. The context only discusses sections\n111, 122, and other related provisions of the income tax ordinance. Therefore, I\ndo not have enough information to provide a relevant answer.\ntime: 35.2 s (started: 2024-11-14 10:50:53 +00:00)\n",
          "output_type": "stream"
        }
      ],
      "execution_count": null
    },
    {
      "cell_type": "markdown",
      "source": [
        "**Extra Experiment: Another Attempt (Again Poor Retrieval)**"
      ],
      "metadata": {
        "id": "mwK30Rx7IbyB"
      }
    },
    {
      "cell_type": "code",
      "source": [
        "completely_generic_query='''\n",
        "\n",
        "Give case title of case discuss section 124, section 160, section 161, section 165, section 177 & section 205 of the Income Tax Ordinance 2001!\n",
        "\n",
        "'''\n",
        "\n",
        "completely_generic_query=completely_generic_query.lower()\n",
        "\n",
        "\n",
        "\n",
        "context = vector_store.similarity_search_with_score(completely_generic_query,k=10)\n",
        "\n",
        "\n",
        "\n",
        "prompt=f'''\n",
        "\n",
        "context:\n",
        "\n",
        "{context[0][0].page_content}\\n\\n\n",
        "\n",
        "{context[1][0].page_content}\\n\\n\n",
        "\n",
        "{context[2][0].page_content}\\n\\n\n",
        "\n",
        "{context[3][0].page_content}\\n\\n\n",
        "\n",
        "{context[4][0].page_content}\\n\\n\n",
        "\n",
        "{context[5][0].page_content}\\n\\n\n",
        "\n",
        "{context[6][0].page_content}\\n\\n\n",
        "\n",
        "{context[7][0].page_content}\\n\\n\n",
        "\n",
        "{context[8][0].page_content}\\n\\n\n",
        "\n",
        "{context[9][0].page_content}\n",
        "\n",
        "\n",
        "\n",
        "Suppose that you're a legal expert and then based on the above context answer the following query:\n",
        "\n",
        "\n",
        "\n",
        "{completely_generic_query}\n",
        "\n",
        "\n",
        "\n",
        "Note: Only use the context that is given above to answer the query. Not all of the context might be important so only use what you find related to the query.\n",
        "\n",
        "If the context has nothing that is directly related to the query or not sufficient, say that \"I don't know as I don't have sufficient context!\" and mention your\n",
        "\n",
        "reasons for saying this.\n",
        "\n",
        "'''\n",
        "\n",
        "\n",
        "\n",
        "messages = [{\"role\": \"user\", \"content\": f'{prompt}'}]\n",
        "\n",
        "pipe = pipeline(\"text-generation\",model=model,tokenizer=tokenizer)\n",
        "\n",
        "generation_args = {\"max_new_tokens\": 2000,\n",
        "\n",
        "                   \"return_full_text\": False,\n",
        "\n",
        "                   \"temperature\": 0.0,\n",
        "\n",
        "                   \"do_sample\": False}\n",
        "\n",
        "output = pipe(messages, **generation_args)\n",
        "\n",
        "print(textwrap.fill(output[0]['generated_text'], width=80))"
      ],
      "metadata": {
        "trusted": true,
        "execution": {
          "iopub.status.busy": "2024-11-14T10:51:28.786131Z",
          "iopub.execute_input": "2024-11-14T10:51:28.786472Z",
          "iopub.status.idle": "2024-11-14T10:52:06.089713Z",
          "shell.execute_reply.started": "2024-11-14T10:51:28.786431Z",
          "shell.execute_reply": "2024-11-14T10:52:06.088674Z"
        },
        "id": "-XETaxRCIbyB",
        "outputId": "191300cf-f7a7-4896-f2e6-548ea8fa016e"
      },
      "outputs": [
        {
          "name": "stderr",
          "text": "Setting `pad_token_id` to `eos_token_id`:None for open-end generation.\n",
          "output_type": "stream"
        },
        {
          "name": "stdout",
          "text": "I don't know as I don't have sufficient context!  The query asks for the case\ntitle of a case that discusses sections 124, 160, 161, 165, 177, and 205 of the\nIncome Tax Ordinance 2001. However, the provided context only discusses sections\n111, 122, and 122(9) of the Income Tax Ordinance 2001, and does not mention any\nof the sections mentioned in the query. Therefore, I do not have enough\ninformation to answer the query.\ntime: 37.3 s (started: 2024-11-14 10:51:28 +00:00)\n",
          "output_type": "stream"
        }
      ],
      "execution_count": null
    },
    {
      "cell_type": "markdown",
      "source": [
        "### **4.2. BM25 Retriever**"
      ],
      "metadata": {
        "id": "HdHbEP5ccGEQ"
      }
    },
    {
      "cell_type": "markdown",
      "source": [
        "#### **4.2.1. Generic Query using BM25 Retriever**"
      ],
      "metadata": {
        "id": "KN6u_9MtcGER"
      }
    },
    {
      "cell_type": "code",
      "source": [
        "document_texts = [doc.page_content for doc in documents]\n",
        "\n",
        "bm25_retriever = BM25Retriever.from_texts(\n",
        "    document_texts, metadatas=[{}] * len(document_texts)\n",
        ")\n",
        "\n",
        "generic_query = '''\n",
        "What was court's judgement on the following income tax case:\n",
        "\n",
        "Case Title: M/s Islamabad Electric Supply Company Limited (IESCO) through its Finance Director Islamabad v. The Appellate Tribunal Inland Revenue (Headquarter), Islamabad through its Chairman Islamabad and others\n",
        "\n",
        "Case No: C.P.L.A.1920/2022\n",
        "'''\n",
        "\n",
        "generic_query = generic_query.lower()\n",
        "\n",
        "bm25_context = bm25_retriever.invoke(generic_query, k=10)\n",
        "\n",
        "bm25_prompt = f\"\"\"\n",
        "context:\n",
        "{''.join([doc.page_content for doc in bm25_context])}\n",
        "\n",
        "Suppose that you're a legal expert and then based on the above context answer the following query:\n",
        "\n",
        "{generic_query}\n",
        "\n",
        "Note: Only use the context that is given above to answer the query. Not all of the context might be important, so only use what you find related to the query.\n",
        "\n",
        "If the context has nothing that is directly related to the query or not sufficient, say that \"I don't know as I don't have sufficient context!\" and mention your reasons for saying this.\n",
        "\"\"\"\n",
        "\n",
        "pipe = pipeline(\"text-generation\", model=model, tokenizer=tokenizer)\n",
        "\n",
        "generation_args = {\n",
        "    \"max_new_tokens\": 2000,\n",
        "    \"return_full_text\": False,\n",
        "    \"temperature\": 0.0,\n",
        "    \"do_sample\": False\n",
        "}\n",
        "\n",
        "messages_bm25 = [{\"role\": \"user\", \"content\": bm25_prompt}]\n",
        "output_bm25 = pipe(messages_bm25, **generation_args)\n",
        "\n",
        "print(textwrap.fill(output_bm25[0]['generated_text'], width=80))"
      ],
      "metadata": {
        "trusted": true,
        "execution": {
          "iopub.status.busy": "2024-11-14T10:35:54.792970Z",
          "iopub.execute_input": "2024-11-14T10:35:54.793622Z",
          "iopub.status.idle": "2024-11-14T10:36:43.989846Z",
          "shell.execute_reply.started": "2024-11-14T10:35:54.793579Z",
          "shell.execute_reply": "2024-11-14T10:36:43.988804Z"
        },
        "id": "6eNRaXUccGER",
        "outputId": "f62cc40d-b28c-4b89-b457-36b48a3b7f26"
      },
      "outputs": [
        {
          "name": "stderr",
          "text": "Setting `pad_token_id` to `eos_token_id`:None for open-end generation.\n",
          "output_type": "stream"
        },
        {
          "name": "stdout",
          "text": "Based on the given context, the court's judgment in the income tax case \"m/s\nislamabad electric supply company limited (iesco) through its finance director\nislamabad v. the appellate tribunal inland revenue (headquarter), islamabad\nthrough its chairman islamabad and others\" (Case No: c.p.l.a.1920/2022) was that\nthe learned high court and the learned appellate tribunal inland revenue failed\nto consider that the order under sections 161 and 205 of the ordinance cannot be\npassed without initiating proceedings under section 177 of the ordinance.\nHowever, the context does not explicitly state the final judgment of the court\nin the case. It only mentions that the learned high court answered the question\nof law framed in the tax references in the negative, while upholding the order\npassed by the learned appellate tribunal inland revenue.  Therefore, the final\njudgment of the court in the case is not explicitly stated in the given context.\ntime: 49.2 s (started: 2024-11-14 10:35:54 +00:00)\n",
          "output_type": "stream"
        }
      ],
      "execution_count": null
    },
    {
      "cell_type": "markdown",
      "source": [
        "#### **4.2.2. Specific Query using BM25 Retriever**"
      ],
      "metadata": {
        "id": "qBKIC2vTcGER"
      }
    },
    {
      "cell_type": "code",
      "source": [
        "document_texts = [doc.page_content for doc in documents]\n",
        "\n",
        "bm25_retriever = BM25Retriever.from_texts(\n",
        "    document_texts, metadatas=[{}] * len(document_texts)\n",
        ")\n",
        "\n",
        "specific_query='''\n",
        "\n",
        "What are the implications of Section 177 of the Income Tax Ordinance regarding the audit exercise and its relation to Sections 161 and 205? Use the following case for reference:\n",
        "\n",
        "Case Title: M/s Islamabad Electric Supply Company Limited (IESCO) through its Finance Director Islamabad v. The Appellate Tribunal Inland Revenue (Headquarter), Islamabad through its Chairman Islamabad and others\n",
        "\n",
        "Case No: C.P.L.A.1920/2022\n",
        "\n",
        "'''\n",
        "\n",
        "specific_query=specific_query.lower()\n",
        "\n",
        "bm25_context = bm25_retriever.invoke(specific_query, k=10)\n",
        "\n",
        "bm25_prompt = f\"\"\"\n",
        "context:\n",
        "{''.join([doc.page_content for doc in bm25_context])}\n",
        "\n",
        "Suppose that you're a legal expert and then based on the above context answer the following query:\n",
        "\n",
        "{specific_query}\n",
        "\n",
        "Note: Only use the context that is given above to answer the query. Not all of the context might be important, so only use what you find related to the query.\n",
        "\n",
        "If the context has nothing that is directly related to the query or not sufficient, say that \"I don't know as I don't have sufficient context!\" and mention your reasons for saying this.\n",
        "\"\"\"\n",
        "\n",
        "pipe = pipeline(\"text-generation\", model=model, tokenizer=tokenizer)\n",
        "\n",
        "generation_args = {\n",
        "    \"max_new_tokens\": 2000,\n",
        "    \"return_full_text\": False,\n",
        "    \"temperature\": 0.0,\n",
        "    \"do_sample\": False\n",
        "}\n",
        "\n",
        "messages_bm25 = [{\"role\": \"user\", \"content\": bm25_prompt}]\n",
        "output_bm25 = pipe(messages_bm25, **generation_args)\n",
        "\n",
        "print(textwrap.fill(output_bm25[0]['generated_text'], width=80))"
      ],
      "metadata": {
        "trusted": true,
        "execution": {
          "iopub.status.busy": "2024-11-14T10:39:30.627959Z",
          "iopub.execute_input": "2024-11-14T10:39:30.628258Z",
          "iopub.status.idle": "2024-11-14T10:40:53.718147Z",
          "shell.execute_reply.started": "2024-11-14T10:39:30.628225Z",
          "shell.execute_reply": "2024-11-14T10:40:53.717192Z"
        },
        "id": "X4FeQa2scGES",
        "outputId": "9cb112f0-15c4-40ec-a42d-79e502e227be"
      },
      "outputs": [
        {
          "name": "stderr",
          "text": "Setting `pad_token_id` to `eos_token_id`:None for open-end generation.\n",
          "output_type": "stream"
        },
        {
          "name": "stdout",
          "text": "Based on the given context, the implications of section 177 of the income tax\nordinance regarding the audit exercise and its relation to sections 161 and 205\nare as follows:  Section 177 of the ordinance is predominantly related to the\naudit exercise, where the commissioner may call for any record or documents,\nincluding books of account, for conducting an audit of the income tax affairs of\na person. However, this can only be done after recording reasons in writing and\ncommunicating those reasons to the taxpayer. Moreover, no record can be called\nafter the expiry of six years from the end of the tax year to which they relate.\nThe learned counsel for the petitioner argued that the orders under sections 161\nand 205 of the ordinance cannot be passed without initiating proceedings under\nsection 177 of the ordinance, which is a precondition before taking any adverse\naction under sections 161 and 205. This implies that section 177 is a\nprerequisite for the exercise of powers under sections 161 and 205.  In other\nwords, the audit exercise under section 177 is a necessary step before the\ncommissioner can initiate proceedings under sections 161 and 205, which relate\nto default surcharge and non-deduction of withholding tax, respectively. The\ncommissioner must first conduct an audit under section 177 and record reasons in\nwriting before taking any adverse action under sections 161 and 205.  Therefore,\nthe implications of section 177 of the income tax ordinance are that it is a\nnecessary precondition for the exercise of powers under sections 161 and 205,\nand the commissioner must comply with the requirements of section 177 before\ntaking any adverse action under sections 161 and 205.\ntime: 1min 23s (started: 2024-11-14 10:39:30 +00:00)\n",
          "output_type": "stream"
        }
      ],
      "execution_count": null
    },
    {
      "cell_type": "markdown",
      "source": [
        "#### **4.2.3. Completely Generic Query using BM25 Retriever**"
      ],
      "metadata": {
        "id": "4qsyxfLgcGES"
      }
    },
    {
      "cell_type": "code",
      "source": [
        "document_texts = [doc.page_content for doc in documents]\n",
        "\n",
        "bm25_retriever = BM25Retriever.from_texts(\n",
        "    document_texts, metadatas=[{}] * len(document_texts)\n",
        ")\n",
        "\n",
        "completely_generic_query='''\n",
        "\n",
        "What are the implications of Section 177 of the Income Tax Ordinance regarding the audit exercise and its relation to Sections 161 and 205?\n",
        "\n",
        "Which cases can you reference for this?\n",
        "\n",
        "'''\n",
        "\n",
        "completely_generic_query=completely_generic_query.lower()\n",
        "\n",
        "bm25_context = bm25_retriever.invoke(completely_generic_query, k=10)\n",
        "\n",
        "bm25_prompt = f\"\"\"\n",
        "context:\n",
        "{''.join([doc.page_content for doc in bm25_context])}\n",
        "\n",
        "Suppose that you're a legal expert and then based on the above context answer the following query:\n",
        "\n",
        "{completely_generic_query}\n",
        "\n",
        "Note: Only use the context that is given above to answer the query. Not all of the context might be important, so only use what you find related to the query.\n",
        "\n",
        "If the context has nothing that is directly related to the query or not sufficient, say that \"I don't know as I don't have sufficient context!\" and mention your reasons for saying this.\n",
        "\"\"\"\n",
        "\n",
        "pipe = pipeline(\"text-generation\", model=model, tokenizer=tokenizer)\n",
        "\n",
        "generation_args = {\n",
        "    \"max_new_tokens\": 2000,\n",
        "    \"return_full_text\": False,\n",
        "    \"temperature\": 0.0,\n",
        "    \"do_sample\": False\n",
        "}\n",
        "\n",
        "messages_bm25 = [{\"role\": \"user\", \"content\": bm25_prompt}]\n",
        "output_bm25 = pipe(messages_bm25, **generation_args)\n",
        "\n",
        "print(textwrap.fill(output_bm25[0]['generated_text'], width=80))"
      ],
      "metadata": {
        "trusted": true,
        "execution": {
          "iopub.status.busy": "2024-11-14T10:40:53.719587Z",
          "iopub.execute_input": "2024-11-14T10:40:53.720233Z",
          "iopub.status.idle": "2024-11-14T10:43:01.007123Z",
          "shell.execute_reply.started": "2024-11-14T10:40:53.720185Z",
          "shell.execute_reply": "2024-11-14T10:43:01.006073Z"
        },
        "id": "bkdigZPrcGES",
        "outputId": "e6d7bf22-66c7-493c-e3e0-9f47d9f1637b"
      },
      "outputs": [
        {
          "name": "stderr",
          "text": "Setting `pad_token_id` to `eos_token_id`:None for open-end generation.\n",
          "output_type": "stream"
        },
        {
          "name": "stdout",
          "text": "Based on the given context, the implications of section 177 of the income tax\nordinance regarding the audit exercise and its relation to sections 161 and 205\nare as follows:  Section 177 of the ordinance is predominantly related to the\naudit exercise, where the commissioner may call for any record or documents,\nincluding books of account maintained under this ordinance for conducting audit\nof the income tax affairs of a person. However, the legislature has not put into\neffect any precondition under section 177 of the ordinance to embark on an audit\nexercise first, and then start off proceedings under section 161 of the\nordinance.  The learned judge, Mr. Justice Muhammad Ali Mazhar, held that the\nintention of the legislature must be discovered from the words used. If the\nwords used are capable of one construction only, then it would not be open to\nthe courts to adopt any other hypothetical construction. In this case, the words\nof section 177 of the ordinance are readily understood without any ambiguity,\nand it is not for the court to raise any doubt as to what they mean.  The judge\nalso mentioned that the legislature has not put any precondition under section\n177 of the ordinance to embark on an audit exercise first, and then start off\nproceedings under section 161 of the ordinance. This implies that the audit\nexercise under section 177 is a separate exercise from the proceedings under\nsection 161.  The judge also mentioned that the case of Commissioner Inland\nRevenue Zone-I, L.T.U vs. MCB Bank Limited (2021 SCMR 1325) is distinguishable\nfrom the facts and circumstances of the case in hand. However, this case is not\ndirectly relevant to the implications of section 177 of the ordinance regarding\nthe audit exercise and its relation to sections 161 and 205.  The relevant case\nthat can be referenced for this is Fawcett Properties v. Buckingham County\nCouncil [1961] AC 636, where Lord Denning held that when a statute has some\nmeaning even though it is obscure, or several meanings, even though there is\nlittle to choose between them, the court should adopt the construction which\nmakes the statute effectual and operational.  Therefore, the implications of\nsection 177 of the income tax ordinance regarding the audit exercise and its\nrelation to sections 161 and 205 are that the audit exercise under section 177\nis a separate exercise from the proceedings under section 161, and the\nlegislature has not put any precondition under section 177 to embark on an audit\nexercise first, and then start off proceedings under section 161.\ntime: 2min 7s (started: 2024-11-14 10:40:53 +00:00)\n",
          "output_type": "stream"
        }
      ],
      "execution_count": null
    },
    {
      "cell_type": "markdown",
      "source": [
        "### **4.3. Ensemble Retriever**"
      ],
      "metadata": {
        "id": "fghboXLBcGES"
      }
    },
    {
      "cell_type": "markdown",
      "source": [
        "#### **4.3.1. Generic Query using Ensemble Retriever**"
      ],
      "metadata": {
        "id": "OJTgKR2FcGES"
      }
    },
    {
      "cell_type": "code",
      "source": [
        "document_texts = [doc.page_content for doc in documents]\n",
        "\n",
        "bm25_retriever = BM25Retriever.from_texts(\n",
        "    document_texts, metadatas=[{}] * len(document_texts)\n",
        ")\n",
        "\n",
        "ensemble_retriever = EnsembleRetriever(retrievers=[bm25_retriever, vector_store.as_retriever()], weights=[0.5, 0.5])\n",
        "\n",
        "generic_query = '''\n",
        "What was court's judgement on the following income tax case:\n",
        "\n",
        "Case Title: M/s Islamabad Electric Supply Company Limited (IESCO) through its Finance Director Islamabad v. The Appellate Tribunal Inland Revenue (Headquarter), Islamabad through its Chairman Islamabad and others\n",
        "\n",
        "Case No: C.P.L.A.1920/2022\n",
        "'''\n",
        "\n",
        "generic_query = generic_query.lower()\n",
        "\n",
        "ensemble_context = ensemble_retriever.invoke(generic_query, k=10)\n",
        "\n",
        "ensemble_prompt = f\"\"\"\n",
        "context:\n",
        "{''.join([doc.page_content for doc in ensemble_context])}\n",
        "\n",
        "Suppose that you're a legal expert and then based on the above context answer the following query:\n",
        "\n",
        "{generic_query}\n",
        "\n",
        "Note: Only use the context that is given above to answer the query. Not all of the context might be important, so only use what you find related to the query.\n",
        "\n",
        "If the context has nothing that is directly related to the query or not sufficient, say that \"I don't know as I don't have sufficient context!\" and mention your reasons for saying this.\n",
        "\"\"\"\n",
        "\n",
        "pipe = pipeline(\"text-generation\", model=model, tokenizer=tokenizer)\n",
        "\n",
        "generation_args = {\n",
        "    \"max_new_tokens\": 2000,\n",
        "    \"return_full_text\": False,\n",
        "    \"temperature\": 0.0,\n",
        "    \"do_sample\": False\n",
        "}\n",
        "\n",
        "messages_ensemble = [{\"role\": \"user\", \"content\": ensemble_prompt}]\n",
        "output_ensemble = pipe(messages_ensemble, **generation_args)\n",
        "\n",
        "print(textwrap.fill(output_ensemble[0]['generated_text'], width=80))"
      ],
      "metadata": {
        "trusted": true,
        "execution": {
          "iopub.status.busy": "2024-11-14T10:33:41.127574Z",
          "iopub.execute_input": "2024-11-14T10:33:41.128317Z",
          "iopub.status.idle": "2024-11-14T10:34:50.062726Z",
          "shell.execute_reply.started": "2024-11-14T10:33:41.128280Z",
          "shell.execute_reply": "2024-11-14T10:34:50.061703Z"
        },
        "id": "ywm8pXDNcGES",
        "outputId": "9c5ff95a-f871-46a5-dd66-ebc92039e720"
      },
      "outputs": [
        {
          "name": "stderr",
          "text": "Setting `pad_token_id` to `eos_token_id`:None for open-end generation.\n",
          "output_type": "stream"
        },
        {
          "name": "stdout",
          "text": "Based on the given context, the court's judgment in the income tax case of M/s\nIslamabad Electric Supply Company Limited (IESCO) through its Finance Director\nIslamabad v. The Appellate Tribunal Inland Revenue (Headquarter), Islamabad\nthrough its Chairman Islamabad and others (Case No: C.P.L.A.1920/2022) was that\nthe Appellate Tribunal Inland Revenue was justified in passing the order under\nSection 161/205 of the Income Tax Ordinance, 2001, without proceedings under\nSection 177 of the Ordinance.  The court, in its judgment, held that the\nAppellate Tribunal Inland Revenue had provided sufficient opportunities to the\ntaxpayer (IESCO) to provide relevant documents or details, but they failed to do\nso. Therefore, the order was passed on the basis of the available record.  The\ncourt also framed a common question of law in the reference applications, which\nwas:  \"Whether under the facts and circumstances of the case, was the respondent\nNo.1 justified to hold proceedings and pass order under Section 161/205 without\nproceedings under Section 177 of the ITO, 2001?\"  The court answered this\nquestion in the negative, upholding the order passed by the Appellate Tribunal\nInland Revenue.\ntime: 1min 8s (started: 2024-11-14 10:33:41 +00:00)\n",
          "output_type": "stream"
        }
      ],
      "execution_count": null
    },
    {
      "cell_type": "markdown",
      "source": [
        "#### **4.3.2. Specific Query using Ensemble Retriever**"
      ],
      "metadata": {
        "id": "Ak_Xh5sNcGET"
      }
    },
    {
      "cell_type": "code",
      "source": [
        "document_texts = [doc.page_content for doc in documents]\n",
        "\n",
        "bm25_retriever = BM25Retriever.from_texts(\n",
        "    document_texts, metadatas=[{}] * len(document_texts)\n",
        ")\n",
        "\n",
        "ensemble_retriever = EnsembleRetriever(retrievers=[bm25_retriever, vector_store.as_retriever()], weights=[0.5, 0.5])\n",
        "\n",
        "specific_query='''\n",
        "\n",
        "What are the implications of Section 177 of the Income Tax Ordinance regarding the audit exercise and its relation to Sections 161 and 205? Use the following case for reference:\n",
        "\n",
        "Case Title: M/s Islamabad Electric Supply Company Limited (IESCO) through its Finance Director Islamabad v. The Appellate Tribunal Inland Revenue (Headquarter), Islamabad through its Chairman Islamabad and others\n",
        "\n",
        "Case No: C.P.L.A.1920/2022\n",
        "\n",
        "'''\n",
        "\n",
        "specific_query=specific_query.lower()\n",
        "\n",
        "ensemble_context = ensemble_retriever.invoke(specific_query, k=10)\n",
        "\n",
        "ensemble_prompt = f\"\"\"\n",
        "context:\n",
        "{''.join([doc.page_content for doc in ensemble_context])}\n",
        "\n",
        "Suppose that you're a legal expert and then based on the above context answer the following query:\n",
        "\n",
        "{specific_query}\n",
        "\n",
        "Note: Only use the context that is given above to answer the query. Not all of the context might be important, so only use what you find related to the query.\n",
        "\n",
        "If the context has nothing that is directly related to the query or not sufficient, say that \"I don't know as I don't have sufficient context!\" and mention your reasons for saying this.\n",
        "\"\"\"\n",
        "\n",
        "pipe = pipeline(\"text-generation\", model=model, tokenizer=tokenizer)\n",
        "\n",
        "generation_args = {\n",
        "    \"max_new_tokens\": 2000,\n",
        "    \"return_full_text\": False,\n",
        "    \"temperature\": 0.0,\n",
        "    \"do_sample\": False\n",
        "}\n",
        "\n",
        "messages_ensemble = [{\"role\": \"user\", \"content\": ensemble_prompt}]\n",
        "output_ensemble = pipe(messages_ensemble, **generation_args)\n",
        "\n",
        "print(textwrap.fill(output_ensemble[0]['generated_text'], width=80))"
      ],
      "metadata": {
        "trusted": true,
        "execution": {
          "iopub.status.busy": "2024-11-14T10:28:30.342009Z",
          "iopub.execute_input": "2024-11-14T10:28:30.342453Z",
          "iopub.status.idle": "2024-11-14T10:29:47.278526Z",
          "shell.execute_reply.started": "2024-11-14T10:28:30.342411Z",
          "shell.execute_reply": "2024-11-14T10:29:47.277529Z"
        },
        "id": "EZLOjrExcGET",
        "outputId": "d63b67cd-19b7-48d8-83e4-75fc4b41534f"
      },
      "outputs": [
        {
          "name": "stderr",
          "text": "Setting `pad_token_id` to `eos_token_id`:None for open-end generation.\nStarting from v4.46, the `logits` model output will have the same type as the model (except at train time, where it will always be FP32)\n",
          "output_type": "stream"
        },
        {
          "name": "stdout",
          "text": "According to the context, section 177 of the income tax ordinance is related to\nthe audit exercise, where the commissioner may call for any record or documents,\nincluding books of account maintained under this ordinance, for conducting audit\nof the income tax affairs of a person. However, this section is not a\nprecondition for the exercise of powers under sections 161 and 205.  The context\nstates that section 177 of the ordinance is \"predominantly related to the audit\nexercise, whereby the commissioner may call for any record or documents\nincluding books of account maintained under this ordinance for conducting audit\nof the income tax affairs of a person but after recording reasons in writing\nand, as a precondition, the said reasons shall be communicated to the taxpayer\nwhile calling for the record or documents including books of accounts of the\ntaxpayer.\"  Furthermore, the context clarifies that the provisions under section\n177 of the ordinance do not override or overlap the provisions contained under\nsection 161 of the ordinance. It is mentioned that \"both the provisions are, in\nall fairness, seemingly independent with self-governing corollaries.\"\nTherefore, the implications of section 177 of the income tax ordinance regarding\nthe audit exercise and its relation to sections 161 and 205 are that section 177\nis an independent provision that deals with the audit exercise, and it is not a\nprecondition for the exercise of powers under sections 161 and 205.\ntime: 1min 16s (started: 2024-11-14 10:28:30 +00:00)\n",
          "output_type": "stream"
        }
      ],
      "execution_count": null
    },
    {
      "cell_type": "markdown",
      "source": [
        "#### **4.3.3. Completely Generic Query using Ensemble Retriever**"
      ],
      "metadata": {
        "id": "gxHMo0lpcGET"
      }
    },
    {
      "cell_type": "code",
      "source": [
        "document_texts = [doc.page_content for doc in documents]\n",
        "\n",
        "bm25_retriever = BM25Retriever.from_texts(\n",
        "    document_texts, metadatas=[{}] * len(document_texts)\n",
        ")\n",
        "\n",
        "ensemble_retriever = EnsembleRetriever(retrievers=[bm25_retriever, vector_store.as_retriever()], weights=[0.5, 0.5])\n",
        "\n",
        "completely_generic_query='''\n",
        "\n",
        "What are the implications of Section 177 of the Income Tax Ordinance regarding the audit exercise and its relation to Sections 161 and 205?\n",
        "\n",
        "Which cases can you reference for this?\n",
        "\n",
        "'''\n",
        "\n",
        "completely_generic_query=completely_generic_query.lower()\n",
        "\n",
        "ensemble_context = ensemble_retriever.invoke(completely_generic_query, k=10)\n",
        "\n",
        "ensemble_prompt = f\"\"\"\n",
        "context:\n",
        "{''.join([doc.page_content for doc in ensemble_context])}\n",
        "\n",
        "Suppose that you're a legal expert and then based on the above context answer the following query:\n",
        "\n",
        "{completely_generic_query}\n",
        "\n",
        "Note: Only use the context that is given above to answer the query. Not all of the context might be important, so only use what you find related to the query.\n",
        "\n",
        "If the context has nothing that is directly related to the query or not sufficient, say that \"I don't know as I don't have sufficient context!\" and mention your reasons for saying this.\n",
        "\"\"\"\n",
        "\n",
        "pipe = pipeline(\"text-generation\", model=model, tokenizer=tokenizer)\n",
        "\n",
        "generation_args = {\n",
        "    \"max_new_tokens\": 2000,\n",
        "    \"return_full_text\": False,\n",
        "    \"temperature\": 0.0,\n",
        "    \"do_sample\": False\n",
        "}\n",
        "\n",
        "messages_ensemble = [{\"role\": \"user\", \"content\": ensemble_prompt}]\n",
        "output_ensemble = pipe(messages_ensemble, **generation_args)\n",
        "\n",
        "print(textwrap.fill(output_ensemble[0]['generated_text'], width=80))"
      ],
      "metadata": {
        "trusted": true,
        "execution": {
          "iopub.status.busy": "2024-11-14T10:30:52.580486Z",
          "iopub.execute_input": "2024-11-14T10:30:52.581472Z",
          "iopub.status.idle": "2024-11-14T10:33:05.181786Z",
          "shell.execute_reply.started": "2024-11-14T10:30:52.581428Z",
          "shell.execute_reply": "2024-11-14T10:33:05.180708Z"
        },
        "id": "DpGFCeFAcGET",
        "outputId": "25672120-ed37-4d12-9ddd-0f33f3396691"
      },
      "outputs": [
        {
          "name": "stderr",
          "text": "Setting `pad_token_id` to `eos_token_id`:None for open-end generation.\n",
          "output_type": "stream"
        },
        {
          "name": "stdout",
          "text": "Based on the given context, the implications of section 177 of the income tax\nordinance regarding the audit exercise and its relation to sections 161 and 205\nare as follows:  Section 177 of the ordinance is predominantly related to the\naudit exercise, where the commissioner may call for any record or documents,\nincluding books of account maintained under this ordinance for conducting audit\nof the income tax affairs of a person. However, the proviso to sub-section (1)\nclarified that no record shall be called after expiry of six years from the end\nof the tax year to which they relate.  The learned counsel for the petitioner in\nthe case of M/s Islamabad Electric Supply Company Limited (IESCO) through its\nFinance Director Islamabad v. The Appellate Tribunal Inland Revenue\n(Headquarter), Islamabad through its Chairman Islamabad and others (Case No:\nc.p.l.a.1920/2022) argued that the order under sections 161 and 205 of the\nordinance cannot be passed without initiating proceedings under section 177 of\nthe ordinance, which is a precondition before taking any adverse action under\nsections 161 and 205.  However, the learned judge, Mr. Justice Muhammad Ali\nMazhar, held that the legislature has not put into effect any precondition under\nsection 177 of the ordinance to embark on an audit exercise first, and then\nstart off proceedings under section 161 of the ordinance. He further stated that\nthe intention of the legislature must be discovered from the words used, and if\nthe words used are capable of one construction only, then it would not be open\nto the courts to adopt any other hypothetical construction.  Therefore, it can\nbe inferred that section 177 of the ordinance does not have a direct relation to\nsections 161 and 205, and the audit exercise under section 177 is not a\nprecondition for taking adverse action under sections 161 and 205.  The cases\nthat can be referenced for this are:  1. M/s Islamabad Electric Supply Company\nLimited (IESCO) through its Finance Director Islamabad v. The Appellate Tribunal\nInland Revenue (Headquarter), Islamabad through its Chairman Islamabad and\nothers (Case No: c.p.l.a.1920/2022) 2. Commissioner Inland Revenue, Lahore v.\nM/s Millat Tractors Limited, Lahore (Case No: c.p.l.a.2447-l/2022)\ntime: 2min 12s (started: 2024-11-14 10:30:52 +00:00)\n",
          "output_type": "stream"
        }
      ],
      "execution_count": null
    },
    {
      "cell_type": "markdown",
      "source": [
        "### **Observations:**\n",
        "\n",
        "We went with Ensemble Retriever that combines both keyword based retriever (BM25) and semantic search (similarity search) by assigning weights to their results. It aggregates the scores from both retrievers to rank and return the most relevant documents, leveraging the strengths of both sparse and dense retrieval methods for better accuracy."
      ],
      "metadata": {
        "id": "tX92i5mScGEU"
      }
    },
    {
      "cell_type": "markdown",
      "source": [
        "### **5. Generation**\n",
        "\n",
        "* For the generation enhancement experimentation ahead, we used the Specific Query to check different strategies and then applied final best strategy for comparison between LLMs to all the queries: Generic, Specific, Completely Generic.\n",
        "\n",
        "* We are using Ensemble Retrieval throughout this section and beyond.\n",
        "\n",
        "* We attempted first having the summary generated from the context and query, and then with summary generated from context only i.e. without the query. We selected the latter approach because it would generate summaries based on the document content instead of having bias from the query.\n",
        "\n",
        "* When using each of the summaries along with the context to get the query answer from RAG, we decide the approach of summary without query. This isolates the extracting relevant information phase from the generation phase, resulting in a summary that is more of an abstract of the document and then would answer query based of of that without introducing too many details which would help this strategy to generalize to all query types.\n",
        "\n",
        "* The final approach is to use Long Context Reordering and integrate it with the above approaches. We first retrive the Ensemble Context, reorder it, then pass the Reordered Context to generate the summary without the query. Then use that summary along with the reordered context to answer the query. And this is the final strategy used across all 3 queries in the 2 LLMs for comparison of LLMs and Final RAG Evaluation."
      ],
      "metadata": {
        "id": "QPOnM50lcGEU"
      }
    },
    {
      "cell_type": "markdown",
      "source": [
        "#### **5.1.1. Generating Summary (With Query)**"
      ],
      "metadata": {
        "id": "Vtux_PHFcGEU"
      }
    },
    {
      "cell_type": "code",
      "source": [
        "document_texts = [doc.page_content for doc in documents]\n",
        "\n",
        "bm25_retriever = BM25Retriever.from_texts(\n",
        "    document_texts, metadatas=[{}] * len(document_texts)\n",
        ")\n",
        "\n",
        "ensemble_retriever = EnsembleRetriever(retrievers=[bm25_retriever, vector_store.as_retriever()], weights=[0.5, 0.5])\n",
        "\n",
        "specific_query='''\n",
        "\n",
        "What are the implications of Section 177 of the Income Tax Ordinance regarding the audit exercise and its relation to Sections 161 and 205? Use the following case for reference:\n",
        "\n",
        "Case Title: M/s Islamabad Electric Supply Company Limited (IESCO) through its Finance Director Islamabad v. The Appellate Tribunal Inland Revenue (Headquarter), Islamabad through its Chairman Islamabad and others\n",
        "\n",
        "Case No: C.P.L.A.1920/2022\n",
        "\n",
        "'''\n",
        "\n",
        "specific_query=specific_query.lower()\n",
        "\n",
        "ensemble_context = ensemble_retriever.invoke(specific_query, k=10)\n",
        "\n",
        "ensemble_prompt = f\"\"\"\n",
        "context:\n",
        "{''.join([doc.page_content for doc in ensemble_context])}\n",
        "\n",
        "Based on the above context, summarize the key implications of Section 177 of the Income Tax Ordinance regarding the audit exercise and its relation to Sections 161 and 205. Use the case provided as a reference.\n",
        "\n",
        "Case Title: M/s Islamabad Electric Supply Company Limited (IESCO) through its Finance Director Islamabad v. The Appellate Tribunal Inland Revenue (Headquarter), Islamabad through its Chairman Islamabad and others\n",
        "\n",
        "Case No: C.P.L.A.1920/2022\n",
        "\n",
        "{specific_query}\n",
        "\n",
        "Note: Only use the context above to answer the query. If the context is insufficient, say \"I don't know as I don't have sufficient context!\" and explain why.\n",
        "\"\"\"\n",
        "\n",
        "pipe = pipeline(\"text-generation\", model=model, tokenizer=tokenizer)\n",
        "\n",
        "generation_args = {\n",
        "    \"max_new_tokens\": 2000,\n",
        "    \"return_full_text\": False,\n",
        "    \"temperature\": 0.0,\n",
        "    \"do_sample\": False\n",
        "}\n",
        "\n",
        "messages_ensemble = [{\"role\": \"user\", \"content\": ensemble_prompt}]\n",
        "output_ensemble = pipe(messages_ensemble, **generation_args)\n",
        "\n",
        "print(textwrap.fill(output_ensemble[0]['generated_text'], width=80))\n",
        "\n",
        "summary1_w_query = output_ensemble[0]['generated_text']"
      ],
      "metadata": {
        "trusted": true,
        "execution": {
          "iopub.status.busy": "2024-11-14T11:54:24.952005Z",
          "iopub.execute_input": "2024-11-14T11:54:24.952721Z",
          "iopub.status.idle": "2024-11-14T11:56:29.737016Z",
          "shell.execute_reply.started": "2024-11-14T11:54:24.952680Z",
          "shell.execute_reply": "2024-11-14T11:56:29.736116Z"
        },
        "id": "wNgTHn4KcGEU",
        "outputId": "d4111e40-6c10-4f50-95c2-1e85c8ea1d21"
      },
      "outputs": [
        {
          "name": "stderr",
          "text": "Setting `pad_token_id` to `eos_token_id`:None for open-end generation.\n",
          "output_type": "stream"
        },
        {
          "name": "stdout",
          "text": "Based on the provided context, the key implications of Section 177 of the Income\nTax Ordinance regarding the audit exercise and its relation to Sections 161 and\n205 are as follows:  1. **Independence of Sections 177, 161, and 205**: Section\n177 of the ordinance is related to the audit exercise, where the commissioner\nmay call for any record or documents for conducting audit of the income tax\naffairs of a person. However, the audit exercise under Section 177 is\nindependent of the provisions contained under Section 161 of the ordinance. This\nmeans that the commissioner may initiate proceedings under Section 161 without\nfirst conducting an audit under Section 177.  2. **No Precondition for Section\n161**: The audit exercise under Section 177 is not a precondition for the\ncommissioner to initiate proceedings under Section 161. The commissioner may\namend or further amend an order of recovery under Section 161 without first\nconducting an audit under Section 177.  3. **Different Premise for Section\n161**: Section 161 of the ordinance has a different premise than Section 177.\nThe commissioner may amend or further amend an order of recovery under Section\n161 if he considers that the order is erroneous in so far as it is prejudicial\nto the interest of revenue.  4. **No Overlap between Sections 177 and 161**: The\nprovisions contained under Section 177 of the ordinance do not override or\noverlap the provisions contained under Section 161 of the ordinance. Both\nsections are seemingly independent with self-governing corollaries.  5.\n**Relation to Section 205**: Section 205 of the ordinance is related to default\nsurcharge, which is a consequence of failing to collect tax as required or\nfailing to pay an amount of tax collected or deducted as required under Section\n160. The default surcharge under Section 205 is not contingent upon the\ncompliance of pre-audit requirements mentioned under Section 177.  In summary,\nSection 177 of the Income Tax Ordinance is related to the audit exercise, but it\nis independent of the provisions contained under Sections 161 and 205. The\ncommissioner may initiate proceedings under Section 161 without first conducting\nan audit under Section 177, and the default surcharge under Section 205 is not\ncontingent upon the compliance of pre-audit requirements mentioned under Section\n177.\ntime: 2min 4s (started: 2024-11-14 11:54:24 +00:00)\n",
          "output_type": "stream"
        }
      ],
      "execution_count": null
    },
    {
      "cell_type": "markdown",
      "source": [
        "#### **5.1.2. Using Summary (With Query) to Answer Query**"
      ],
      "metadata": {
        "id": "YCG5RDkfcGEV"
      }
    },
    {
      "cell_type": "code",
      "source": [
        "ensemble_prompt = f\"\"\"\n",
        "Initial Summary:\n",
        "{summary1_w_query}\n",
        "\n",
        "context:\n",
        "{''.join([doc.page_content for doc in ensemble_context])}\n",
        "\n",
        "Suppose that you're a legal expert and based on both the initial summary and the detailed context above, answer the following query:\n",
        "\n",
        "{specific_query}\n",
        "\n",
        "Note: Only use the context and summary provided. Not all details may be necessary, so only refer to relevant points to answer the query.\n",
        "\n",
        "If the context is insufficient to fully answer the query, respond with \"I don't know as I don't have sufficient context!\" and state why.\n",
        "\"\"\"\n",
        "\n",
        "pipe = pipeline(\"text-generation\", model=model, tokenizer=tokenizer)\n",
        "\n",
        "generation_args = {\n",
        "    \"max_new_tokens\": 2000,\n",
        "    \"return_full_text\": False,\n",
        "    \"temperature\": 0.0,\n",
        "    \"do_sample\": False\n",
        "}\n",
        "\n",
        "messages_ensemble = [{\"role\": \"user\", \"content\": ensemble_prompt}]\n",
        "output_ensemble = pipe(messages_ensemble, **generation_args)\n",
        "\n",
        "print(textwrap.fill(output_ensemble[0]['generated_text'], width=80))"
      ],
      "metadata": {
        "trusted": true,
        "execution": {
          "iopub.status.busy": "2024-11-14T11:57:14.447315Z",
          "iopub.execute_input": "2024-11-14T11:57:14.447674Z",
          "iopub.status.idle": "2024-11-14T11:59:15.880582Z",
          "shell.execute_reply.started": "2024-11-14T11:57:14.447642Z",
          "shell.execute_reply": "2024-11-14T11:59:15.879628Z"
        },
        "id": "A4YLtWDQcGEV",
        "outputId": "e2dc0c49-77d9-45d6-ac03-56dd2da4897e"
      },
      "outputs": [
        {
          "name": "stderr",
          "text": "Setting `pad_token_id` to `eos_token_id`:None for open-end generation.\n",
          "output_type": "stream"
        },
        {
          "name": "stdout",
          "text": "Based on the provided context and initial summary, the key implications of\nSection 177 of the Income Tax Ordinance regarding the audit exercise and its\nrelation to Sections 161 and 205 are as follows:  1. **Independence of Sections\n177, 161, and 205**: Section 177 of the ordinance is related to the audit\nexercise, where the commissioner may call for any record or documents for\nconducting audit of the income tax affairs of a person. However, the audit\nexercise under Section 177 is independent of the provisions contained under\nSection 161 of the ordinance.  2. **No Precondition for Section 161**: The audit\nexercise under Section 177 is not a precondition for the commissioner to\ninitiate proceedings under Section 161. The commissioner may amend or further\namend an order of recovery under Section 161 without first conducting an audit\nunder Section 177.  3. **Different Premise for Section 161**: Section 161 of the\nordinance has a different premise than Section 177. The commissioner may amend\nor further amend an order of recovery under Section 161 if he considers that the\norder is erroneous in so far as it is prejudicial to the interest of revenue.\n4. **No Overlap between Sections 177 and 161**: The provisions contained under\nSection 177 of the ordinance do not override or overlap the provisions contained\nunder Section 161 of the ordinance. Both sections are seemingly independent with\nself-governing corollaries.  5. **Relation to Section 205**: Section 205 of the\nordinance is related to default surcharge, which is a consequence of failing to\ncollect tax as required or failing to pay an amount of tax collected or deducted\nas required under Section 160. The default surcharge under Section 205 is not\ncontingent upon the compliance of pre-audit requirements mentioned under Section\n177.  In summary, Section 177 of the Income Tax Ordinance is related to the\naudit exercise, but it is independent of the provisions contained under Sections\n161 and 205. The commissioner may initiate proceedings under Section 161 without\nfirst conducting an audit under Section 177, and the default surcharge under\nSection 205 is not contingent upon the compliance of pre-audit requirements\nmentioned under Section 177.\ntime: 2min 1s (started: 2024-11-14 11:57:14 +00:00)\n",
          "output_type": "stream"
        }
      ],
      "execution_count": null
    },
    {
      "cell_type": "markdown",
      "source": [
        "#### **5.2.1. Generating Summary (Without Query)**"
      ],
      "metadata": {
        "id": "_eCP1o_RcGEV"
      }
    },
    {
      "cell_type": "code",
      "source": [
        "document_texts = [doc.page_content for doc in documents]\n",
        "\n",
        "bm25_retriever = BM25Retriever.from_texts(\n",
        "    document_texts, metadatas=[{}] * len(document_texts)\n",
        ")\n",
        "\n",
        "ensemble_retriever = EnsembleRetriever(retrievers=[bm25_retriever, vector_store.as_retriever()], weights=[0.5, 0.5])\n",
        "\n",
        "ensemble_prompt = f\"\"\"\n",
        "context:\n",
        "{''.join([doc.page_content for doc in ensemble_context])}\n",
        "\n",
        "Based on the above context, summarize the key implications of Section 177 of the Income Tax Ordinance regarding the audit exercise and its relation to Sections 161 and 205. Use the case provided as a reference.\n",
        "\n",
        "Case Title: M/s Islamabad Electric Supply Company Limited (IESCO) through its Finance Director Islamabad v. The Appellate Tribunal Inland Revenue (Headquarter), Islamabad through its Chairman Islamabad and others\n",
        "\n",
        "Case No: C.P.L.A.1920/2022\n",
        "\n",
        "Note: Only use the context above to answer the query. If the context is insufficient, say \"I don't know as I don't have sufficient context!\" and explain why.\n",
        "\"\"\"\n",
        "\n",
        "pipe = pipeline(\"text-generation\", model=model, tokenizer=tokenizer)\n",
        "\n",
        "generation_args = {\n",
        "    \"max_new_tokens\": 2000,\n",
        "    \"return_full_text\": False,\n",
        "    \"temperature\": 0.0,\n",
        "    \"do_sample\": False\n",
        "}\n",
        "\n",
        "messages_ensemble = [{\"role\": \"user\", \"content\": ensemble_prompt}]\n",
        "output_ensemble = pipe(messages_ensemble, **generation_args)\n",
        "\n",
        "print(textwrap.fill(output_ensemble[0]['generated_text'], width=80))\n",
        "\n",
        "summary2_wo_query = output_ensemble[0]['generated_text']"
      ],
      "metadata": {
        "trusted": true,
        "execution": {
          "iopub.status.busy": "2024-11-14T12:00:02.578487Z",
          "iopub.execute_input": "2024-11-14T12:00:02.578865Z",
          "iopub.status.idle": "2024-11-14T12:01:39.220837Z",
          "shell.execute_reply.started": "2024-11-14T12:00:02.578828Z",
          "shell.execute_reply": "2024-11-14T12:01:39.219790Z"
        },
        "id": "isrKuEI8cGEW",
        "outputId": "db6f3e42-44d8-438d-b664-0cb4c26af779"
      },
      "outputs": [
        {
          "name": "stderr",
          "text": "Setting `pad_token_id` to `eos_token_id`:None for open-end generation.\n",
          "output_type": "stream"
        },
        {
          "name": "stdout",
          "text": "Based on the provided context, the key implications of Section 177 of the Income\nTax Ordinance regarding the audit exercise and its relation to Sections 161 and\n205 are as follows:  1. **Section 177 is related to the audit exercise**:\nSection 177 of the ordinance is predominantly related to the audit exercise,\nwhere the commissioner may call for any record or documents, including books of\naccount, for conducting an audit of the income tax affairs of a person.  2.\n**Precondition for audit**: The audit under Section 177 requires the\ncommissioner to record reasons in writing and communicate them to the taxpayer\nwhile calling for the record or documents.  3. **Independence of Sections 177,\n161, and 205**: The provisions of Section 177 do not override or overlap the\nprovisions of Sections 161 and 205. Both provisions are independent and have\nself-governing corollaries.  4. **No requirement for Section 177 compliance for\nSection 161 and 205**: The course of action and benchmark enumerated under\nSection 161 of the ordinance is not contingent upon the compliance of pre-audit\nrequirements mentioned under Section 177.  5. **Section 177 does not apply to\nthe invocation of machinery under Section 161**: The learned high court in the\ncase of M/s Islamabad Electric Supply Company Limited (IESCO) through its\nFinance Director Islamabad v. The Appellate Tribunal Inland Revenue\n(Headquarter), Islamabad through its Chairman Islamabad and others, held that\nthe invocation of the machinery provided under Section 161 is not dependent on\nthe compliance of Section 177.  In summary, Section 177 of the Income Tax\nOrdinance is related to the audit exercise, but it does not apply to the\ninvocation of the machinery under Section 161, which deals with the failure to\npay tax collected or deducted.\ntime: 1min 36s (started: 2024-11-14 12:00:02 +00:00)\n",
          "output_type": "stream"
        }
      ],
      "execution_count": null
    },
    {
      "cell_type": "markdown",
      "source": [
        "#### **5.2.2. Using Summary (Without Query) to Answer Query**"
      ],
      "metadata": {
        "id": "jm-0LOu4cGEW"
      }
    },
    {
      "cell_type": "code",
      "source": [
        "ensemble_prompt = f\"\"\"\n",
        "Initial Summary:\n",
        "{summary2_wo_query}\n",
        "\n",
        "context:\n",
        "{''.join([doc.page_content for doc in ensemble_context])}\n",
        "\n",
        "Suppose that you're a legal expert and based on both the initial summary and the detailed context above, answer the following query:\n",
        "\n",
        "{specific_query}\n",
        "\n",
        "Note: Only use the context and summary provided. Not all details may be necessary, so only refer to relevant points to answer the query.\n",
        "\n",
        "If the context is insufficient to fully answer the query, respond with \"I don't know as I don't have sufficient context!\" and state why.\n",
        "\"\"\"\n",
        "\n",
        "pipe = pipeline(\"text-generation\", model=model, tokenizer=tokenizer)\n",
        "\n",
        "generation_args = {\n",
        "    \"max_new_tokens\": 2000,\n",
        "    \"return_full_text\": False,\n",
        "    \"temperature\": 0.0,\n",
        "    \"do_sample\": False\n",
        "}\n",
        "\n",
        "messages_ensemble = [{\"role\": \"user\", \"content\": ensemble_prompt}]\n",
        "output_ensemble = pipe(messages_ensemble, **generation_args)\n",
        "\n",
        "print(textwrap.fill(output_ensemble[0]['generated_text'], width=80))"
      ],
      "metadata": {
        "trusted": true,
        "execution": {
          "iopub.status.busy": "2024-11-14T12:01:39.222701Z",
          "iopub.execute_input": "2024-11-14T12:01:39.223469Z",
          "iopub.status.idle": "2024-11-14T12:03:57.286836Z",
          "shell.execute_reply.started": "2024-11-14T12:01:39.223385Z",
          "shell.execute_reply": "2024-11-14T12:03:57.285875Z"
        },
        "id": "l7dODuKrcGEW",
        "outputId": "c4b23611-dd21-4b2a-ddfb-24e05f737f90"
      },
      "outputs": [
        {
          "name": "stderr",
          "text": "Setting `pad_token_id` to `eos_token_id`:None for open-end generation.\n",
          "output_type": "stream"
        },
        {
          "name": "stdout",
          "text": "Based on the provided context and summary, the key implications of Section 177\nof the Income Tax Ordinance regarding the audit exercise and its relation to\nSections 161 and 205 are as follows:  1. **Section 177 is related to the audit\nexercise**: Section 177 of the ordinance is predominantly related to the audit\nexercise, where the commissioner may call for any record or documents, including\nbooks of account, for conducting an audit of the income tax affairs of a person.\n2. **Precondition for audit**: The audit under Section 177 requires the\ncommissioner to record reasons in writing and communicate them to the taxpayer\nwhile calling for the record or documents.  3. **Independence of Sections 177,\n161, and 205**: The provisions of Section 177 do not override or overlap the\nprovisions of Sections 161 and 205. Both provisions are independent and have\nself-governing corollaries.  4. **No requirement for Section 177 compliance for\nSection 161 and 205**: The course of action and benchmark enumerated under\nSection 161 of the ordinance is not contingent upon the compliance of pre-audit\nrequirements mentioned under Section 177.  5. **Section 177 does not apply to\nthe invocation of machinery under Section 161**: The learned high court in the\ncase of M/s Islamabad Electric Supply Company Limited (IESCO) through its\nFinance Director Islamabad v. The Appellate Tribunal Inland Revenue\n(Headquarter), Islamabad through its Chairman Islamabad and others, held that\nthe invocation of the machinery provided under Section 161 is not dependent on\nthe compliance of Section 177.  6. **Section 177 does not override Section 161\nand 205**: The provisions of Section 177 do not override the provisions of\nSections 161 and 205. Both provisions are independent and have self-governing\ncorollaries.  7. **Section 177 is not a precondition for Section 161 and 205**:\nThe learned high court held that the order under Sections 161 and 205 of the\nordinance cannot be passed without initiating proceedings under Section 177 of\nthe ordinance, but this was not the case in the M/s Islamabad Electric Supply\nCompany Limited (IESCO) case.  8. **Section 177 is related to the audit\nexercise, not the invocation of machinery under Section 161**: The learned high\ncourt held that the invocation of the machinery provided under Section 161 is\nnot dependent on the compliance of Section 177, and that Section 177 is related\nto the audit exercise, not the invocation of machinery under Section 161.\ntime: 2min 18s (started: 2024-11-14 12:01:39 +00:00)\n",
          "output_type": "stream"
        }
      ],
      "execution_count": null
    },
    {
      "cell_type": "markdown",
      "source": [
        "#### **5.3. Reordering, Summarization and then Answer query (on Specific Query)**\n",
        "\n",
        "Summarization (Without Query Bias) enhances the RAG output when the summary is added in the context. Now, we want to see if reordering the context for both summary generation and RAG output enhances the generation further."
      ],
      "metadata": {
        "id": "rdTLa40ecGEX"
      }
    },
    {
      "cell_type": "code",
      "source": [
        "document_texts = [doc.page_content for doc in documents]\n",
        "\n",
        "bm25_retriever = BM25Retriever.from_texts(\n",
        "    document_texts, metadatas=[{}] * len(document_texts)\n",
        ")\n",
        "\n",
        "ensemble_retriever = EnsembleRetriever(retrievers=[bm25_retriever, vector_store.as_retriever()], weights=[0.5, 0.5])\n",
        "\n",
        "specific_query='''\n",
        "\n",
        "What are the implications of Section 177 of the Income Tax Ordinance regarding the audit exercise and its relation to Sections 161 and 205? Use the following case for reference:\n",
        "\n",
        "Case Title: M/s Islamabad Electric Supply Company Limited (IESCO) through its Finance Director Islamabad v. The Appellate Tribunal Inland Revenue (Headquarter), Islamabad through its Chairman Islamabad and others\n",
        "\n",
        "Case No: C.P.L.A.1920/2022\n",
        "\n",
        "'''\n",
        "\n",
        "specific_query=specific_query.lower()\n",
        "\n",
        "ensemble_context = ensemble_retriever.invoke(specific_query, k=10)\n",
        "\n",
        "# Reordering\n",
        "reordering = LongContextReorder()\n",
        "reordered_context_text = reordering.transform_documents(ensemble_context)\n",
        "\n",
        "summary_prompt = f\"\"\"\n",
        "context:\n",
        "{reordered_context_text}\n",
        "\n",
        "Provide a concise summary of the key points from the above context. Do not reference the query.\n",
        "\"\"\"\n",
        "\n",
        "# Summary\n",
        "pipe = pipeline(\"text-generation\", model=model, tokenizer=tokenizer)\n",
        "generation_args = {\n",
        "    \"max_new_tokens\": 500,\n",
        "    \"return_full_text\": False,\n",
        "    \"temperature\": 0.0,\n",
        "    \"do_sample\": False\n",
        "}\n",
        "\n",
        "messages_summary = [{\"role\": \"user\", \"content\": summary_prompt}]\n",
        "summary_output = pipe(messages_summary, **generation_args)\n",
        "summary_text = summary_output[0]['generated_text']\n",
        "\n",
        "print(\"Summary:\", textwrap.fill(summary_text, width=80))\n",
        "print()\n",
        "\n",
        "# Answer query\n",
        "answer_prompt = f\"\"\"\n",
        "Initial Summary:\n",
        "{summary_text}\n",
        "\n",
        "context:\n",
        "{reordered_context_text}\n",
        "\n",
        "Suppose you're a legal expert. Based on both the initial summary and the detailed context above, answer the following query:\n",
        "\n",
        "{specific_query}\n",
        "\n",
        "Note: Only use the summary and context above to answer the query. Not all details may be necessary, so only refer to relevant points to answer the query.\n",
        "\n",
        "If the context is insufficient to fully answer the query, respond with \"I don't know as I don't have sufficient context!\" and state why.\n",
        "\"\"\"\n",
        "\n",
        "messages_answer = [{\"role\": \"user\", \"content\": answer_prompt}]\n",
        "output_answer = pipe(messages_answer, **generation_args)\n",
        "\n",
        "print(\"Answer:\", textwrap.fill(output_answer[0]['generated_text'], width=80))"
      ],
      "metadata": {
        "trusted": true,
        "execution": {
          "iopub.status.busy": "2024-11-14T13:17:27.899930Z",
          "iopub.execute_input": "2024-11-14T13:17:27.900921Z",
          "iopub.status.idle": "2024-11-14T13:20:13.602503Z",
          "shell.execute_reply.started": "2024-11-14T13:17:27.900879Z",
          "shell.execute_reply": "2024-11-14T13:20:13.601365Z"
        },
        "id": "SqZCwc3ycGEX",
        "outputId": "ae6af766-8438-48e8-f1f4-0918d0a42f4e"
      },
      "outputs": [
        {
          "name": "stderr",
          "text": "Setting `pad_token_id` to `eos_token_id`:None for open-end generation.\nSetting `pad_token_id` to `eos_token_id`:None for open-end generation.\n",
          "output_type": "stream"
        },
        {
          "name": "stdout",
          "text": "Summary: The key points from the context are as follows:  1. The case revolves around a\ntax dispute between Islamabad Electric Supply Company Limited (IESCO) and the\nAppellate Tribunal Inland Revenue (ATIR) regarding tax demands for the years\n2007-2012. 2. The petitioner argued that the lower fora failed to consider the\nrelevant provisions of law and passed orders based on assumptions, resulting in\ndouble taxation. 3. The learned high court framed a question of law regarding\nthe invocation of machinery under Section 161 of the Income Tax Ordinance 2001\nwithout recourse to Section 177. 4. The court held that Section 161 and Section\n177 are independent provisions with self-governing corollaries, and the\ncommissioner may amend an order of recovery under Section 161 without prior\naudit under Section 177. 5. The court also discussed Section 160, which deals\nwith the general provisions relating to advance payment of tax or deductions of\ntax at source. 6. The court analyzed Section 177, which relates to the audit\nexercise, and held that it has no bearing on the exercise of powers under\nSection 161. 7. The court also discussed Section 205, which deals with default\nsurcharge, and held that it is a separate provision that does not require\ncompliance with Section 177. 8. The court dismissed the civil petitions and\nrefused leave, upholding the impugned judgment of the learned high court.\n\nAnswer: Based on the context provided, the implications of Section 177 of the Income Tax\nOrdinance regarding the audit exercise and its relation to Sections 161 and 205\nare as follows:  Section 177 of the ordinance is predominantly related to the\naudit exercise, where the commissioner may call for any record or documents,\nincluding books of account maintained under this ordinance for conducting audit\nof the income tax affairs of a person. However, this exercise of powers has\nnothing to do with the general exercise of powers under Sections 161 and 205.\nIn other words, the audit exercise under Section 177 is a separate and\nindependent provision that does not override or overlap the provisions contained\nunder Sections 161 and 205. The commissioner may amend an order of recovery\nunder Section 161 without prior audit under Section 177.  Furthermore, Section\n205 of the ordinance is related to default surcharge, which is a separate\nprovision that does not require compliance with Section 177. The default\nsurcharge is imposed on a person who fails to collect tax as required or fails\nto pay an amount of tax collected or deducted as required under Section 160.  In\nthe case of M/s Islamabad Electric Supply Company Limited (IESCO) v. The\nAppellate Tribunal Inland Revenue (Headquarter), Islamabad through its Chairman\nIslamabad and others (Case No: c.p.l.a.1920/2022), the learned high court held\nthat Section 177 has no bearing on the exercise of powers under Section 161, and\nthat the commissioner may amend an order of recovery under Section 161 without\nprior audit under Section 177.\ntime: 2min 45s (started: 2024-11-14 13:17:27 +00:00)\n",
          "output_type": "stream"
        }
      ],
      "execution_count": null
    },
    {
      "cell_type": "markdown",
      "source": [
        "#### **Experiments Conclude Here!**\n",
        "\n",
        "* Summary + Redoerding with summary included in the context gives the best results and hence the fixed strategy for generation and would be used for ahead for comparison between Llama & Mistral ahead with ensemble retrieval as fixed best strategy for retrieval."
      ],
      "metadata": {
        "id": "BPcgt-NQcGEX"
      }
    },
    {
      "cell_type": "markdown",
      "source": [
        "### **6. RAG with first LLM: Llama (Ensemble Retriever, Reordering Context, Summary Inclusion)**"
      ],
      "metadata": {
        "id": "HiI5-W5tcGEY"
      }
    },
    {
      "cell_type": "markdown",
      "source": [
        "#### **6.1. RAG with Llama: Generic Query**"
      ],
      "metadata": {
        "id": "l_H5XCXdcGEY"
      }
    },
    {
      "cell_type": "code",
      "source": [
        "document_texts = [doc.page_content for doc in documents]\n",
        "\n",
        "bm25_retriever = BM25Retriever.from_texts(\n",
        "    document_texts, metadatas=[{}] * len(document_texts)\n",
        ")\n",
        "\n",
        "ensemble_retriever = EnsembleRetriever(retrievers=[bm25_retriever, vector_store.as_retriever()], weights=[0.5, 0.5])\n",
        "\n",
        "generic_query = '''\n",
        "What was court's judgement on the following income tax case:\n",
        "\n",
        "Case Title: M/s Islamabad Electric Supply Company Limited (IESCO) through its Finance Director Islamabad v. The Appellate Tribunal Inland Revenue (Headquarter), Islamabad through its Chairman Islamabad and others\n",
        "\n",
        "Case No: C.P.L.A.1920/2022\n",
        "'''\n",
        "\n",
        "generic_query=generic_query.lower()\n",
        "\n",
        "ensemble_context = ensemble_retriever.invoke(generic_query, k=10)\n",
        "\n",
        "# Reordering\n",
        "reordering = LongContextReorder()\n",
        "reordered_context_text = reordering.transform_documents(ensemble_context)\n",
        "\n",
        "summary_prompt = f\"\"\"\n",
        "context:\n",
        "{reordered_context_text}\n",
        "\n",
        "Provide a concise summary of the key points from the above context. Do not reference the query.\n",
        "\"\"\"\n",
        "\n",
        "# Summary\n",
        "pipe = pipeline(\"text-generation\", model=model, tokenizer=tokenizer)\n",
        "generation_args = {\n",
        "    \"max_new_tokens\": 500,\n",
        "    \"return_full_text\": False,\n",
        "    \"temperature\": 0.0,\n",
        "    \"do_sample\": False\n",
        "}\n",
        "\n",
        "messages_summary = [{\"role\": \"user\", \"content\": summary_prompt}]\n",
        "summary_output = pipe(messages_summary, **generation_args)\n",
        "summary_text = summary_output[0]['generated_text']\n",
        "\n",
        "print(\"Summary:\", textwrap.fill(summary_text, width=80))\n",
        "print()\n",
        "\n",
        "# Answer query\n",
        "answer_prompt = f\"\"\"\n",
        "Initial Summary:\n",
        "{summary_text}\n",
        "\n",
        "context:\n",
        "{reordered_context_text}\n",
        "\n",
        "Suppose you're a legal expert. Based on both the initial summary and the detailed context above, answer the following query:\n",
        "\n",
        "{generic_query}\n",
        "\n",
        "Note: Only use the summary and context above to answer the query. Not all details may be necessary, so only refer to relevant points to answer the query.\n",
        "\n",
        "If the context is insufficient to fully answer the query, respond with \"I don't know as I don't have sufficient context!\" and state why.\n",
        "\"\"\"\n",
        "\n",
        "messages_answer = [{\"role\": \"user\", \"content\": answer_prompt}]\n",
        "output_answer = pipe(messages_answer, **generation_args)\n",
        "\n",
        "print(\"Answer:\", textwrap.fill(output_answer[0]['generated_text'], width=80))"
      ],
      "metadata": {
        "trusted": true,
        "execution": {
          "iopub.status.busy": "2024-11-14T14:00:53.994668Z",
          "iopub.execute_input": "2024-11-14T14:00:53.995596Z",
          "iopub.status.idle": "2024-11-14T14:03:23.744675Z",
          "shell.execute_reply.started": "2024-11-14T14:00:53.995552Z",
          "shell.execute_reply": "2024-11-14T14:03:23.743670Z"
        },
        "id": "NmuzR7VtcGEY",
        "outputId": "38d8c285-2940-4b95-87f8-e110aed01c8e"
      },
      "outputs": [
        {
          "name": "stderr",
          "text": "Setting `pad_token_id` to `eos_token_id`:None for open-end generation.\nSetting `pad_token_id` to `eos_token_id`:None for open-end generation.\n",
          "output_type": "stream"
        },
        {
          "name": "stdout",
          "text": "Summary: The key points from the context are:  1. The Islamabad Electric Supply Company\nLimited (IESCO) filed income tax references against the Appellate Tribunal\nInland Revenue (ATIR) and the High Court of Islamabad. 2. The references\npertained to tax demands for the years 2007-2012, alleging non-deduction of\nwithholding tax and default surcharge. 3. The petitioner argued that the lower\nforums failed to consider the requirement of initiating proceedings under\nSection 177 of the Income Tax Ordinance 2001 before passing orders under\nSections 161 and 205. 4. The petitioner claimed that the orders were based on\nassumptions and guesswork, and that they were imposed a tax liability without\ndefinite information, resulting in double taxation. 5. The High Court framed a\ncommon question of law, which was whether the respondent was justified in\nholding proceedings and passing orders under Section 161/205 without proceedings\nunder Section 177 of the IT Ordinance. 6. The Income Tax Ordinance 2001 requires\nthe Commissioner to record reasons in writing and communicate them to the\ntaxpayer before calling for records or documents for audit purposes. 7. The\npetitioner was given multiple opportunities to provide documents and\nexplanations, but they repeatedly asked for adjournments and failed to submit\nrelevant records or details. 8. The Appellate Tribunal Inland Revenue and the\nHigh Court upheld the orders passed by the lower forums, holding that the\npetitioner was afforded sufficient opportunities to provide the required\ninformation but failed to do so.\n\nAnswer: Based on the context provided, the court's judgment in the income tax case \"m/s\nIslamabad Electric Supply Company Limited (IESCO) through its Finance Director\nIslamabad v. The Appellate Tribunal Inland Revenue (Headquarter), Islamabad\nthrough its Chairman Islamabad and others\" (Case No: c.p.l.a.1920/2022) was that\nthe Appellate Tribunal Inland Revenue and the High Court upheld the orders\npassed by the lower forums, holding that the petitioner (IESCO) was afforded\nsufficient opportunities to provide the required information but failed to do\nso.  The court also framed a common question of law, which was whether the\nrespondent was justified in holding proceedings and passing orders under Section\n161/205 without proceedings under Section 177 of the Income Tax Ordinance 2001.\nHowever, the court did not provide a clear answer to this question in the\ncontext provided.  It is worth noting that the petitioner argued that the lower\nforums failed to consider the requirement of initiating proceedings under\nSection 177 of the Income Tax Ordinance 2001 before passing orders under\nSections 161 and 205, and that the orders were based on assumptions and\nguesswork. However, the court ultimately upheld the orders passed by the lower\nforums.\ntime: 2min 29s (started: 2024-11-14 14:00:53 +00:00)\n",
          "output_type": "stream"
        }
      ],
      "execution_count": null
    },
    {
      "cell_type": "markdown",
      "source": [
        "#### **6.2. RAG with Llama: Specific Query**"
      ],
      "metadata": {
        "id": "nfRBhzujcGEY"
      }
    },
    {
      "cell_type": "code",
      "source": [
        "document_texts = [doc.page_content for doc in documents]\n",
        "\n",
        "bm25_retriever = BM25Retriever.from_texts(\n",
        "    document_texts, metadatas=[{}] * len(document_texts)\n",
        ")\n",
        "\n",
        "ensemble_retriever = EnsembleRetriever(retrievers=[bm25_retriever, vector_store.as_retriever()], weights=[0.5, 0.5])\n",
        "\n",
        "specific_query='''\n",
        "\n",
        "What are the implications of Section 177 of the Income Tax Ordinance regarding the audit exercise and its relation to Sections 161 and 205? Use the following case for reference:\n",
        "\n",
        "Case Title: M/s Islamabad Electric Supply Company Limited (IESCO) through its Finance Director Islamabad v. The Appellate Tribunal Inland Revenue (Headquarter), Islamabad through its Chairman Islamabad and others\n",
        "\n",
        "Case No: C.P.L.A.1920/2022\n",
        "\n",
        "'''\n",
        "\n",
        "specific_query=specific_query.lower()\n",
        "\n",
        "ensemble_context = ensemble_retriever.invoke(specific_query, k=10)\n",
        "\n",
        "# Reordering\n",
        "reordering = LongContextReorder()\n",
        "reordered_context_text = reordering.transform_documents(ensemble_context)\n",
        "\n",
        "summary_prompt = f\"\"\"\n",
        "context:\n",
        "{reordered_context_text}\n",
        "\n",
        "Provide a concise summary of the key points from the above context. Do not reference the query.\n",
        "\"\"\"\n",
        "\n",
        "# Summary\n",
        "pipe = pipeline(\"text-generation\", model=model, tokenizer=tokenizer)\n",
        "generation_args = {\n",
        "    \"max_new_tokens\": 500,\n",
        "    \"return_full_text\": False,\n",
        "    \"temperature\": 0.0,\n",
        "    \"do_sample\": False\n",
        "}\n",
        "\n",
        "messages_summary = [{\"role\": \"user\", \"content\": summary_prompt}]\n",
        "summary_output = pipe(messages_summary, **generation_args)\n",
        "summary_text = summary_output[0]['generated_text']\n",
        "\n",
        "print(\"Summary:\", textwrap.fill(summary_text, width=80))\n",
        "print()\n",
        "\n",
        "# Answer query\n",
        "answer_prompt = f\"\"\"\n",
        "Initial Summary:\n",
        "{summary_text}\n",
        "\n",
        "context:\n",
        "{reordered_context_text}\n",
        "\n",
        "Suppose you're a legal expert. Based on both the initial summary and the detailed context above, answer the following query:\n",
        "\n",
        "{specific_query}\n",
        "\n",
        "Note: Only use the summary and context above to answer the query. Not all details may be necessary, so only refer to relevant points to answer the query.\n",
        "\n",
        "If the context is insufficient to fully answer the query, respond with \"I don't know as I don't have sufficient context!\" and state why.\n",
        "\"\"\"\n",
        "\n",
        "messages_answer = [{\"role\": \"user\", \"content\": answer_prompt}]\n",
        "output_answer = pipe(messages_answer, **generation_args)\n",
        "\n",
        "print(\"Answer:\", textwrap.fill(output_answer[0]['generated_text'], width=80))"
      ],
      "metadata": {
        "trusted": true,
        "execution": {
          "iopub.status.busy": "2024-11-14T13:17:27.899930Z",
          "iopub.execute_input": "2024-11-14T13:17:27.900921Z",
          "iopub.status.idle": "2024-11-14T13:20:13.602503Z",
          "shell.execute_reply.started": "2024-11-14T13:17:27.900879Z",
          "shell.execute_reply": "2024-11-14T13:20:13.601365Z"
        },
        "id": "fLbYa2U7cGEY",
        "outputId": "2d97f38b-b61e-4601-b2ff-991d2214bc80"
      },
      "outputs": [
        {
          "name": "stderr",
          "text": "Setting `pad_token_id` to `eos_token_id`:None for open-end generation.\nSetting `pad_token_id` to `eos_token_id`:None for open-end generation.\n",
          "output_type": "stream"
        },
        {
          "name": "stdout",
          "text": "Summary: The key points from the context are as follows:  1. The case revolves around a\ntax dispute between Islamabad Electric Supply Company Limited (IESCO) and the\nAppellate Tribunal Inland Revenue (ATIR) regarding tax demands for the years\n2007-2012. 2. The petitioner argued that the lower fora failed to consider the\nrelevant provisions of law and passed orders based on assumptions, resulting in\ndouble taxation. 3. The learned high court framed a question of law regarding\nthe invocation of machinery under Section 161 of the Income Tax Ordinance 2001\nwithout recourse to Section 177. 4. The court held that Section 161 and Section\n177 are independent provisions with self-governing corollaries, and the\ncommissioner may amend an order of recovery under Section 161 without prior\naudit under Section 177. 5. The court also discussed Section 160, which deals\nwith the general provisions relating to advance payment of tax or deductions of\ntax at source. 6. The court analyzed Section 177, which relates to the audit\nexercise, and held that it has no bearing on the exercise of powers under\nSection 161. 7. The court also discussed Section 205, which deals with default\nsurcharge, and held that it is a separate provision that does not require\ncompliance with Section 177. 8. The court dismissed the civil petitions and\nrefused leave, upholding the impugned judgment of the learned high court.\n\nAnswer: Based on the context provided, the implications of Section 177 of the Income Tax\nOrdinance regarding the audit exercise and its relation to Sections 161 and 205\nare as follows:  Section 177 of the ordinance is predominantly related to the\naudit exercise, where the commissioner may call for any record or documents,\nincluding books of account maintained under this ordinance for conducting audit\nof the income tax affairs of a person. However, this exercise of powers has\nnothing to do with the general exercise of powers under Sections 161 and 205.\nIn other words, the audit exercise under Section 177 is a separate and\nindependent provision that does not override or overlap the provisions contained\nunder Sections 161 and 205. The commissioner may amend an order of recovery\nunder Section 161 without prior audit under Section 177.  Furthermore, Section\n205 of the ordinance is related to default surcharge, which is a separate\nprovision that does not require compliance with Section 177. The default\nsurcharge is imposed on a person who fails to collect tax as required or fails\nto pay an amount of tax collected or deducted as required under Section 160.  In\nthe case of M/s Islamabad Electric Supply Company Limited (IESCO) v. The\nAppellate Tribunal Inland Revenue (Headquarter), Islamabad through its Chairman\nIslamabad and others (Case No: c.p.l.a.1920/2022), the learned high court held\nthat Section 177 has no bearing on the exercise of powers under Section 161, and\nthat the commissioner may amend an order of recovery under Section 161 without\nprior audit under Section 177.\ntime: 2min 45s (started: 2024-11-14 13:17:27 +00:00)\n",
          "output_type": "stream"
        }
      ],
      "execution_count": null
    },
    {
      "cell_type": "markdown",
      "source": [
        "#### **6.3. RAG with Llama: Completely Generic Query**"
      ],
      "metadata": {
        "id": "iyMYmkw6cGEZ"
      }
    },
    {
      "cell_type": "code",
      "source": [
        "document_texts = [doc.page_content for doc in documents]\n",
        "\n",
        "bm25_retriever = BM25Retriever.from_texts(\n",
        "    document_texts, metadatas=[{}] * len(document_texts)\n",
        ")\n",
        "\n",
        "ensemble_retriever = EnsembleRetriever(retrievers=[bm25_retriever, vector_store.as_retriever()], weights=[0.5, 0.5])\n",
        "\n",
        "completely_generic_query='''\n",
        "\n",
        "What are the implications of Section 177 of the Income Tax Ordinance regarding the audit exercise and its relation to Sections 161 and 205?\n",
        "\n",
        "Which cases can you reference for this?\n",
        "\n",
        "'''\n",
        "\n",
        "completely_generic_query=completely_generic_query.lower()\n",
        "\n",
        "ensemble_context = ensemble_retriever.invoke(completely_generic_query, k=10)\n",
        "\n",
        "# Reordering\n",
        "reordering = LongContextReorder()\n",
        "reordered_context_text = reordering.transform_documents(ensemble_context)\n",
        "\n",
        "summary_prompt = f\"\"\"\n",
        "context:\n",
        "{reordered_context_text}\n",
        "\n",
        "Provide a concise summary of the key points from the above context. Do not reference the query.\n",
        "\"\"\"\n",
        "\n",
        "# Summary\n",
        "pipe = pipeline(\"text-generation\", model=model, tokenizer=tokenizer)\n",
        "generation_args = {\n",
        "    \"max_new_tokens\": 500,\n",
        "    \"return_full_text\": False,\n",
        "    \"temperature\": 0.0,\n",
        "    \"do_sample\": False\n",
        "}\n",
        "\n",
        "messages_summary = [{\"role\": \"user\", \"content\": summary_prompt}]\n",
        "summary_output = pipe(messages_summary, **generation_args)\n",
        "summary_text = summary_output[0]['generated_text']\n",
        "\n",
        "print(\"Summary:\", textwrap.fill(summary_text, width=80))\n",
        "print()\n",
        "\n",
        "# Answer query\n",
        "answer_prompt = f\"\"\"\n",
        "Initial Summary:\n",
        "{summary_text}\n",
        "\n",
        "context:\n",
        "{reordered_context_text}\n",
        "\n",
        "Suppose you're a legal expert. Based on both the initial summary and the detailed context above, answer the following query:\n",
        "\n",
        "{completely_generic_query}\n",
        "\n",
        "Note: Only use the summary and context above to answer the query. Not all details may be necessary, so only refer to relevant points to answer the query.\n",
        "\n",
        "If the context is insufficient to fully answer the query, respond with \"I don't know as I don't have sufficient context!\" and state why.\n",
        "\"\"\"\n",
        "\n",
        "messages_answer = [{\"role\": \"user\", \"content\": answer_prompt}]\n",
        "output_answer = pipe(messages_answer, **generation_args)\n",
        "\n",
        "print(\"Answer:\", textwrap.fill(output_answer[0]['generated_text'], width=80))"
      ],
      "metadata": {
        "trusted": true,
        "execution": {
          "iopub.status.busy": "2024-11-14T14:05:56.001185Z",
          "iopub.execute_input": "2024-11-14T14:05:56.001891Z",
          "iopub.status.idle": "2024-11-14T14:08:51.762312Z",
          "shell.execute_reply.started": "2024-11-14T14:05:56.001849Z",
          "shell.execute_reply": "2024-11-14T14:08:51.761368Z"
        },
        "id": "w3N0r25McGEZ",
        "outputId": "df61717e-5a31-44b7-97e5-e6a362abb823"
      },
      "outputs": [
        {
          "name": "stderr",
          "text": "Setting `pad_token_id` to `eos_token_id`:None for open-end generation.\nSetting `pad_token_id` to `eos_token_id`:None for open-end generation.\n",
          "output_type": "stream"
        },
        {
          "name": "stdout",
          "text": "Summary: The context revolves around tax-related cases in Pakistan, specifically the\nIncome Tax Ordinance, 2001. The key points are:  1. A case (CP No. 2447-L/2022)\ndiscusses the requirements for initiating proceedings under Section 111 of the\nordinance, which deals with unexplained income or assets. 2. The court rules\nthat a separate notice is required under Section 111, and a notice under Section\n122(9) is not enough to initiate proceedings for amendment of assessment. 3.\nAnother case (CP No. 1417/2022) discusses the dismissal of an appeal on the\nground of default, and the court rules that the appellate tribunal can only\ndecide on merits and cannot dismiss the appeal in default. 4. A case (CP No.\n1920/2022) discusses the initiation of proceedings under Section 161 and 205 of\nthe ordinance, which deals with default surcharge, and the court rules that\nthese proceedings can be initiated without complying with the prerequisites of\nSection 177 of the ordinance. 5. The court also discusses the importance of\nefficient tax administration and the need to avoid unnecessary delays in tax\ndispute resolution.\n\nAnswer: Based on the context provided, the implications of Section 177 of the Income Tax\nOrdinance regarding the audit exercise and its relation to Sections 161 and 205\nare as follows:  Section 177 of the ordinance is predominantly related to the\naudit exercise, where the commissioner may call for any record or documents,\nincluding books of account maintained under this ordinance for conducting an\naudit of the income tax affairs of a person. However, the proviso to sub-section\n(1) clarified that no record shall be called after expiry of six years from the\nend of the tax year to which they relate.  The learned counsel for the\npetitioner argued that the orders under Sections 161 and 205 of the ordinance\ncannot be passed without initiating proceedings under Section 177 of the\nordinance, which is a precondition before taking any adverse action under\nSections 161 and 205.  However, the court in the case of CP No. 1920/2022\n(Islamabad Electric Supply Company Limited vs. The Appellate Tribunal Inland\nRevenue) held that the legislature has not put into effect any precondition\nunder Section 177 of the ordinance to embark on an audit exercise first, and\nthen start off proceedings under Section 161 of the ordinance. The court further\nstated that the intention of the legislature must be discovered from the words\nused, and if the words used are capable of one construction only, then it would\nnot be open to the courts to adopt any other hypothetical construction.\nTherefore, the court concluded that the action under Sections 161 and 205 of the\nordinance can be initiated without complying with the prerequisites of Section\n177 of the ordinance.  The cases that can be referenced for this are:  * CP No.\n1920/2022 (Islamabad Electric Supply Company Limited vs. The Appellate Tribunal\nInland Revenue)\ntime: 2min 55s (started: 2024-11-14 14:05:56 +00:00)\n",
          "output_type": "stream"
        }
      ],
      "execution_count": null
    },
    {
      "cell_type": "markdown",
      "source": [
        "### **7. RAG with second LLM: Mistral (Ensemble Retriever, Reordering Context, Summary Inclusion)**"
      ],
      "metadata": {
        "id": "XPzxNYd1cGEZ"
      }
    },
    {
      "cell_type": "code",
      "source": [
        "# Note: The default behavior now has injection attack prevention off.\n",
        "\n",
        "tokenizer2 = AutoTokenizer.from_pretrained(\"mistralai/Mistral-7B-Instruct-v0.3\", trust_remote_code=True)\n",
        "\n",
        "\n",
        "model2 = AutoModelForCausalLM.from_pretrained(\n",
        "\n",
        "    \"mistralai/Mistral-7B-Instruct-v0.3\",\n",
        "\n",
        "    device_map=\"auto\",\n",
        "\n",
        "    trust_remote_code=True,\n",
        "\n",
        "    torch_dtype=torch.bfloat16,\n",
        "\n",
        "    quantization_config=BitsAndBytesConfig(load_in_8bit=True)\n",
        "\n",
        ").eval()"
      ],
      "metadata": {
        "trusted": true,
        "execution": {
          "iopub.status.busy": "2024-11-14T14:49:47.768292Z",
          "iopub.execute_input": "2024-11-14T14:49:47.768997Z",
          "iopub.status.idle": "2024-11-14T14:56:41.798495Z",
          "shell.execute_reply.started": "2024-11-14T14:49:47.768957Z",
          "shell.execute_reply": "2024-11-14T14:56:41.797436Z"
        },
        "colab": {
          "referenced_widgets": [
            "d4a2b814027049aba63b183e10d0049e",
            "baacc587e1b2400687ba9644b281bd1f",
            "1d98b7fefc1f4711a3420cfea949d803",
            "b4bb19918d404a5095ca45847bdf4e71",
            "18ca6bdc9afc419996d754a8bbb2ac6f",
            "3a69387712b4435995937a92c602bb2f",
            "83084bd46b4c47829d9fb750496109c7",
            "cb719f545d5c43cc83c2101b9ef80775",
            "3df640ed3b5d400dbb38af1362a982ee",
            "d1f2378629d149b1948546f00b09f08f",
            "4b2f1e10ac5a45c1a90e2c9ad1d22e2e",
            "259735627b0c407b87e606cb969f41e0"
          ]
        },
        "id": "74QLH3sxcGEZ",
        "outputId": "ecf1c375-4767-4972-d16a-97bcea1ef019"
      },
      "outputs": [
        {
          "output_type": "display_data",
          "data": {
            "text/plain": "tokenizer_config.json:   0%|          | 0.00/141k [00:00<?, ?B/s]",
            "application/vnd.jupyter.widget-view+json": {
              "version_major": 2,
              "version_minor": 0,
              "model_id": "d4a2b814027049aba63b183e10d0049e"
            }
          },
          "metadata": {}
        },
        {
          "output_type": "display_data",
          "data": {
            "text/plain": "tokenizer.model:   0%|          | 0.00/587k [00:00<?, ?B/s]",
            "application/vnd.jupyter.widget-view+json": {
              "version_major": 2,
              "version_minor": 0,
              "model_id": "baacc587e1b2400687ba9644b281bd1f"
            }
          },
          "metadata": {}
        },
        {
          "output_type": "display_data",
          "data": {
            "text/plain": "tokenizer.json:   0%|          | 0.00/1.96M [00:00<?, ?B/s]",
            "application/vnd.jupyter.widget-view+json": {
              "version_major": 2,
              "version_minor": 0,
              "model_id": "1d98b7fefc1f4711a3420cfea949d803"
            }
          },
          "metadata": {}
        },
        {
          "output_type": "display_data",
          "data": {
            "text/plain": "special_tokens_map.json:   0%|          | 0.00/414 [00:00<?, ?B/s]",
            "application/vnd.jupyter.widget-view+json": {
              "version_major": 2,
              "version_minor": 0,
              "model_id": "b4bb19918d404a5095ca45847bdf4e71"
            }
          },
          "metadata": {}
        },
        {
          "output_type": "display_data",
          "data": {
            "text/plain": "config.json:   0%|          | 0.00/601 [00:00<?, ?B/s]",
            "application/vnd.jupyter.widget-view+json": {
              "version_major": 2,
              "version_minor": 0,
              "model_id": "18ca6bdc9afc419996d754a8bbb2ac6f"
            }
          },
          "metadata": {}
        },
        {
          "output_type": "display_data",
          "data": {
            "text/plain": "model.safetensors.index.json:   0%|          | 0.00/23.9k [00:00<?, ?B/s]",
            "application/vnd.jupyter.widget-view+json": {
              "version_major": 2,
              "version_minor": 0,
              "model_id": "3a69387712b4435995937a92c602bb2f"
            }
          },
          "metadata": {}
        },
        {
          "output_type": "display_data",
          "data": {
            "text/plain": "Downloading shards:   0%|          | 0/3 [00:00<?, ?it/s]",
            "application/vnd.jupyter.widget-view+json": {
              "version_major": 2,
              "version_minor": 0,
              "model_id": "83084bd46b4c47829d9fb750496109c7"
            }
          },
          "metadata": {}
        },
        {
          "output_type": "display_data",
          "data": {
            "text/plain": "model-00001-of-00003.safetensors:   0%|          | 0.00/4.95G [00:00<?, ?B/s]",
            "application/vnd.jupyter.widget-view+json": {
              "version_major": 2,
              "version_minor": 0,
              "model_id": "cb719f545d5c43cc83c2101b9ef80775"
            }
          },
          "metadata": {}
        },
        {
          "output_type": "display_data",
          "data": {
            "text/plain": "model-00002-of-00003.safetensors:   0%|          | 0.00/5.00G [00:00<?, ?B/s]",
            "application/vnd.jupyter.widget-view+json": {
              "version_major": 2,
              "version_minor": 0,
              "model_id": "3df640ed3b5d400dbb38af1362a982ee"
            }
          },
          "metadata": {}
        },
        {
          "output_type": "display_data",
          "data": {
            "text/plain": "model-00003-of-00003.safetensors:   0%|          | 0.00/4.55G [00:00<?, ?B/s]",
            "application/vnd.jupyter.widget-view+json": {
              "version_major": 2,
              "version_minor": 0,
              "model_id": "d1f2378629d149b1948546f00b09f08f"
            }
          },
          "metadata": {}
        },
        {
          "output_type": "display_data",
          "data": {
            "text/plain": "Loading checkpoint shards:   0%|          | 0/3 [00:00<?, ?it/s]",
            "application/vnd.jupyter.widget-view+json": {
              "version_major": 2,
              "version_minor": 0,
              "model_id": "4b2f1e10ac5a45c1a90e2c9ad1d22e2e"
            }
          },
          "metadata": {}
        },
        {
          "output_type": "display_data",
          "data": {
            "text/plain": "generation_config.json:   0%|          | 0.00/116 [00:00<?, ?B/s]",
            "application/vnd.jupyter.widget-view+json": {
              "version_major": 2,
              "version_minor": 0,
              "model_id": "259735627b0c407b87e606cb969f41e0"
            }
          },
          "metadata": {}
        },
        {
          "name": "stdout",
          "text": "time: 6min 54s (started: 2024-11-14 14:49:47 +00:00)\n",
          "output_type": "stream"
        }
      ],
      "execution_count": null
    },
    {
      "cell_type": "markdown",
      "source": [
        "#### **7.1. RAG with Mistral: Generic Query**"
      ],
      "metadata": {
        "id": "bCMejJHycGEZ"
      }
    },
    {
      "cell_type": "code",
      "source": [
        "document_texts = [doc.page_content for doc in documents]\n",
        "\n",
        "bm25_retriever = BM25Retriever.from_texts(\n",
        "    document_texts, metadatas=[{}] * len(document_texts)\n",
        ")\n",
        "\n",
        "ensemble_retriever = EnsembleRetriever(retrievers=[bm25_retriever, vector_store.as_retriever()], weights=[0.5, 0.5])\n",
        "\n",
        "generic_query = '''\n",
        "What was court's judgement on the following income tax case:\n",
        "\n",
        "Case Title: M/s Islamabad Electric Supply Company Limited (IESCO) through its Finance Director Islamabad v. The Appellate Tribunal Inland Revenue (Headquarter), Islamabad through its Chairman Islamabad and others\n",
        "\n",
        "Case No: C.P.L.A.1920/2022\n",
        "'''\n",
        "\n",
        "generic_query=generic_query.lower()\n",
        "\n",
        "ensemble_context = ensemble_retriever.invoke(generic_query, k=10)\n",
        "\n",
        "# Reordering\n",
        "reordering = LongContextReorder()\n",
        "reordered_context_text = reordering.transform_documents(ensemble_context)\n",
        "\n",
        "summary_prompt = f\"\"\"\n",
        "context:\n",
        "{reordered_context_text}\n",
        "\n",
        "Provide a concise summary of the key points from the above context. Do not reference the query.\n",
        "\"\"\"\n",
        "\n",
        "# Summary\n",
        "pipe = pipeline(\"text-generation\", model=model2, tokenizer=tokenizer2)\n",
        "generation_args = {\n",
        "    \"max_new_tokens\": 500,\n",
        "    \"return_full_text\": False,\n",
        "    \"temperature\": 0.0,\n",
        "    \"do_sample\": False\n",
        "}\n",
        "\n",
        "messages_summary = [{\"role\": \"user\", \"content\": summary_prompt}]\n",
        "summary_output = pipe(messages_summary, **generation_args)\n",
        "summary_text = summary_output[0]['generated_text']\n",
        "\n",
        "print(\"Summary:\", textwrap.fill(summary_text, width=80))\n",
        "print()\n",
        "\n",
        "# Answer query\n",
        "answer_prompt = f\"\"\"\n",
        "Initial Summary:\n",
        "{summary_text}\n",
        "\n",
        "context:\n",
        "{reordered_context_text}\n",
        "\n",
        "Suppose you're a legal expert. Based on both the initial summary and the detailed context above, answer the following query:\n",
        "\n",
        "{generic_query}\n",
        "\n",
        "Note: Only use the summary and context above to answer the query. Not all details may be necessary, so only refer to relevant points to answer the query.\n",
        "\n",
        "If the context is insufficient to fully answer the query, respond with \"I don't know as I don't have sufficient context!\" and state why.\n",
        "\"\"\"\n",
        "\n",
        "messages_answer = [{\"role\": \"user\", \"content\": answer_prompt}]\n",
        "output_answer = pipe(messages_answer, **generation_args)\n",
        "\n",
        "print(\"Answer:\", textwrap.fill(output_answer[0]['generated_text'], width=80))"
      ],
      "metadata": {
        "trusted": true,
        "execution": {
          "iopub.status.busy": "2024-11-14T14:57:01.603320Z",
          "iopub.execute_input": "2024-11-14T14:57:01.603720Z",
          "iopub.status.idle": "2024-11-14T14:59:52.494358Z",
          "shell.execute_reply.started": "2024-11-14T14:57:01.603681Z",
          "shell.execute_reply": "2024-11-14T14:59:52.493461Z"
        },
        "id": "YZCtU3wYcGEa",
        "outputId": "6a9ebff2-20ca-49df-e5e1-19d0b1f4b6bb"
      },
      "outputs": [
        {
          "name": "stderr",
          "text": "Setting `pad_token_id` to `eos_token_id`:None for open-end generation.\nStarting from v4.46, the `logits` model output will have the same type as the model (except at train time, where it will always be FP32)\nSetting `pad_token_id` to `eos_token_id`:None for open-end generation.\n",
          "output_type": "stream"
        },
        {
          "name": "stdout",
          "text": "Summary:  The case involves a dispute between Islamabad Electric Supply Company Limited\n(IESCO) and the Appellate Tribunal Inland Revenue (Headquarter), Islamabad,\nregarding income tax demands for the years 2007 to 2012. The petitioner argues\nthat the lower courts failed to consider that orders under sections 161 and 205\nof the Income Tax Ordinance 2001 cannot be passed without initiating proceedings\nunder section 177 of the ordinance, which is a precondition before taking any\nadverse action. The petitioner also contends that the impugned orders are based\non assumptions and guesswork, and that the petitioner was imposed a tax\nliability without any definite information, leading to double taxation. The case\nrevolves around the question of law: whether under the facts and circumstances\nof the case, the respondent no.1 was justified to hold proceedings and pass\norders under section 161/205 without proceedings under section 177 of the Income\nTax Ordinance 2001. The case is currently under appeal.\n\nAnswer:  The court's judgment on the income tax case titled \"m/s Islamabad Electric\nSupply Company Limited (IESCO) through its finance director Islamabad v. the\nAppellate Tribunal Inland Revenue (Headquarter), Islamabad through its chairman\nIslamabad and others\" (case no: c.p.l.a.1920/2022) was not provided in the\ncontext. However, it is mentioned that the case revolves around the question of\nlaw: whether under the facts and circumstances of the case, the respondent no.1\nwas justified to hold proceedings and pass orders under section 161/205 without\nproceedings under section 177 of the Income Tax Ordinance 2001. The court framed\na common question of law in the reference applications to resolve the difference\nof opinion on this matter.\ntime: 2min 50s (started: 2024-11-14 14:57:01 +00:00)\n",
          "output_type": "stream"
        }
      ],
      "execution_count": null
    },
    {
      "cell_type": "markdown",
      "source": [
        "#### **7.2. RAG with Mistral: Specific Query**"
      ],
      "metadata": {
        "id": "KJqLA0dlcGEa"
      }
    },
    {
      "cell_type": "code",
      "source": [
        "document_texts = [doc.page_content for doc in documents]\n",
        "\n",
        "bm25_retriever = BM25Retriever.from_texts(\n",
        "    document_texts, metadatas=[{}] * len(document_texts)\n",
        ")\n",
        "\n",
        "ensemble_retriever = EnsembleRetriever(retrievers=[bm25_retriever, vector_store.as_retriever()], weights=[0.5, 0.5])\n",
        "\n",
        "specific_query='''\n",
        "\n",
        "What are the implications of Section 177 of the Income Tax Ordinance regarding the audit exercise and its relation to Sections 161 and 205? Use the following case for reference:\n",
        "\n",
        "Case Title: M/s Islamabad Electric Supply Company Limited (IESCO) through its Finance Director Islamabad v. The Appellate Tribunal Inland Revenue (Headquarter), Islamabad through its Chairman Islamabad and others\n",
        "\n",
        "Case No: C.P.L.A.1920/2022\n",
        "\n",
        "'''\n",
        "\n",
        "specific_query=specific_query.lower()\n",
        "\n",
        "ensemble_context = ensemble_retriever.invoke(specific_query, k=10)\n",
        "\n",
        "# Reordering\n",
        "reordering = LongContextReorder()\n",
        "reordered_context_text = reordering.transform_documents(ensemble_context)\n",
        "\n",
        "summary_prompt = f\"\"\"\n",
        "context:\n",
        "{reordered_context_text}\n",
        "\n",
        "Provide a concise summary of the key points from the above context. Do not reference the query.\n",
        "\"\"\"\n",
        "\n",
        "# Summary\n",
        "pipe = pipeline(\"text-generation\", model=model2, tokenizer=tokenizer2)\n",
        "generation_args = {\n",
        "    \"max_new_tokens\": 500,\n",
        "    \"return_full_text\": False,\n",
        "    \"temperature\": 0.0,\n",
        "    \"do_sample\": False\n",
        "}\n",
        "\n",
        "messages_summary = [{\"role\": \"user\", \"content\": summary_prompt}]\n",
        "summary_output = pipe(messages_summary, **generation_args)\n",
        "summary_text = summary_output[0]['generated_text']\n",
        "\n",
        "print(\"Summary:\", textwrap.fill(summary_text, width=80))\n",
        "print()\n",
        "\n",
        "# Answer query\n",
        "answer_prompt = f\"\"\"\n",
        "Initial Summary:\n",
        "{summary_text}\n",
        "\n",
        "context:\n",
        "{reordered_context_text}\n",
        "\n",
        "Suppose you're a legal expert. Based on both the initial summary and the detailed context above, answer the following query:\n",
        "\n",
        "{specific_query}\n",
        "\n",
        "Note: Only use the summary and context above to answer the query. Not all details may be necessary, so only refer to relevant points to answer the query.\n",
        "\n",
        "If the context is insufficient to fully answer the query, respond with \"I don't know as I don't have sufficient context!\" and state why.\n",
        "\"\"\"\n",
        "\n",
        "messages_answer = [{\"role\": \"user\", \"content\": answer_prompt}]\n",
        "output_answer = pipe(messages_answer, **generation_args)\n",
        "\n",
        "print(\"Answer:\", textwrap.fill(output_answer[0]['generated_text'], width=80))"
      ],
      "metadata": {
        "trusted": true,
        "execution": {
          "iopub.status.busy": "2024-11-14T15:00:29.118752Z",
          "iopub.execute_input": "2024-11-14T15:00:29.119143Z",
          "iopub.status.idle": "2024-11-14T15:03:46.725222Z",
          "shell.execute_reply.started": "2024-11-14T15:00:29.119105Z",
          "shell.execute_reply": "2024-11-14T15:03:46.724224Z"
        },
        "id": "tdPGM602cGEa",
        "outputId": "bbb456ac-7077-4d92-b99d-4777a5fb112c"
      },
      "outputs": [
        {
          "name": "stderr",
          "text": "Setting `pad_token_id` to `eos_token_id`:None for open-end generation.\nSetting `pad_token_id` to `eos_token_id`:None for open-end generation.\n",
          "output_type": "stream"
        },
        {
          "name": "stdout",
          "text": "Summary:  The case involves a dispute between Islamabad Electric Supply Company Limited\n(IESCO) and the Appellate Tribunal Inland Revenue (Headquarter), Islamabad,\nregarding income tax demands for the years 2007 to 2012. The petitioner argues\nthat the lower courts failed to consider that orders under sections 161 and 205\nof the Income Tax Ordinance 2001 cannot be passed without initiating proceedings\nunder section 177 of the ordinance, which is a precondition before taking any\nadverse action. The High Court framed a common question of law to resolve the\ndifference of opinion: whether under the facts and circumstances of the case,\nwas the respondent justified to hold proceedings and pass orders under section\n161/205 without proceedings under section 177 of the Income Tax Ordinance 2001?\nThe court's judgment concluded that the course of action and benchmark\nenumerated under section 161 of the ordinance is not contingent upon the\ncompliance of pre-audit requirements mentioned under section 177, and both\nprovisions are independent with self-governing corollaries. The court dismissed\nthe civil petitions and refused leave.\n\nAnswer:  Section 177 of the Income Tax Ordinance 2001 is primarily related to the audit\nexercise, whereby the commissioner may call for any record or documents,\nincluding books of account, for conducting an audit of the income tax affairs of\na person. However, the court in the case of m/s Islamabad Electric Supply\nCompany Limited (IESCO) v. the Appellate Tribunal Inland Revenue (Headquarter),\nIslamabad, held that the course of action and benchmark enumerated under section\n161 of the ordinance is not contingent upon the compliance of pre-audit\nrequirements mentioned under section 177. This means that sections 161 and 177\nare independent provisions with self-governing corollaries, and the former does\nnot require the latter for its execution. Therefore, the implications of section\n177 regarding the relation to sections 161 and 205 are that they are separate\nprovisions, and the compliance of section 177 is not a precondition for the\nexecution of sections 161 and 205.\ntime: 3min 17s (started: 2024-11-14 15:00:29 +00:00)\n",
          "output_type": "stream"
        }
      ],
      "execution_count": null
    },
    {
      "cell_type": "markdown",
      "source": [
        "#### **7.3. RAG with Mistral: Completely Generic Query**"
      ],
      "metadata": {
        "id": "q7WkJ2QTcGEa"
      }
    },
    {
      "cell_type": "code",
      "source": [
        "document_texts = [doc.page_content for doc in documents]\n",
        "\n",
        "bm25_retriever = BM25Retriever.from_texts(\n",
        "    document_texts, metadatas=[{}] * len(document_texts)\n",
        ")\n",
        "\n",
        "ensemble_retriever = EnsembleRetriever(retrievers=[bm25_retriever, vector_store.as_retriever()], weights=[0.5, 0.5])\n",
        "\n",
        "completely_generic_query='''\n",
        "\n",
        "What are the implications of Section 177 of the Income Tax Ordinance regarding the audit exercise and its relation to Sections 161 and 205?\n",
        "\n",
        "Which cases can you reference for this?\n",
        "\n",
        "'''\n",
        "\n",
        "completely_generic_query=completely_generic_query.lower()\n",
        "\n",
        "ensemble_context = ensemble_retriever.invoke(completely_generic_query, k=10)\n",
        "\n",
        "# Reordering\n",
        "reordering = LongContextReorder()\n",
        "reordered_context_text = reordering.transform_documents(ensemble_context)\n",
        "\n",
        "summary_prompt = f\"\"\"\n",
        "context:\n",
        "{reordered_context_text}\n",
        "\n",
        "Provide a concise summary of the key points from the above context. Do not reference the query.\n",
        "\"\"\"\n",
        "\n",
        "# Summary\n",
        "pipe = pipeline(\"text-generation\", model=model2, tokenizer=tokenizer2)\n",
        "generation_args = {\n",
        "    \"max_new_tokens\": 500,\n",
        "    \"return_full_text\": False,\n",
        "    \"temperature\": 0.0,\n",
        "    \"do_sample\": False\n",
        "}\n",
        "\n",
        "messages_summary = [{\"role\": \"user\", \"content\": summary_prompt}]\n",
        "summary_output = pipe(messages_summary, **generation_args)\n",
        "summary_text = summary_output[0]['generated_text']\n",
        "\n",
        "print(\"Summary:\", textwrap.fill(summary_text, width=80))\n",
        "print()\n",
        "\n",
        "# Answer query\n",
        "answer_prompt = f\"\"\"\n",
        "Initial Summary:\n",
        "{summary_text}\n",
        "\n",
        "context:\n",
        "{reordered_context_text}\n",
        "\n",
        "Suppose you're a legal expert. Based on both the initial summary and the detailed context above, answer the following query:\n",
        "\n",
        "{completely_generic_query}\n",
        "\n",
        "Note: Only use the summary and context above to answer the query. Not all details may be necessary, so only refer to relevant points to answer the query.\n",
        "\n",
        "If the context is insufficient to fully answer the query, respond with \"I don't know as I don't have sufficient context!\" and state why.\n",
        "\"\"\"\n",
        "\n",
        "messages_answer = [{\"role\": \"user\", \"content\": answer_prompt}]\n",
        "output_answer = pipe(messages_answer, **generation_args)\n",
        "\n",
        "print(\"Answer:\", textwrap.fill(output_answer[0]['generated_text'], width=80))"
      ],
      "metadata": {
        "trusted": true,
        "execution": {
          "iopub.status.busy": "2024-11-14T15:04:17.391161Z",
          "iopub.execute_input": "2024-11-14T15:04:17.391912Z",
          "iopub.status.idle": "2024-11-14T15:08:04.548041Z",
          "shell.execute_reply.started": "2024-11-14T15:04:17.391871Z",
          "shell.execute_reply": "2024-11-14T15:08:04.547061Z"
        },
        "id": "jmfQgOULcGEa",
        "outputId": "8680a6f6-afac-4f91-977c-94c63cead1bd"
      },
      "outputs": [
        {
          "name": "stderr",
          "text": "Setting `pad_token_id` to `eos_token_id`:None for open-end generation.\nSetting `pad_token_id` to `eos_token_id`:None for open-end generation.\n",
          "output_type": "stream"
        },
        {
          "name": "stdout",
          "text": "Summary:  The context consists of several court judgments related to income tax laws in\nPakistan. The main points discussed in the judgments are:  1. In the case of\nCommissioner Inland Revenue, Lahore v. M/s Millat Tractors Limited, the court\ndiscusses the requirements for initiating proceedings for amendment of\nassessments under section 122 of the ordinance based on information obtained\nunder section 111. The court holds that a separate notice under section 111 is\nrequired before initiating proceedings under section 122.  2. In the case of\nFarrukh Raza Sheikh v. The Appellate Tribunal Inland Revenue, the court\ndiscusses the power of the Appellate Tribunal to dismiss an appeal in default of\nappearance. The court notes that the power of the tribunal is confined to\ndeciding on the merits of the appeal and that dismissal for default of\nappearance is not allowed.  3. In the case of Farrukh Raza Sheikh v. The\nAppellate Tribunal Inland Revenue, the court also discusses section 132(2) of\nthe ordinance, which empowers the tribunal to decide appeals on merits and\navoids unnecessary delays in tax dispute resolution.  4. In the case of M/s\nIslamabad Electric Supply Company Limited (IESCO) v. The Appellate Tribunal\nInland Revenue (Headquarter), the court discusses the provisions of sections 177\nand 205 of the ordinance related to audit exercises and default surcharges. The\ncourt holds that there is no precondition under section 177 for embarking on an\naudit exercise before starting proceedings under section 161 of the ordinance.\n\nAnswer:  Section 177 of the income tax ordinance does not put into effect any\nprecondition for embarking on an audit exercise before starting proceedings\nunder section 161 or 205. The cases that can be referenced for this are M/s\nIslamabad Electric Supply Company Limited (IESCO) v. The Appellate Tribunal\nInland Revenue (Headquarter), Islamabad through its chairman, Islamabad and\nothers. In this case, it was held that the legislature did not require any\nprecondition under section 177 of the ordinance to embark on an audit exercise\nfirst, and then start off proceedings under section 161 or 205.\ntime: 3min 47s (started: 2024-11-14 15:04:17 +00:00)\n",
          "output_type": "stream"
        }
      ],
      "execution_count": null
    },
    {
      "cell_type": "markdown",
      "source": [
        "#### **LlaMa Wins**\n",
        "\n",
        "LLaMA consistently outperforms Mistral in delivering comprehensive, relevant, and accurate responses. It excels in addressing queries thoroughly, maintaining focus on the context, and accurately interpreting legal and procedural details. For instance, in analyzing Section 177 of the Income Tax Ordinance and its relationship to Sections 161 and 205, LLaMA provided detailed explanations, cited case references (CP No. 1920/2022), and clarified legislative intent, showcasing its superior capability for complex queries. This makes LLaMA the preferred choice for reliable and detailed responses."
      ],
      "metadata": {
        "id": "5Lsjb_14cGEb"
      }
    },
    {
      "cell_type": "markdown",
      "source": [
        "### **8. Final RAG Evaluation**"
      ],
      "metadata": {
        "id": "-f1-_4FIcGEb"
      }
    },
    {
      "cell_type": "markdown",
      "source": [
        "#### **8.1. Generic Query**"
      ],
      "metadata": {
        "id": "VvX-Vbg4cGEc"
      }
    },
    {
      "cell_type": "code",
      "source": [
        "document_texts = [doc.page_content for doc in documents]\n",
        "\n",
        "bm25_retriever = BM25Retriever.from_texts(\n",
        "    document_texts, metadatas=[{}] * len(document_texts)\n",
        ")\n",
        "\n",
        "ensemble_retriever = EnsembleRetriever(retrievers=[bm25_retriever, vector_store.as_retriever()], weights=[0.5, 0.5])\n",
        "\n",
        "generic_query = '''\n",
        "What was court's judgement on the following income tax case:\n",
        "\n",
        "Case Title: Farrukh Raza Sheikh v. The Appellate Tribunal Inland Revenue, Lahore Bench through its Chairman and others\n",
        "\n",
        "Case No: C.P.L.A.1417/2022\n",
        "'''\n",
        "\n",
        "generic_query=generic_query.lower()\n",
        "\n",
        "ensemble_context = ensemble_retriever.invoke(generic_query, k=10)\n",
        "\n",
        "# Reordering\n",
        "reordering = LongContextReorder()\n",
        "reordered_context_text = reordering.transform_documents(ensemble_context)\n",
        "\n",
        "summary_prompt = f\"\"\"\n",
        "context:\n",
        "{reordered_context_text}\n",
        "\n",
        "Provide a concise summary of the key points from the above context. Do not reference the query.\n",
        "\"\"\"\n",
        "\n",
        "# Summary\n",
        "pipe = pipeline(\"text-generation\", model=model, tokenizer=tokenizer)\n",
        "generation_args = {\n",
        "    \"max_new_tokens\": 500,\n",
        "    \"return_full_text\": False,\n",
        "    \"temperature\": 0.0,\n",
        "    \"do_sample\": False\n",
        "}\n",
        "\n",
        "messages_summary = [{\"role\": \"user\", \"content\": summary_prompt}]\n",
        "summary_output = pipe(messages_summary, **generation_args)\n",
        "summary_text = summary_output[0]['generated_text']\n",
        "\n",
        "print(\"Summary:\", textwrap.fill(summary_text, width=80))\n",
        "print()\n",
        "\n",
        "# Answer query\n",
        "answer_prompt = f\"\"\"\n",
        "Initial Summary:\n",
        "{summary_text}\n",
        "\n",
        "context:\n",
        "{reordered_context_text}\n",
        "\n",
        "Suppose you're a legal expert. Based on both the initial summary and the detailed context above, answer the following query:\n",
        "\n",
        "{generic_query}\n",
        "\n",
        "Note: Only use the summary and context above to answer the query. Not all details may be necessary, so only refer to relevant points to answer the query.\n",
        "\n",
        "If the context is insufficient to fully answer the query, respond with \"I don't know as I don't have sufficient context!\" and state why.\n",
        "\"\"\"\n",
        "\n",
        "messages_answer = [{\"role\": \"user\", \"content\": answer_prompt}]\n",
        "output_answer = pipe(messages_answer, **generation_args)\n",
        "\n",
        "print(\"Answer:\", textwrap.fill(output_answer[0]['generated_text'], width=80))"
      ],
      "metadata": {
        "trusted": true,
        "execution": {
          "iopub.status.busy": "2024-11-16T20:32:31.137227Z",
          "iopub.execute_input": "2024-11-16T20:32:31.137616Z",
          "iopub.status.idle": "2024-11-16T20:34:41.291781Z",
          "shell.execute_reply.started": "2024-11-16T20:32:31.137578Z",
          "shell.execute_reply": "2024-11-16T20:34:41.290824Z"
        },
        "id": "wdqsSTDkcGEc",
        "outputId": "4fdb692b-44e8-4b4f-f5f0-9aa46097712e"
      },
      "outputs": [
        {
          "name": "stderr",
          "text": "Setting `pad_token_id` to `eos_token_id`:None for open-end generation.\nStarting from v4.46, the `logits` model output will have the same type as the model (except at train time, where it will always be FP32)\nSetting `pad_token_id` to `eos_token_id`:None for open-end generation.\n",
          "output_type": "stream"
        },
        {
          "name": "stdout",
          "text": "Summary: Here's a concise summary of the key points:  The case revolves around the powers\nof the Appellate Tribunal Inland Revenue (Tribunal) in deciding tax appeals. The\nkey points are:  1. The jurisprudence in the subcontinent has consistently held\nthat the Tribunal must decide tax appeals on merits and not dismiss them in\ndefault. 2. The Income Tax Act, 1922, and its corresponding sections, such as\nSection 33(4), emphasize the Tribunal's obligation to decide appeals on merits.\n3. The case of Chenniappa Mudaliar v. Commr. of Inc.-Tax (1964) 53 ITR 323, and\nits subsequent upholding by the Supreme Court of India, established that the\nTribunal cannot dismiss an appeal in default, as it would put an end to the\nappeal and prevent the High Court from performing its statutory duty of hearing\nthe tax reference. 4. The Appellate Tribunal Inland Revenue Rules, 2010, Rule\n22(1), allows for the dismissal of tax appeals in default, which is challenged\nas being ultra vires Section 132(2) of the Income Tax Ordinance, 2001. 5. The\ncase highlights the importance of good tax governance and the need for the\nTribunal to decide tax appeals on merits to prevent protracted litigation and\nhelp taxpayers navigate the tax process.\n\nAnswer: Based on the provided context, the court's judgment in the case of Farrukh Raza\nSheikh v. The Appellate Tribunal Inland Revenue, Lahore Bench through its\nChairman and others (Case No: c.p.l.a.1417/2022) was that Rule 22(1) of the\nAppellate Tribunal Inland Revenue Rules, 2010, which allows for the dismissal of\ntax appeals in default, is ultra vires Section 132(2) of the Income Tax\nOrdinance, 2001.  This means that the court held that the Appellate Tribunal\nInland Revenue cannot dismiss tax appeals in default, as it would be against the\nprovisions of the Income Tax Ordinance, 2001. The court's decision is based on\nthe jurisprudence that the Appellate Tribunal must decide tax appeals on merits\nand not dismiss them in default, as established by the case of Chenniappa\nMudaliar v. Commr. of Inc.-Tax (1964) 53 ITR 323 and its subsequent upholding by\nthe Supreme Court of India.\ntime: 2min 10s (started: 2024-11-16 20:32:31 +00:00)\n",
          "output_type": "stream"
        }
      ],
      "execution_count": null
    },
    {
      "cell_type": "markdown",
      "source": [
        "#### **8.2. Specific Query**"
      ],
      "metadata": {
        "id": "BbChhC6McGEc"
      }
    },
    {
      "cell_type": "code",
      "source": [
        "document_texts = [doc.page_content for doc in documents]\n",
        "\n",
        "bm25_retriever = BM25Retriever.from_texts(\n",
        "    document_texts, metadatas=[{}] * len(document_texts)\n",
        ")\n",
        "\n",
        "ensemble_retriever = EnsembleRetriever(retrievers=[bm25_retriever, vector_store.as_retriever()], weights=[0.5, 0.5])\n",
        "\n",
        "specific_query='''\n",
        "\n",
        "What are the constitutional implications of not advertising honorary public positions like the COC slots, as discussed in the following case:\n",
        "\n",
        "Case Title: Pakistan Electronic Media Regulatory Authority, Islamabad & another v. ARY Communications Limited, Karachi & others\n",
        "\n",
        "Case No: C.P.L.A.1716/2022\n",
        "\n",
        "\n",
        "'''\n",
        "\n",
        "specific_query=specific_query.lower()\n",
        "\n",
        "ensemble_context = ensemble_retriever.invoke(specific_query, k=10)\n",
        "\n",
        "# Reordering\n",
        "reordering = LongContextReorder()\n",
        "reordered_context_text = reordering.transform_documents(ensemble_context)\n",
        "\n",
        "summary_prompt = f\"\"\"\n",
        "context:\n",
        "{reordered_context_text}\n",
        "\n",
        "Provide a concise summary of the key points from the above context. Do not reference the query.\n",
        "\"\"\"\n",
        "\n",
        "# Summary\n",
        "pipe = pipeline(\"text-generation\", model=model, tokenizer=tokenizer)\n",
        "generation_args = {\n",
        "    \"max_new_tokens\": 500,\n",
        "    \"return_full_text\": False,\n",
        "    \"temperature\": 0.0,\n",
        "    \"do_sample\": False\n",
        "}\n",
        "\n",
        "messages_summary = [{\"role\": \"user\", \"content\": summary_prompt}]\n",
        "summary_output = pipe(messages_summary, **generation_args)\n",
        "summary_text = summary_output[0]['generated_text']\n",
        "\n",
        "print(\"Summary:\", textwrap.fill(summary_text, width=80))\n",
        "print()\n",
        "\n",
        "# Answer query\n",
        "answer_prompt = f\"\"\"\n",
        "Initial Summary:\n",
        "{summary_text}\n",
        "\n",
        "context:\n",
        "{reordered_context_text}\n",
        "\n",
        "Suppose you're a legal expert. Based on both the initial summary and the detailed context above, answer the following query:\n",
        "\n",
        "{specific_query}\n",
        "\n",
        "Note: Only use the summary and context above to answer the query. Not all details may be necessary, so only refer to relevant points to answer the query.\n",
        "\n",
        "If the context is insufficient to fully answer the query, respond with \"I don't know as I don't have sufficient context!\" and state why.\n",
        "\"\"\"\n",
        "\n",
        "messages_answer = [{\"role\": \"user\", \"content\": answer_prompt}]\n",
        "output_answer = pipe(messages_answer, **generation_args)\n",
        "\n",
        "print(\"Answer:\", textwrap.fill(output_answer[0]['generated_text'], width=80))"
      ],
      "metadata": {
        "trusted": true,
        "execution": {
          "iopub.status.busy": "2024-11-16T20:37:52.599792Z",
          "iopub.execute_input": "2024-11-16T20:37:52.600761Z",
          "iopub.status.idle": "2024-11-16T20:40:38.118502Z",
          "shell.execute_reply.started": "2024-11-16T20:37:52.600719Z",
          "shell.execute_reply": "2024-11-16T20:40:38.117412Z"
        },
        "id": "pcph43dWcGEc",
        "outputId": "5beda8c9-05f4-4636-ceed-59c9e26c8c1b"
      },
      "outputs": [
        {
          "name": "stderr",
          "text": "Setting `pad_token_id` to `eos_token_id`:None for open-end generation.\nSetting `pad_token_id` to `eos_token_id`:None for open-end generation.\n",
          "output_type": "stream"
        },
        {
          "name": "stdout",
          "text": "Summary: The key points from the context are as follows:  1. The case revolves around the\nappointment of the chairperson and members of the Council of Complaints (COC) of\nthe Pakistan Electronic Media Regulatory Authority (Pemra). 2. The High Court of\nSindh directed that the appointment of the chairperson and members of the COC\nshould be made after advertising the positions. 3. Pemra has filed a petition\nfor leave to appeal against this direction. 4. The issue at hand is whether\nhonorary appointments to public offices like the COC need to be made after\nadvertising the positions or if the government can headhunt and fill these\nslots. 5. The Pemra Ordinance 2002 requires that the chairperson and members of\nthe COC must be citizens of eminence. 6. The government argues that it would be\ndifficult to find citizens of eminence if the positions are advertised, as they\ndo not usually apply for honorary positions. 7. The court is considering the\nlegislative will and the need to find citizens of eminence to sit on the COC,\nand how to fulfill this requirement through a transparent process. 8. The COC\nplays an important adjudicatory-cum-recommendatory position in regulating\nelectronic media in the country, receiving and reviewing public complaints\nagainst broadcast media and distribution service providers.\n\nAnswer: Based on the context provided, the constitutional implications of not\nadvertising honorary public positions like the COC slots are as follows:  1.\n**Lack of transparency**: The High Court of Sindh directed that the appointment\nof the chairperson and members of the COC should be made after advertising the\npositions. This implies that the court considered advertising to be essential\nfor transparency and accountability in the appointment process. 2. **Potential\nfor favoritism**: If the government is allowed to headhunt and fill these slots\nwithout advertising, it may lead to favoritism and nepotism, undermining the\nintegrity of the COC. 3. **Inconsistent with the legislative will**: The Pemra\nOrdinance 2002 requires that the chairperson and members of the COC must be\ncitizens of eminence. The court is considering how to fulfill this requirement\nthrough a transparent process, suggesting that advertising may be necessary to\nensure that the most qualified and respected individuals are appointed. 4.\n**Potential violation of the right to equality**: If the government is allowed\nto appoint individuals without advertising, it may lead to a situation where\nonly a select few have access to these positions, potentially violating the\nright to equality enshrined in the Constitution. 5. **Implications for the\nindependence of the COC**: The COC plays an important adjudicatory-cum-\nrecommendatory position in regulating electronic media in the country. If the\nappointments are not made through a transparent process, it may compromise the\nindependence and impartiality of the COC.  In the context of the case, the court\nis considering the legislative will and the need to find citizens of eminence to\nsit on the COC, and how to fulfill this requirement through a transparent\nprocess. The court's direction to advertise the positions suggests that it is\nconcerned about ensuring transparency, accountability, and the independence of\nthe COC.\ntime: 2min 45s (started: 2024-11-16 20:37:52 +00:00)\n",
          "output_type": "stream"
        }
      ],
      "execution_count": null
    },
    {
      "cell_type": "markdown",
      "source": [
        "#### **8.3. Completely Generic Query**"
      ],
      "metadata": {
        "id": "HauxKslfcGEd"
      }
    },
    {
      "cell_type": "code",
      "source": [
        "document_texts = [doc.page_content for doc in documents]\n",
        "\n",
        "bm25_retriever = BM25Retriever.from_texts(\n",
        "    document_texts, metadatas=[{}] * len(document_texts)\n",
        ")\n",
        "\n",
        "ensemble_retriever = EnsembleRetriever(retrievers=[bm25_retriever, vector_store.as_retriever()], weights=[0.5, 0.5])\n",
        "\n",
        "completely_generic_query='''\n",
        "\n",
        "Which cases discuss the interplay between procedural transparency, fairness in appointments, and adherence to statutory mandates in public or regulatory bodies?\n",
        "\n",
        "'''\n",
        "\n",
        "completely_generic_query=completely_generic_query.lower()\n",
        "\n",
        "ensemble_context = ensemble_retriever.invoke(completely_generic_query, k=10)\n",
        "\n",
        "# Reordering\n",
        "reordering = LongContextReorder()\n",
        "reordered_context_text = reordering.transform_documents(ensemble_context)\n",
        "\n",
        "summary_prompt = f\"\"\"\n",
        "context:\n",
        "{reordered_context_text}\n",
        "\n",
        "Provide a concise summary of the key points from the above context. Do not reference the query.\n",
        "\"\"\"\n",
        "\n",
        "# Summary\n",
        "pipe = pipeline(\"text-generation\", model=model, tokenizer=tokenizer)\n",
        "generation_args = {\n",
        "    \"max_new_tokens\": 500,\n",
        "    \"return_full_text\": False,\n",
        "    \"temperature\": 0.0,\n",
        "    \"do_sample\": False\n",
        "}\n",
        "\n",
        "messages_summary = [{\"role\": \"user\", \"content\": summary_prompt}]\n",
        "summary_output = pipe(messages_summary, **generation_args)\n",
        "summary_text = summary_output[0]['generated_text']\n",
        "\n",
        "print(\"Summary:\", textwrap.fill(summary_text, width=80))\n",
        "print()\n",
        "\n",
        "# Answer query\n",
        "answer_prompt = f\"\"\"\n",
        "Initial Summary:\n",
        "{summary_text}\n",
        "\n",
        "context:\n",
        "{reordered_context_text}\n",
        "\n",
        "Suppose you're a legal expert. Based on both the initial summary and the detailed context above, answer the following query:\n",
        "\n",
        "{completely_generic_query}\n",
        "\n",
        "Note: Only use the summary and context above to answer the query. Not all details may be necessary, so only refer to relevant points to answer the query.\n",
        "\n",
        "If the context is insufficient to fully answer the query, respond with \"I don't know as I don't have sufficient context!\" and state why.\n",
        "\"\"\"\n",
        "\n",
        "messages_answer = [{\"role\": \"user\", \"content\": answer_prompt}]\n",
        "output_answer = pipe(messages_answer, **generation_args)\n",
        "\n",
        "print(\"Answer:\", textwrap.fill(output_answer[0]['generated_text'], width=80))"
      ],
      "metadata": {
        "trusted": true,
        "execution": {
          "iopub.status.busy": "2024-11-16T20:43:22.698529Z",
          "iopub.execute_input": "2024-11-16T20:43:22.699368Z",
          "iopub.status.idle": "2024-11-16T20:47:19.543003Z",
          "shell.execute_reply.started": "2024-11-16T20:43:22.699330Z",
          "shell.execute_reply": "2024-11-16T20:47:19.542078Z"
        },
        "id": "gpO7JIe7cGEd",
        "outputId": "af6b89a3-e0bc-4a78-961c-3ce1712e3195"
      },
      "outputs": [
        {
          "name": "stderr",
          "text": "Setting `pad_token_id` to `eos_token_id`:None for open-end generation.\nSetting `pad_token_id` to `eos_token_id`:None for open-end generation.\n",
          "output_type": "stream"
        },
        {
          "name": "stdout",
          "text": "Summary: The key points from the context are:  1. **Right to Fair Trial and Dignity**:\nThe right to a fair trial and dignity is a fundamental right, essential for\nhuman dignity, and is guaranteed by Article 10A of the Constitution. 2.\n**Independence and Impartiality**: The independence and impartiality of the\ndecision-maker are essential for a fair trial. 3. **Reasoned Judgment**: A\nreasoned judgment is necessary for a fair trial, and without it, the right to a\nfair trial would be compromised. 4. **Natural Justice**: The philosophy of\nnatural justice requires affording a right of audience before any detrimental\naction is taken. 5. **Vested Rights**: Vested rights are created when\nappointments are made with due process, and these rights cannot be withdrawn in\na perfunctory manner. 6. **Merit-Based Selection**: Merit should be the sole\ncriteria in the selection process for civil servants, and favoritism, nepotism,\nand preferential treatment are inimical to good governance. 7. **Procedural\nLapses**: Procedural lapses in public or governmental work or functions may not\nbe grounds for action unless there is evidence of monetary or material benefit.\n8. **Regulatory Bodies**: Matters decided by or within the jurisdiction of\nregulatory bodies established under federal or provincial laws are not subject\nto judicial review. 9. **Hybrid Electric Vehicles**: Hybrid electric vehicles\ncombine the benefits of high fuel economy and low tailpipe emissions with the\npower and range of conventional vehicles. 10. **Statutory Regulatory Orders**:\nStatutory regulatory orders (SROs) are government regulations disseminated\nthrough delegated powers under the statutory regime, which may grant concessions\nor exemptions, impose taxes, or lay down procedural niceties.\n\nAnswer: Based on the provided context, the following cases discuss the interplay between\nprocedural transparency, fairness in appointments, and adherence to statutory\nmandates in public or regulatory bodies:  1. **Case No: c.p.l.a.183-q/2023\n(Govt. of Balochistan thr. its Secy. Forest and Wildlife Dept., Quetta & another\nv. Ghulam Rasool)**: This case discusses the importance of procedural\ntransparency and fairness in appointments. The court held that the drastic\naction of withdrawing appointments letters and terminating service was carried\nout without issuing any show cause notice and without affording any opportunity\nof hearing to the terminated employees, which is a violation of the principles\nof natural justice.  2. **Case No: c.p.l.a.1716/2022 (Pakistan Electronic Media\nRegulatory Authority, Islamabad & another v. Ary Communications Limited, Karachi\n& others)**: This case emphasizes the importance of transparency, fairness, and\nnon-discrimination in the appointment process. The court held that the highest\nstandards of diligence, transparency, and probity are to be observed so that a\nqualified, eligible, and most deserving person is selected for a post.  3.\n**Case No: c.a.52-k/2022 (The Province of Sindh through Chief Secretary & others\nv. Ghulam Shabbir)**: This case highlights the importance of merit-based\nselection in the appointment process. The court held that merit should be the\nsole criteria in the selection process, and favoritism, nepotism, and\npreferential treatment are inimical to good governance.  4. **Case No:\nc.p.21/2022 (Imran Ahmad Khan Niazi v. Federation of Pakistan through Secretary,\nLaw and Justice Division, Islamabad and another)**: This case discusses the\nscope of judicial review in cases of procedural lapses in public or governmental\nwork or functions. The court held that procedural lapses, unless there is\nevidence to prove that a holder of public office or any other person acting on\nhis behalf has been conferred or has received any monetary or other material\nbenefit, are not grounds for action.  5. **Case No: c.p.l.a.389/2022 (Collector\nof Customs, Model Customs Collectorate, Peshawar v. Wasifullah and another)**:\nThis case provides a general overview of the concept of statutory regulatory\norders (SROs) and their role in disseminating government regulations through\ndelegated powers under the statutory regime. However, it\ntime: 3min 56s (started: 2024-11-16 20:43:22 +00:00)\n",
          "output_type": "stream"
        }
      ],
      "execution_count": null
    },
    {
      "cell_type": "markdown",
      "source": [
        "#### **RAG Strategy Stable and Successful**\n",
        "\n",
        "Applying the final RAG through LlaMa on new judgements of different and similar themes, the outputs and scores turn out to be satisfactory based on the ground truth. The richness of the RAG output itself is also noteworthy. Therefore, the workflow and strategy employed in this project proves stable and successful in the implementation of a judicial RAG for SCP!"
      ],
      "metadata": {
        "id": "WXNuqzJQcGEd"
      }
    },
    {
      "cell_type": "markdown",
      "source": [
        "### **Future Work**"
      ],
      "metadata": {
        "id": "0xZ8if5FIbyC"
      }
    },
    {
      "cell_type": "markdown",
      "source": [
        "* **Metadata Embedding Strategy:** Instead of embedding metadata directly within document chunks, we can first combine the metadata into a single string and embed it separately. Then, for each document, we associate the chunk embeddings with their corresponding metadata embedding (i.e., group chunk embeddings under the same metadata embedding). This approach ensures that when a query is processed, it is first matched with the metadata embedding, and then the most relevant document chunks are retrieved based on this initial match. This strategy improves the matching precision by narrowing the query scope to relevant metadata before diving into document content.\n",
        "\n",
        "\n",
        "\n",
        "* **Self-Querying and Auto-Retrieval for Metadata:** To enhance the search process, a self-querying or auto-retrieval mechanism can be introduced. This mechanism would analyze the user's query and automatically generate and apply relevant metadata tags and filters. If no metadata tags or filters are provided by the user, the system can skip the metadata matching step and directly proceed to matching the query with the document chunk embeddings. This approach enhances flexibility and ensures that the search system can still operate effectively even without explicit metadata input.\n",
        "\n",
        "\n",
        "\n",
        "* **Embedding Model with Large Dimension:** A potential direction for future work is to use an embedding model with higher dimensions, such as 2048 or more, to better capture the complexities of legal texts. Legal documents often involve specialized terminology and context-dependent details, and a richer representation could improve retrieval accuracy. This approach would enhance the system’s ability to handle ambiguous terms and case-specific jargon, leading to more precise and relevant results in legal queries. This will also help address the issue of repeated phrases or terms within legal documents. With a richer representation, the model can better capture the nuances and relationships between repeated phrases, allowing it to differentiate between contexts where the same term is used in different ways.\n",
        "\n",
        "\n",
        "\n",
        "\n",
        "\n"
      ],
      "metadata": {
        "id": "rbGcON1hgMPQ"
      }
    }
  ]
}